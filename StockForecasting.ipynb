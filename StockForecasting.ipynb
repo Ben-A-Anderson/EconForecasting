{
 "cells": [
  {
   "cell_type": "markdown",
   "metadata": {},
   "source": [
    "# Economic Forecasting"
   ]
  },
  {
   "cell_type": "markdown",
   "metadata": {},
   "source": [
    "## Initialization"
   ]
  },
  {
   "cell_type": "markdown",
   "metadata": {},
   "source": [
    "### Package Importing"
   ]
  },
  {
   "cell_type": "code",
   "execution_count": 1,
   "metadata": {
    "ExecuteTime": {
     "end_time": "2020-05-31T21:06:58.205790Z",
     "start_time": "2020-05-31T21:06:54.654384Z"
    }
   },
   "outputs": [],
   "source": [
    "import pandas as pd\n",
    "import numpy as np\n",
    "\n",
    "import pandas_profiling as PP\n",
    "\n",
    "import quandl\n",
    "quandl.read_key()\n",
    "\n",
    "import matplotlib.pyplot as plt\n",
    "%matplotlib inline \n",
    "\n",
    "import plotly"
   ]
  },
  {
   "cell_type": "markdown",
   "metadata": {},
   "source": [
    "### Variable Assignments"
   ]
  },
  {
   "cell_type": "code",
   "execution_count": 2,
   "metadata": {
    "ExecuteTime": {
     "end_time": "2020-05-31T21:06:59.449724Z",
     "start_time": "2020-05-31T21:06:59.445013Z"
    }
   },
   "outputs": [],
   "source": [
    "stock_tickers = ['AAPL','AXP','BA','CAT','CSCO','CVX','DD','DIS','GE','GS','HD','IBM','INTC','JNJ','JPM',\\\n",
    "                 'KO','MCD','MMM','MRK','MSFT','NKE','PFE','PG','TRV','UNH','UTX','V','VZ','WMT','XOM']"
   ]
  },
  {
   "cell_type": "markdown",
   "metadata": {},
   "source": [
    "## Data Importing"
   ]
  },
  {
   "cell_type": "markdown",
   "metadata": {},
   "source": [
    "### Import Stock Market Data"
   ]
  },
  {
   "cell_type": "code",
   "execution_count": 3,
   "metadata": {
    "ExecuteTime": {
     "end_time": "2020-05-31T21:07:03.412313Z",
     "start_time": "2020-05-31T21:07:01.884614Z"
    }
   },
   "outputs": [],
   "source": [
    "stocks2 = quandl.get_table('ZACKS/FC', ticker=stock_tickers, paginate=True)"
   ]
  },
  {
   "cell_type": "code",
   "execution_count": 5,
   "metadata": {
    "ExecuteTime": {
     "end_time": "2020-05-31T21:07:09.699425Z",
     "start_time": "2020-05-31T21:07:09.652298Z"
    }
   },
   "outputs": [
    {
     "data": {
      "text/html": [
       "<div>\n",
       "<style scoped>\n",
       "    .dataframe tbody tr th:only-of-type {\n",
       "        vertical-align: middle;\n",
       "    }\n",
       "\n",
       "    .dataframe tbody tr th {\n",
       "        vertical-align: top;\n",
       "    }\n",
       "\n",
       "    .dataframe thead th {\n",
       "        text-align: right;\n",
       "    }\n",
       "</style>\n",
       "<table border=\"1\" class=\"dataframe\">\n",
       "  <thead>\n",
       "    <tr style=\"text-align: right;\">\n",
       "      <th></th>\n",
       "      <th>m_ticker</th>\n",
       "      <th>ticker</th>\n",
       "      <th>comp_name</th>\n",
       "      <th>comp_name_2</th>\n",
       "      <th>exchange</th>\n",
       "      <th>currency_code</th>\n",
       "      <th>per_end_date</th>\n",
       "      <th>per_type</th>\n",
       "      <th>per_fisc_year</th>\n",
       "      <th>per_fisc_qtr</th>\n",
       "      <th>...</th>\n",
       "      <th>tot_deprec_amort_qd</th>\n",
       "      <th>stock_based_compsn_qd</th>\n",
       "      <th>cash_flow_oper_activity_qd</th>\n",
       "      <th>net_change_prop_plant_equip_qd</th>\n",
       "      <th>comm_stock_div_paid_qd</th>\n",
       "      <th>tot_comm_pref_stock_div_qd</th>\n",
       "      <th>wavg_shares_out</th>\n",
       "      <th>wavg_shares_out_diluted</th>\n",
       "      <th>eps_basic_net</th>\n",
       "      <th>eps_diluted_net</th>\n",
       "    </tr>\n",
       "    <tr>\n",
       "      <th>None</th>\n",
       "      <th></th>\n",
       "      <th></th>\n",
       "      <th></th>\n",
       "      <th></th>\n",
       "      <th></th>\n",
       "      <th></th>\n",
       "      <th></th>\n",
       "      <th></th>\n",
       "      <th></th>\n",
       "      <th></th>\n",
       "      <th></th>\n",
       "      <th></th>\n",
       "      <th></th>\n",
       "      <th></th>\n",
       "      <th></th>\n",
       "      <th></th>\n",
       "      <th></th>\n",
       "      <th></th>\n",
       "      <th></th>\n",
       "      <th></th>\n",
       "      <th></th>\n",
       "    </tr>\n",
       "  </thead>\n",
       "  <tbody>\n",
       "    <tr>\n",
       "      <th>0</th>\n",
       "      <td>AAPL</td>\n",
       "      <td>AAPL</td>\n",
       "      <td>APPLE INC</td>\n",
       "      <td>Apple Inc.</td>\n",
       "      <td>NSDQ</td>\n",
       "      <td>USD</td>\n",
       "      <td>2018-09-30</td>\n",
       "      <td>A</td>\n",
       "      <td>2018</td>\n",
       "      <td>4</td>\n",
       "      <td>...</td>\n",
       "      <td>NaN</td>\n",
       "      <td>NaN</td>\n",
       "      <td>NaN</td>\n",
       "      <td>NaN</td>\n",
       "      <td>NaN</td>\n",
       "      <td>NaN</td>\n",
       "      <td>4955.377</td>\n",
       "      <td>5000.109</td>\n",
       "      <td>12.01</td>\n",
       "      <td>11.91</td>\n",
       "    </tr>\n",
       "    <tr>\n",
       "      <th>1</th>\n",
       "      <td>AAPL</td>\n",
       "      <td>AAPL</td>\n",
       "      <td>APPLE INC</td>\n",
       "      <td>Apple Inc.</td>\n",
       "      <td>NSDQ</td>\n",
       "      <td>USD</td>\n",
       "      <td>2018-03-31</td>\n",
       "      <td>Q</td>\n",
       "      <td>2018</td>\n",
       "      <td>2</td>\n",
       "      <td>...</td>\n",
       "      <td>2739.0</td>\n",
       "      <td>1348.0</td>\n",
       "      <td>15130.0</td>\n",
       "      <td>-4195.0</td>\n",
       "      <td>-3190.0</td>\n",
       "      <td>-3190.0</td>\n",
       "      <td>5024.877</td>\n",
       "      <td>5068.493</td>\n",
       "      <td>2.75</td>\n",
       "      <td>2.73</td>\n",
       "    </tr>\n",
       "    <tr>\n",
       "      <th>2</th>\n",
       "      <td>AAPL</td>\n",
       "      <td>AAPL</td>\n",
       "      <td>APPLE INC</td>\n",
       "      <td>Apple Inc.</td>\n",
       "      <td>NSDQ</td>\n",
       "      <td>USD</td>\n",
       "      <td>2018-06-30</td>\n",
       "      <td>Q</td>\n",
       "      <td>2018</td>\n",
       "      <td>3</td>\n",
       "      <td>...</td>\n",
       "      <td>2665.0</td>\n",
       "      <td>1351.0</td>\n",
       "      <td>14488.0</td>\n",
       "      <td>-3267.0</td>\n",
       "      <td>-3653.0</td>\n",
       "      <td>-3653.0</td>\n",
       "      <td>4882.167</td>\n",
       "      <td>4926.609</td>\n",
       "      <td>2.36</td>\n",
       "      <td>2.34</td>\n",
       "    </tr>\n",
       "    <tr>\n",
       "      <th>3</th>\n",
       "      <td>AAPL</td>\n",
       "      <td>AAPL</td>\n",
       "      <td>APPLE INC</td>\n",
       "      <td>Apple Inc.</td>\n",
       "      <td>NSDQ</td>\n",
       "      <td>USD</td>\n",
       "      <td>2018-09-30</td>\n",
       "      <td>Q</td>\n",
       "      <td>2018</td>\n",
       "      <td>4</td>\n",
       "      <td>...</td>\n",
       "      <td>2754.0</td>\n",
       "      <td>1345.0</td>\n",
       "      <td>19523.0</td>\n",
       "      <td>-3041.0</td>\n",
       "      <td>-3530.0</td>\n",
       "      <td>-3530.0</td>\n",
       "      <td>4955.377</td>\n",
       "      <td>5000.109</td>\n",
       "      <td>2.98</td>\n",
       "      <td>2.95</td>\n",
       "    </tr>\n",
       "    <tr>\n",
       "      <th>4</th>\n",
       "      <td>AAPL</td>\n",
       "      <td>AAPL</td>\n",
       "      <td>APPLE INC</td>\n",
       "      <td>Apple Inc.</td>\n",
       "      <td>NSDQ</td>\n",
       "      <td>USD</td>\n",
       "      <td>2018-12-31</td>\n",
       "      <td>Q</td>\n",
       "      <td>2019</td>\n",
       "      <td>1</td>\n",
       "      <td>...</td>\n",
       "      <td>3395.0</td>\n",
       "      <td>1559.0</td>\n",
       "      <td>26690.0</td>\n",
       "      <td>-3355.0</td>\n",
       "      <td>-3568.0</td>\n",
       "      <td>-3568.0</td>\n",
       "      <td>4735.820</td>\n",
       "      <td>4773.252</td>\n",
       "      <td>4.22</td>\n",
       "      <td>4.18</td>\n",
       "    </tr>\n",
       "    <tr>\n",
       "      <th>...</th>\n",
       "      <td>...</td>\n",
       "      <td>...</td>\n",
       "      <td>...</td>\n",
       "      <td>...</td>\n",
       "      <td>...</td>\n",
       "      <td>...</td>\n",
       "      <td>...</td>\n",
       "      <td>...</td>\n",
       "      <td>...</td>\n",
       "      <td>...</td>\n",
       "      <td>...</td>\n",
       "      <td>...</td>\n",
       "      <td>...</td>\n",
       "      <td>...</td>\n",
       "      <td>...</td>\n",
       "      <td>...</td>\n",
       "      <td>...</td>\n",
       "      <td>...</td>\n",
       "      <td>...</td>\n",
       "      <td>...</td>\n",
       "      <td>...</td>\n",
       "    </tr>\n",
       "    <tr>\n",
       "      <th>140</th>\n",
       "      <td>J</td>\n",
       "      <td>XOM</td>\n",
       "      <td>EXXON MOBIL CRP</td>\n",
       "      <td>Exxon Mobil Corporation</td>\n",
       "      <td>NYSE</td>\n",
       "      <td>USD</td>\n",
       "      <td>2018-12-31</td>\n",
       "      <td>A</td>\n",
       "      <td>2018</td>\n",
       "      <td>4</td>\n",
       "      <td>...</td>\n",
       "      <td>NaN</td>\n",
       "      <td>NaN</td>\n",
       "      <td>NaN</td>\n",
       "      <td>NaN</td>\n",
       "      <td>NaN</td>\n",
       "      <td>NaN</td>\n",
       "      <td>4270.000</td>\n",
       "      <td>4270.000</td>\n",
       "      <td>4.88</td>\n",
       "      <td>4.88</td>\n",
       "    </tr>\n",
       "    <tr>\n",
       "      <th>141</th>\n",
       "      <td>J</td>\n",
       "      <td>XOM</td>\n",
       "      <td>EXXON MOBIL CRP</td>\n",
       "      <td>Exxon Mobil Corporation</td>\n",
       "      <td>NYSE</td>\n",
       "      <td>USD</td>\n",
       "      <td>2018-03-31</td>\n",
       "      <td>Q</td>\n",
       "      <td>2018</td>\n",
       "      <td>1</td>\n",
       "      <td>...</td>\n",
       "      <td>4470.0</td>\n",
       "      <td>NaN</td>\n",
       "      <td>8519.0</td>\n",
       "      <td>-3349.0</td>\n",
       "      <td>-3334.0</td>\n",
       "      <td>-3334.0</td>\n",
       "      <td>4270.000</td>\n",
       "      <td>4270.000</td>\n",
       "      <td>1.09</td>\n",
       "      <td>1.09</td>\n",
       "    </tr>\n",
       "    <tr>\n",
       "      <th>142</th>\n",
       "      <td>J</td>\n",
       "      <td>XOM</td>\n",
       "      <td>EXXON MOBIL CRP</td>\n",
       "      <td>Exxon Mobil Corporation</td>\n",
       "      <td>NYSE</td>\n",
       "      <td>USD</td>\n",
       "      <td>2018-06-30</td>\n",
       "      <td>Q</td>\n",
       "      <td>2018</td>\n",
       "      <td>2</td>\n",
       "      <td>...</td>\n",
       "      <td>4589.0</td>\n",
       "      <td>NaN</td>\n",
       "      <td>7780.0</td>\n",
       "      <td>-4927.0</td>\n",
       "      <td>-3594.0</td>\n",
       "      <td>-3594.0</td>\n",
       "      <td>4271.000</td>\n",
       "      <td>4271.000</td>\n",
       "      <td>0.92</td>\n",
       "      <td>0.92</td>\n",
       "    </tr>\n",
       "    <tr>\n",
       "      <th>143</th>\n",
       "      <td>J</td>\n",
       "      <td>XOM</td>\n",
       "      <td>EXXON MOBIL CRP</td>\n",
       "      <td>Exxon Mobil Corporation</td>\n",
       "      <td>NYSE</td>\n",
       "      <td>USD</td>\n",
       "      <td>2018-09-30</td>\n",
       "      <td>Q</td>\n",
       "      <td>2018</td>\n",
       "      <td>3</td>\n",
       "      <td>...</td>\n",
       "      <td>4658.0</td>\n",
       "      <td>NaN</td>\n",
       "      <td>11108.0</td>\n",
       "      <td>-5204.0</td>\n",
       "      <td>-3560.0</td>\n",
       "      <td>-3560.0</td>\n",
       "      <td>4271.000</td>\n",
       "      <td>4271.000</td>\n",
       "      <td>1.46</td>\n",
       "      <td>1.46</td>\n",
       "    </tr>\n",
       "    <tr>\n",
       "      <th>144</th>\n",
       "      <td>J</td>\n",
       "      <td>XOM</td>\n",
       "      <td>EXXON MOBIL CRP</td>\n",
       "      <td>Exxon Mobil Corporation</td>\n",
       "      <td>NYSE</td>\n",
       "      <td>USD</td>\n",
       "      <td>2018-12-31</td>\n",
       "      <td>Q</td>\n",
       "      <td>2018</td>\n",
       "      <td>4</td>\n",
       "      <td>...</td>\n",
       "      <td>5028.0</td>\n",
       "      <td>NaN</td>\n",
       "      <td>8607.0</td>\n",
       "      <td>-6094.0</td>\n",
       "      <td>-3553.0</td>\n",
       "      <td>-3553.0</td>\n",
       "      <td>4270.000</td>\n",
       "      <td>4270.000</td>\n",
       "      <td>1.41</td>\n",
       "      <td>1.41</td>\n",
       "    </tr>\n",
       "  </tbody>\n",
       "</table>\n",
       "<p>145 rows × 216 columns</p>\n",
       "</div>"
      ],
      "text/plain": [
       "     m_ticker ticker        comp_name              comp_name_2 exchange  \\\n",
       "None                                                                      \n",
       "0        AAPL   AAPL        APPLE INC               Apple Inc.     NSDQ   \n",
       "1        AAPL   AAPL        APPLE INC               Apple Inc.     NSDQ   \n",
       "2        AAPL   AAPL        APPLE INC               Apple Inc.     NSDQ   \n",
       "3        AAPL   AAPL        APPLE INC               Apple Inc.     NSDQ   \n",
       "4        AAPL   AAPL        APPLE INC               Apple Inc.     NSDQ   \n",
       "...       ...    ...              ...                      ...      ...   \n",
       "140         J    XOM  EXXON MOBIL CRP  Exxon Mobil Corporation     NYSE   \n",
       "141         J    XOM  EXXON MOBIL CRP  Exxon Mobil Corporation     NYSE   \n",
       "142         J    XOM  EXXON MOBIL CRP  Exxon Mobil Corporation     NYSE   \n",
       "143         J    XOM  EXXON MOBIL CRP  Exxon Mobil Corporation     NYSE   \n",
       "144         J    XOM  EXXON MOBIL CRP  Exxon Mobil Corporation     NYSE   \n",
       "\n",
       "     currency_code per_end_date per_type  per_fisc_year  per_fisc_qtr  ...  \\\n",
       "None                                                                   ...   \n",
       "0              USD   2018-09-30        A           2018             4  ...   \n",
       "1              USD   2018-03-31        Q           2018             2  ...   \n",
       "2              USD   2018-06-30        Q           2018             3  ...   \n",
       "3              USD   2018-09-30        Q           2018             4  ...   \n",
       "4              USD   2018-12-31        Q           2019             1  ...   \n",
       "...            ...          ...      ...            ...           ...  ...   \n",
       "140            USD   2018-12-31        A           2018             4  ...   \n",
       "141            USD   2018-03-31        Q           2018             1  ...   \n",
       "142            USD   2018-06-30        Q           2018             2  ...   \n",
       "143            USD   2018-09-30        Q           2018             3  ...   \n",
       "144            USD   2018-12-31        Q           2018             4  ...   \n",
       "\n",
       "      tot_deprec_amort_qd  stock_based_compsn_qd cash_flow_oper_activity_qd  \\\n",
       "None                                                                          \n",
       "0                     NaN                    NaN                        NaN   \n",
       "1                  2739.0                 1348.0                    15130.0   \n",
       "2                  2665.0                 1351.0                    14488.0   \n",
       "3                  2754.0                 1345.0                    19523.0   \n",
       "4                  3395.0                 1559.0                    26690.0   \n",
       "...                   ...                    ...                        ...   \n",
       "140                   NaN                    NaN                        NaN   \n",
       "141                4470.0                    NaN                     8519.0   \n",
       "142                4589.0                    NaN                     7780.0   \n",
       "143                4658.0                    NaN                    11108.0   \n",
       "144                5028.0                    NaN                     8607.0   \n",
       "\n",
       "     net_change_prop_plant_equip_qd  comm_stock_div_paid_qd  \\\n",
       "None                                                          \n",
       "0                               NaN                     NaN   \n",
       "1                           -4195.0                 -3190.0   \n",
       "2                           -3267.0                 -3653.0   \n",
       "3                           -3041.0                 -3530.0   \n",
       "4                           -3355.0                 -3568.0   \n",
       "...                             ...                     ...   \n",
       "140                             NaN                     NaN   \n",
       "141                         -3349.0                 -3334.0   \n",
       "142                         -4927.0                 -3594.0   \n",
       "143                         -5204.0                 -3560.0   \n",
       "144                         -6094.0                 -3553.0   \n",
       "\n",
       "      tot_comm_pref_stock_div_qd  wavg_shares_out  wavg_shares_out_diluted  \\\n",
       "None                                                                         \n",
       "0                            NaN         4955.377                 5000.109   \n",
       "1                        -3190.0         5024.877                 5068.493   \n",
       "2                        -3653.0         4882.167                 4926.609   \n",
       "3                        -3530.0         4955.377                 5000.109   \n",
       "4                        -3568.0         4735.820                 4773.252   \n",
       "...                          ...              ...                      ...   \n",
       "140                          NaN         4270.000                 4270.000   \n",
       "141                      -3334.0         4270.000                 4270.000   \n",
       "142                      -3594.0         4271.000                 4271.000   \n",
       "143                      -3560.0         4271.000                 4271.000   \n",
       "144                      -3553.0         4270.000                 4270.000   \n",
       "\n",
       "      eps_basic_net eps_diluted_net  \n",
       "None                                 \n",
       "0             12.01           11.91  \n",
       "1              2.75            2.73  \n",
       "2              2.36            2.34  \n",
       "3              2.98            2.95  \n",
       "4              4.22            4.18  \n",
       "...             ...             ...  \n",
       "140            4.88            4.88  \n",
       "141            1.09            1.09  \n",
       "142            0.92            0.92  \n",
       "143            1.46            1.46  \n",
       "144            1.41            1.41  \n",
       "\n",
       "[145 rows x 216 columns]"
      ]
     },
     "execution_count": 5,
     "metadata": {},
     "output_type": "execute_result"
    }
   ],
   "source": [
    "stocks = stocks2.dropna(how='any',thresh=1, axis=1).copy"
   ]
  },
  {
   "cell_type": "code",
   "execution_count": 6,
   "metadata": {
    "ExecuteTime": {
     "end_time": "2020-05-31T21:07:31.334703Z",
     "start_time": "2020-05-31T21:07:31.300711Z"
    }
   },
   "outputs": [
    {
     "name": "stderr",
     "output_type": "stream",
     "text": [
      "/Users/benanderson/anaconda3/envs/py37_stock/lib/python3.7/site-packages/pandas/core/frame.py:4133: SettingWithCopyWarning: \n",
      "A value is trying to be set on a copy of a slice from a DataFrame\n",
      "\n",
      "See the caveats in the documentation: https://pandas.pydata.org/pandas-docs/stable/user_guide/indexing.html#returning-a-view-versus-a-copy\n",
      "  errors=errors,\n"
     ]
    }
   ],
   "source": [
    "stock_profile = PP.ProfileReport(stocks, title='Pandas Profiling Report', explorative=True)"
   ]
  },
  {
   "cell_type": "code",
   "execution_count": 8,
   "metadata": {
    "ExecuteTime": {
     "end_time": "2020-05-31T23:10:14.501542Z",
     "start_time": "2020-05-31T21:29:40.074512Z"
    },
    "scrolled": true
   },
   "outputs": [
    {
     "data": {
      "application/vnd.jupyter.widget-view+json": {
       "model_id": "207fe736309145bf8ba5f64982c5ed15",
       "version_major": 2,
       "version_minor": 0
      },
      "text/plain": [
       "HBox(children=(FloatProgress(value=0.0, description='Summarize dataset', max=230.0, style=ProgressStyle(descri…"
      ]
     },
     "metadata": {},
     "output_type": "display_data"
    },
    {
     "name": "stderr",
     "output_type": "stream",
     "text": [
      "/Users/benanderson/anaconda3/envs/py37_stock/lib/python3.7/site-packages/pandas/core/generic.py:6245: SettingWithCopyWarning: \n",
      "A value is trying to be set on a copy of a slice from a DataFrame\n",
      "\n",
      "See the caveats in the documentation: https://pandas.pydata.org/pandas-docs/stable/user_guide/indexing.html#returning-a-view-versus-a-copy\n",
      "  self._update_inplace(new_data)\n",
      "/Users/benanderson/anaconda3/envs/py37_stock/lib/python3.7/site-packages/pandas_profiling/model/correlations.py:107: UserWarning: There was an attempt to calculate the cramers correlation, but this failed.\n",
      "To hide this warning, disable the calculation\n",
      "(using `df.profile_report(correlations={\"cramers\": {\"calculate\": False}})`\n",
      "If this is problematic for your use case, please report this as an issue:\n",
      "https://github.com/pandas-profiling/pandas-profiling/issues\n",
      "(include the error message: 'No data; `observed` has size 0.')\n",
      "  (include the error message: '{error}')\"\"\"\n"
     ]
    },
    {
     "name": "stdout",
     "output_type": "stream",
     "text": [
      "\n"
     ]
    },
    {
     "data": {
      "application/vnd.jupyter.widget-view+json": {
       "model_id": "8e23e5dbebb747d1b5471d7604d74cd8",
       "version_major": 2,
       "version_minor": 0
      },
      "text/plain": [
       "HBox(children=(FloatProgress(value=0.0, description='Generate report structure', max=1.0, style=ProgressStyle(…"
      ]
     },
     "metadata": {},
     "output_type": "display_data"
    },
    {
     "name": "stdout",
     "output_type": "stream",
     "text": [
      "\n"
     ]
    },
    {
     "data": {
      "application/vnd.jupyter.widget-view+json": {
       "model_id": "9da3bd85ed404516a8d269540b58450e",
       "version_major": 2,
       "version_minor": 0
      },
      "text/plain": [
       "HBox(children=(FloatProgress(value=0.0, description='Render widgets', max=1.0, style=ProgressStyle(description…"
      ]
     },
     "metadata": {},
     "output_type": "display_data"
    },
    {
     "ename": "ValueError",
     "evalue": "('widget type not understood', 'select')",
     "output_type": "error",
     "traceback": [
      "\u001b[0;31m---------------------------------------------------------------------------\u001b[0m",
      "\u001b[0;31mValueError\u001b[0m                                Traceback (most recent call last)",
      "\u001b[0;32m<ipython-input-8-6dbdbd83a1d0>\u001b[0m in \u001b[0;36m<module>\u001b[0;34m\u001b[0m\n\u001b[0;32m----> 1\u001b[0;31m \u001b[0mstock_profile\u001b[0m\u001b[0;34m.\u001b[0m\u001b[0mto_widgets\u001b[0m\u001b[0;34m(\u001b[0m\u001b[0;34m)\u001b[0m\u001b[0;34m\u001b[0m\u001b[0;34m\u001b[0m\u001b[0m\n\u001b[0m",
      "\u001b[0;32m~/anaconda3/envs/py37_stock/lib/python3.7/site-packages/pandas_profiling/profile_report.py\u001b[0m in \u001b[0;36mto_widgets\u001b[0;34m(self)\u001b[0m\n\u001b[1;32m    391\u001b[0m         \u001b[0;32mfrom\u001b[0m \u001b[0mIPython\u001b[0m\u001b[0;34m.\u001b[0m\u001b[0mcore\u001b[0m\u001b[0;34m.\u001b[0m\u001b[0mdisplay\u001b[0m \u001b[0;32mimport\u001b[0m \u001b[0mdisplay\u001b[0m\u001b[0;34m\u001b[0m\u001b[0;34m\u001b[0m\u001b[0m\n\u001b[1;32m    392\u001b[0m \u001b[0;34m\u001b[0m\u001b[0m\n\u001b[0;32m--> 393\u001b[0;31m         \u001b[0mdisplay\u001b[0m\u001b[0;34m(\u001b[0m\u001b[0mself\u001b[0m\u001b[0;34m.\u001b[0m\u001b[0mwidgets\u001b[0m\u001b[0;34m)\u001b[0m\u001b[0;34m\u001b[0m\u001b[0;34m\u001b[0m\u001b[0m\n\u001b[0m\u001b[1;32m    394\u001b[0m \u001b[0;34m\u001b[0m\u001b[0m\n\u001b[1;32m    395\u001b[0m     \u001b[0;32mdef\u001b[0m \u001b[0m_repr_html_\u001b[0m\u001b[0;34m(\u001b[0m\u001b[0mself\u001b[0m\u001b[0;34m)\u001b[0m\u001b[0;34m:\u001b[0m\u001b[0;34m\u001b[0m\u001b[0;34m\u001b[0m\u001b[0m\n",
      "\u001b[0;32m~/anaconda3/envs/py37_stock/lib/python3.7/site-packages/pandas_profiling/profile_report.py\u001b[0m in \u001b[0;36mwidgets\u001b[0;34m(self)\u001b[0m\n\u001b[1;32m    178\u001b[0m     \u001b[0;32mdef\u001b[0m \u001b[0mwidgets\u001b[0m\u001b[0;34m(\u001b[0m\u001b[0mself\u001b[0m\u001b[0;34m)\u001b[0m\u001b[0;34m:\u001b[0m\u001b[0;34m\u001b[0m\u001b[0;34m\u001b[0m\u001b[0m\n\u001b[1;32m    179\u001b[0m         \u001b[0;32mif\u001b[0m \u001b[0mself\u001b[0m\u001b[0;34m.\u001b[0m\u001b[0m_widgets\u001b[0m \u001b[0;32mis\u001b[0m \u001b[0;32mNone\u001b[0m\u001b[0;34m:\u001b[0m\u001b[0;34m\u001b[0m\u001b[0;34m\u001b[0m\u001b[0m\n\u001b[0;32m--> 180\u001b[0;31m             \u001b[0mself\u001b[0m\u001b[0;34m.\u001b[0m\u001b[0m_widgets\u001b[0m \u001b[0;34m=\u001b[0m \u001b[0mself\u001b[0m\u001b[0;34m.\u001b[0m\u001b[0m_render_widgets\u001b[0m\u001b[0;34m(\u001b[0m\u001b[0;34m)\u001b[0m\u001b[0;34m\u001b[0m\u001b[0;34m\u001b[0m\u001b[0m\n\u001b[0m\u001b[1;32m    181\u001b[0m         \u001b[0;32mreturn\u001b[0m \u001b[0mself\u001b[0m\u001b[0;34m.\u001b[0m\u001b[0m_widgets\u001b[0m\u001b[0;34m\u001b[0m\u001b[0;34m\u001b[0m\u001b[0m\n\u001b[1;32m    182\u001b[0m \u001b[0;34m\u001b[0m\u001b[0m\n",
      "\u001b[0;32m~/anaconda3/envs/py37_stock/lib/python3.7/site-packages/pandas_profiling/profile_report.py\u001b[0m in \u001b[0;36m_render_widgets\u001b[0;34m(self)\u001b[0m\n\u001b[1;32m    307\u001b[0m             \u001b[0mtotal\u001b[0m\u001b[0;34m=\u001b[0m\u001b[0;36m1\u001b[0m\u001b[0;34m,\u001b[0m \u001b[0mdesc\u001b[0m\u001b[0;34m=\u001b[0m\u001b[0;34m\"Render widgets\"\u001b[0m\u001b[0;34m,\u001b[0m \u001b[0mdisable\u001b[0m\u001b[0;34m=\u001b[0m\u001b[0mdisable_progress_bar\u001b[0m\u001b[0;34m,\u001b[0m \u001b[0mleave\u001b[0m\u001b[0;34m=\u001b[0m\u001b[0;32mFalse\u001b[0m\u001b[0;34m\u001b[0m\u001b[0;34m\u001b[0m\u001b[0m\n\u001b[1;32m    308\u001b[0m         ) as pbar:\n\u001b[0;32m--> 309\u001b[0;31m             \u001b[0mwidgets\u001b[0m \u001b[0;34m=\u001b[0m \u001b[0mWidgetReport\u001b[0m\u001b[0;34m(\u001b[0m\u001b[0mreport\u001b[0m\u001b[0;34m)\u001b[0m\u001b[0;34m.\u001b[0m\u001b[0mrender\u001b[0m\u001b[0;34m(\u001b[0m\u001b[0;34m)\u001b[0m\u001b[0;34m\u001b[0m\u001b[0;34m\u001b[0m\u001b[0m\n\u001b[0m\u001b[1;32m    310\u001b[0m             \u001b[0mpbar\u001b[0m\u001b[0;34m.\u001b[0m\u001b[0mupdate\u001b[0m\u001b[0;34m(\u001b[0m\u001b[0;34m)\u001b[0m\u001b[0;34m\u001b[0m\u001b[0;34m\u001b[0m\u001b[0m\n\u001b[1;32m    311\u001b[0m         \u001b[0;32mreturn\u001b[0m \u001b[0mwidgets\u001b[0m\u001b[0;34m\u001b[0m\u001b[0;34m\u001b[0m\u001b[0m\n",
      "\u001b[0;32m~/anaconda3/envs/py37_stock/lib/python3.7/site-packages/pandas_profiling/report/presentation/flavours/widget/root.py\u001b[0m in \u001b[0;36mrender\u001b[0;34m(self)\u001b[0m\n\u001b[1;32m      7\u001b[0m     \u001b[0;32mdef\u001b[0m \u001b[0mrender\u001b[0m\u001b[0;34m(\u001b[0m\u001b[0mself\u001b[0m\u001b[0;34m)\u001b[0m\u001b[0;34m:\u001b[0m\u001b[0;34m\u001b[0m\u001b[0;34m\u001b[0m\u001b[0m\n\u001b[1;32m      8\u001b[0m         return widgets.VBox(\n\u001b[0;32m----> 9\u001b[0;31m             \u001b[0;34m[\u001b[0m\u001b[0mself\u001b[0m\u001b[0;34m.\u001b[0m\u001b[0mcontent\u001b[0m\u001b[0;34m[\u001b[0m\u001b[0;34m\"body\"\u001b[0m\u001b[0;34m]\u001b[0m\u001b[0;34m.\u001b[0m\u001b[0mrender\u001b[0m\u001b[0;34m(\u001b[0m\u001b[0;34m)\u001b[0m\u001b[0;34m,\u001b[0m \u001b[0mself\u001b[0m\u001b[0;34m.\u001b[0m\u001b[0mcontent\u001b[0m\u001b[0;34m[\u001b[0m\u001b[0;34m\"footer\"\u001b[0m\u001b[0;34m]\u001b[0m\u001b[0;34m.\u001b[0m\u001b[0mrender\u001b[0m\u001b[0;34m(\u001b[0m\u001b[0;34m)\u001b[0m\u001b[0;34m]\u001b[0m\u001b[0;34m\u001b[0m\u001b[0;34m\u001b[0m\u001b[0m\n\u001b[0m\u001b[1;32m     10\u001b[0m         )\n",
      "\u001b[0;32m~/anaconda3/envs/py37_stock/lib/python3.7/site-packages/pandas_profiling/report/presentation/flavours/widget/container.py\u001b[0m in \u001b[0;36mrender\u001b[0;34m(self)\u001b[0m\n\u001b[1;32m     77\u001b[0m             \u001b[0mwidget\u001b[0m \u001b[0;34m=\u001b[0m \u001b[0mget_named_list\u001b[0m\u001b[0;34m(\u001b[0m\u001b[0mself\u001b[0m\u001b[0;34m.\u001b[0m\u001b[0mcontent\u001b[0m\u001b[0;34m[\u001b[0m\u001b[0;34m\"items\"\u001b[0m\u001b[0;34m]\u001b[0m\u001b[0;34m)\u001b[0m\u001b[0;34m\u001b[0m\u001b[0;34m\u001b[0m\u001b[0m\n\u001b[1;32m     78\u001b[0m         \u001b[0;32melif\u001b[0m \u001b[0mself\u001b[0m\u001b[0;34m.\u001b[0m\u001b[0msequence_type\u001b[0m \u001b[0;32min\u001b[0m \u001b[0;34m[\u001b[0m\u001b[0;34m\"tabs\"\u001b[0m\u001b[0;34m,\u001b[0m \u001b[0;34m\"sections\"\u001b[0m\u001b[0;34m]\u001b[0m\u001b[0;34m:\u001b[0m\u001b[0;34m\u001b[0m\u001b[0;34m\u001b[0m\u001b[0m\n\u001b[0;32m---> 79\u001b[0;31m             \u001b[0mwidget\u001b[0m \u001b[0;34m=\u001b[0m \u001b[0mget_tabs\u001b[0m\u001b[0;34m(\u001b[0m\u001b[0mself\u001b[0m\u001b[0;34m.\u001b[0m\u001b[0mcontent\u001b[0m\u001b[0;34m[\u001b[0m\u001b[0;34m\"items\"\u001b[0m\u001b[0;34m]\u001b[0m\u001b[0;34m)\u001b[0m\u001b[0;34m\u001b[0m\u001b[0;34m\u001b[0m\u001b[0m\n\u001b[0m\u001b[1;32m     80\u001b[0m         \u001b[0;32melif\u001b[0m \u001b[0mself\u001b[0m\u001b[0;34m.\u001b[0m\u001b[0msequence_type\u001b[0m \u001b[0;34m==\u001b[0m \u001b[0;34m\"accordion\"\u001b[0m\u001b[0;34m:\u001b[0m\u001b[0;34m\u001b[0m\u001b[0;34m\u001b[0m\u001b[0m\n\u001b[1;32m     81\u001b[0m             \u001b[0mwidget\u001b[0m \u001b[0;34m=\u001b[0m \u001b[0mget_accordion\u001b[0m\u001b[0;34m(\u001b[0m\u001b[0mself\u001b[0m\u001b[0;34m.\u001b[0m\u001b[0mcontent\u001b[0m\u001b[0;34m[\u001b[0m\u001b[0;34m\"items\"\u001b[0m\u001b[0;34m]\u001b[0m\u001b[0;34m)\u001b[0m\u001b[0;34m\u001b[0m\u001b[0;34m\u001b[0m\u001b[0m\n",
      "\u001b[0;32m~/anaconda3/envs/py37_stock/lib/python3.7/site-packages/pandas_profiling/report/presentation/flavours/widget/container.py\u001b[0m in \u001b[0;36mget_tabs\u001b[0;34m(items)\u001b[0m\n\u001b[1;32m     16\u001b[0m     \u001b[0mtitles\u001b[0m \u001b[0;34m=\u001b[0m \u001b[0;34m[\u001b[0m\u001b[0;34m]\u001b[0m\u001b[0;34m\u001b[0m\u001b[0;34m\u001b[0m\u001b[0m\n\u001b[1;32m     17\u001b[0m     \u001b[0;32mfor\u001b[0m \u001b[0mitem\u001b[0m \u001b[0;32min\u001b[0m \u001b[0mitems\u001b[0m\u001b[0;34m:\u001b[0m\u001b[0;34m\u001b[0m\u001b[0;34m\u001b[0m\u001b[0m\n\u001b[0;32m---> 18\u001b[0;31m         \u001b[0mchildren\u001b[0m\u001b[0;34m.\u001b[0m\u001b[0mappend\u001b[0m\u001b[0;34m(\u001b[0m\u001b[0mitem\u001b[0m\u001b[0;34m.\u001b[0m\u001b[0mrender\u001b[0m\u001b[0;34m(\u001b[0m\u001b[0;34m)\u001b[0m\u001b[0;34m)\u001b[0m\u001b[0;34m\u001b[0m\u001b[0;34m\u001b[0m\u001b[0m\n\u001b[0m\u001b[1;32m     19\u001b[0m         \u001b[0mtitles\u001b[0m\u001b[0;34m.\u001b[0m\u001b[0mappend\u001b[0m\u001b[0;34m(\u001b[0m\u001b[0mget_name\u001b[0m\u001b[0;34m(\u001b[0m\u001b[0mitem\u001b[0m\u001b[0;34m)\u001b[0m\u001b[0;34m)\u001b[0m\u001b[0;34m\u001b[0m\u001b[0;34m\u001b[0m\u001b[0m\n\u001b[1;32m     20\u001b[0m \u001b[0;34m\u001b[0m\u001b[0m\n",
      "\u001b[0;32m~/anaconda3/envs/py37_stock/lib/python3.7/site-packages/pandas_profiling/report/presentation/flavours/widget/container.py\u001b[0m in \u001b[0;36mrender\u001b[0;34m(self)\u001b[0m\n\u001b[1;32m     83\u001b[0m             \u001b[0mwidget\u001b[0m \u001b[0;34m=\u001b[0m \u001b[0mget_row\u001b[0m\u001b[0;34m(\u001b[0m\u001b[0mself\u001b[0m\u001b[0;34m.\u001b[0m\u001b[0mcontent\u001b[0m\u001b[0;34m[\u001b[0m\u001b[0;34m\"items\"\u001b[0m\u001b[0;34m]\u001b[0m\u001b[0;34m)\u001b[0m\u001b[0;34m\u001b[0m\u001b[0;34m\u001b[0m\u001b[0m\n\u001b[1;32m     84\u001b[0m         \u001b[0;32melse\u001b[0m\u001b[0;34m:\u001b[0m\u001b[0;34m\u001b[0m\u001b[0;34m\u001b[0m\u001b[0m\n\u001b[0;32m---> 85\u001b[0;31m             \u001b[0;32mraise\u001b[0m \u001b[0mValueError\u001b[0m\u001b[0;34m(\u001b[0m\u001b[0;34m\"widget type not understood\"\u001b[0m\u001b[0;34m,\u001b[0m \u001b[0mself\u001b[0m\u001b[0;34m.\u001b[0m\u001b[0msequence_type\u001b[0m\u001b[0;34m)\u001b[0m\u001b[0;34m\u001b[0m\u001b[0;34m\u001b[0m\u001b[0m\n\u001b[0m\u001b[1;32m     86\u001b[0m \u001b[0;34m\u001b[0m\u001b[0m\n\u001b[1;32m     87\u001b[0m         \u001b[0;32mreturn\u001b[0m \u001b[0mwidget\u001b[0m\u001b[0;34m\u001b[0m\u001b[0;34m\u001b[0m\u001b[0m\n",
      "\u001b[0;31mValueError\u001b[0m: ('widget type not understood', 'select')"
     ]
    }
   ],
   "source": [
    "stock_profile.to_widgets()"
   ]
  },
  {
   "cell_type": "markdown",
   "metadata": {},
   "source": [
    "### Import Oil Pricing"
   ]
  },
  {
   "cell_type": "code",
   "execution_count": 9,
   "metadata": {
    "ExecuteTime": {
     "end_time": "2020-06-01T00:25:26.233399Z",
     "start_time": "2020-06-01T00:25:23.254909Z"
    }
   },
   "outputs": [],
   "source": [
    "# Europe Brent Crude\n",
    "eubrent = quandl.get(\"FRED/DCOILBRENTEU\")\n",
    "\n",
    "# All Crude Pricing\n",
    "crude = quandl.get(\"BP/CRUDE_OIL_PRICES\")\n",
    "\n",
    "# \n"
   ]
  },
  {
   "cell_type": "code",
   "execution_count": 10,
   "metadata": {
    "ExecuteTime": {
     "end_time": "2020-06-01T00:25:28.452280Z",
     "start_time": "2020-06-01T00:25:28.394529Z"
    }
   },
   "outputs": [],
   "source": [
    "brent_profile = PP.ProfileReport(eubrent, title='Pandas Profiling Report', explorative=True)\n",
    "crude_profile = PP.ProfileReport(crude, title='Pandas Profiling Report', explorative=True)"
   ]
  },
  {
   "cell_type": "code",
   "execution_count": 11,
   "metadata": {
    "ExecuteTime": {
     "end_time": "2020-06-01T00:25:34.358455Z",
     "start_time": "2020-06-01T00:25:29.872416Z"
    },
    "scrolled": false
   },
   "outputs": [
    {
     "data": {
      "application/vnd.jupyter.widget-view+json": {
       "model_id": "15d083506cb94dcd9b7b13ec5284302c",
       "version_major": 2,
       "version_minor": 0
      },
      "text/plain": [
       "HBox(children=(FloatProgress(value=0.0, description='Summarize dataset', max=16.0, style=ProgressStyle(descrip…"
      ]
     },
     "metadata": {},
     "output_type": "display_data"
    },
    {
     "name": "stdout",
     "output_type": "stream",
     "text": [
      "\n"
     ]
    },
    {
     "data": {
      "application/vnd.jupyter.widget-view+json": {
       "model_id": "f76bea207688425d9644a6ef69626b10",
       "version_major": 2,
       "version_minor": 0
      },
      "text/plain": [
       "HBox(children=(FloatProgress(value=0.0, description='Generate report structure', max=1.0, style=ProgressStyle(…"
      ]
     },
     "metadata": {},
     "output_type": "display_data"
    },
    {
     "name": "stdout",
     "output_type": "stream",
     "text": [
      "\n"
     ]
    },
    {
     "data": {
      "application/vnd.jupyter.widget-view+json": {
       "model_id": "",
       "version_major": 2,
       "version_minor": 0
      },
      "text/plain": [
       "HBox(children=(FloatProgress(value=0.0, description='Render widgets', max=1.0, style=ProgressStyle(description…"
      ]
     },
     "metadata": {},
     "output_type": "display_data"
    },
    {
     "data": {
      "application/vnd.jupyter.widget-view+json": {
       "model_id": "802049bf5705470e8ebb921bab3ae7d3",
       "version_major": 2,
       "version_minor": 0
      },
      "text/plain": [
       "VBox(children=(Tab(children=(Tab(children=(GridBox(children=(VBox(children=(GridspecLayout(children=(HTML(valu…"
      ]
     },
     "metadata": {},
     "output_type": "display_data"
    }
   ],
   "source": [
    "brent_profile.to_widgets()"
   ]
  },
  {
   "cell_type": "code",
   "execution_count": 12,
   "metadata": {
    "ExecuteTime": {
     "end_time": "2020-06-01T00:25:50.601051Z",
     "start_time": "2020-06-01T00:25:38.682427Z"
    },
    "scrolled": false
   },
   "outputs": [
    {
     "data": {
      "application/vnd.jupyter.widget-view+json": {
       "model_id": "0e266d9e37884ca8bac9ad3f186b1bef",
       "version_major": 2,
       "version_minor": 0
      },
      "text/plain": [
       "HBox(children=(FloatProgress(value=0.0, description='Summarize dataset', max=17.0, style=ProgressStyle(descrip…"
      ]
     },
     "metadata": {},
     "output_type": "display_data"
    },
    {
     "name": "stdout",
     "output_type": "stream",
     "text": [
      "\n"
     ]
    },
    {
     "data": {
      "application/vnd.jupyter.widget-view+json": {
       "model_id": "14a0054b1206486d841e43467a8771cd",
       "version_major": 2,
       "version_minor": 0
      },
      "text/plain": [
       "HBox(children=(FloatProgress(value=0.0, description='Generate report structure', max=1.0, style=ProgressStyle(…"
      ]
     },
     "metadata": {},
     "output_type": "display_data"
    },
    {
     "name": "stdout",
     "output_type": "stream",
     "text": [
      "\n"
     ]
    },
    {
     "data": {
      "application/vnd.jupyter.widget-view+json": {
       "model_id": "",
       "version_major": 2,
       "version_minor": 0
      },
      "text/plain": [
       "HBox(children=(FloatProgress(value=0.0, description='Render widgets', max=1.0, style=ProgressStyle(description…"
      ]
     },
     "metadata": {},
     "output_type": "display_data"
    },
    {
     "data": {
      "application/vnd.jupyter.widget-view+json": {
       "model_id": "ce610d4ba1da41cb8dad442f097f89c4",
       "version_major": 2,
       "version_minor": 0
      },
      "text/plain": [
       "VBox(children=(Tab(children=(Tab(children=(GridBox(children=(VBox(children=(GridspecLayout(children=(HTML(valu…"
      ]
     },
     "metadata": {},
     "output_type": "display_data"
    }
   ],
   "source": [
    "crude_profile.to_widgets()"
   ]
  },
  {
   "cell_type": "markdown",
   "metadata": {},
   "source": [
    "### Federal Reserve Data"
   ]
  },
  {
   "cell_type": "code",
   "execution_count": 13,
   "metadata": {
    "ExecuteTime": {
     "end_time": "2020-06-01T00:26:44.127504Z",
     "start_time": "2020-06-01T00:26:43.709958Z"
    }
   },
   "outputs": [],
   "source": [
    "fedres = quandl.get('FRED/NROUST')"
   ]
  },
  {
   "cell_type": "code",
   "execution_count": 14,
   "metadata": {
    "ExecuteTime": {
     "end_time": "2020-06-01T00:26:44.870125Z",
     "start_time": "2020-06-01T00:26:44.844528Z"
    }
   },
   "outputs": [],
   "source": [
    "fedres_profile = PP.ProfileReport(fedres, title='Pandas Profiling Report', explorative=True)\n",
    "#fedres_profile = fedres.profile_report()"
   ]
  },
  {
   "cell_type": "code",
   "execution_count": 15,
   "metadata": {
    "ExecuteTime": {
     "end_time": "2020-06-01T00:26:50.882068Z",
     "start_time": "2020-06-01T00:26:46.285034Z"
    },
    "scrolled": true
   },
   "outputs": [
    {
     "data": {
      "application/vnd.jupyter.widget-view+json": {
       "model_id": "0e08497306994a5aab38e44d9d342e5f",
       "version_major": 2,
       "version_minor": 0
      },
      "text/plain": [
       "HBox(children=(FloatProgress(value=0.0, description='Summarize dataset', max=16.0, style=ProgressStyle(descrip…"
      ]
     },
     "metadata": {},
     "output_type": "display_data"
    },
    {
     "name": "stdout",
     "output_type": "stream",
     "text": [
      "\n"
     ]
    },
    {
     "data": {
      "application/vnd.jupyter.widget-view+json": {
       "model_id": "5c02eb0a72bd4a6aa5561e3de51beaf3",
       "version_major": 2,
       "version_minor": 0
      },
      "text/plain": [
       "HBox(children=(FloatProgress(value=0.0, description='Generate report structure', max=1.0, style=ProgressStyle(…"
      ]
     },
     "metadata": {},
     "output_type": "display_data"
    },
    {
     "name": "stdout",
     "output_type": "stream",
     "text": [
      "\n"
     ]
    },
    {
     "data": {
      "application/vnd.jupyter.widget-view+json": {
       "model_id": "",
       "version_major": 2,
       "version_minor": 0
      },
      "text/plain": [
       "HBox(children=(FloatProgress(value=0.0, description='Render widgets', max=1.0, style=ProgressStyle(description…"
      ]
     },
     "metadata": {},
     "output_type": "display_data"
    },
    {
     "data": {
      "application/vnd.jupyter.widget-view+json": {
       "model_id": "958358bc54e7411ba1864cd5fe4a0674",
       "version_major": 2,
       "version_minor": 0
      },
      "text/plain": [
       "VBox(children=(Tab(children=(Tab(children=(GridBox(children=(VBox(children=(GridspecLayout(children=(HTML(valu…"
      ]
     },
     "metadata": {},
     "output_type": "display_data"
    }
   ],
   "source": [
    "fedres_profile.to_widgets()"
   ]
  },
  {
   "cell_type": "code",
   "execution_count": null,
   "metadata": {},
   "outputs": [],
   "source": []
  }
 ],
 "metadata": {
  "kernelspec": {
   "display_name": "Python [conda env:py37_stock] *",
   "language": "python",
   "name": "conda-env-py37_stock-py"
  },
  "language_info": {
   "codemirror_mode": {
    "name": "ipython",
    "version": 3
   },
   "file_extension": ".py",
   "mimetype": "text/x-python",
   "name": "python",
   "nbconvert_exporter": "python",
   "pygments_lexer": "ipython3",
   "version": "3.7.6"
  },
  "toc": {
   "base_numbering": 1,
   "nav_menu": {},
   "number_sections": true,
   "sideBar": true,
   "skip_h1_title": true,
   "title_cell": "Table of Contents",
   "title_sidebar": "Contents",
   "toc_cell": false,
   "toc_position": {},
   "toc_section_display": true,
   "toc_window_display": true
  }
 },
 "nbformat": 4,
 "nbformat_minor": 4
}
