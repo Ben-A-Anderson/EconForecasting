{
 "cells": [
  {
   "cell_type": "markdown",
   "metadata": {},
   "source": [
    "# Economic Forecasting"
   ]
  },
  {
   "cell_type": "markdown",
   "metadata": {},
   "source": [
    "## Initialization"
   ]
  },
  {
   "cell_type": "markdown",
   "metadata": {},
   "source": [
    "### Package Importing"
   ]
  },
  {
   "cell_type": "code",
   "execution_count": 2,
   "metadata": {
    "ExecuteTime": {
     "end_time": "2020-06-09T02:21:02.246207Z",
     "start_time": "2020-06-09T02:20:50.762543Z"
    }
   },
   "outputs": [
    {
     "ename": "FileNotFoundError",
     "evalue": "[Errno 2] No such file or directory: 'C:\\\\Users\\\\User\\\\.quandl_apikey'",
     "output_type": "error",
     "traceback": [
      "\u001b[1;31m---------------------------------------------------------------------------\u001b[0m",
      "\u001b[1;31mFileNotFoundError\u001b[0m                         Traceback (most recent call last)",
      "\u001b[1;32m~\\AppData\\Local\\Temp\\ipykernel_8328\\2312702730.py\u001b[0m in \u001b[0;36m<module>\u001b[1;34m\u001b[0m\n\u001b[0;32m      6\u001b[0m \u001b[1;33m\u001b[0m\u001b[0m\n\u001b[0;32m      7\u001b[0m \u001b[1;32mimport\u001b[0m \u001b[0mquandl\u001b[0m\u001b[1;33m\u001b[0m\u001b[1;33m\u001b[0m\u001b[0m\n\u001b[1;32m----> 8\u001b[1;33m \u001b[0mquandl\u001b[0m\u001b[1;33m.\u001b[0m\u001b[0mread_key\u001b[0m\u001b[1;33m(\u001b[0m\u001b[1;33m)\u001b[0m\u001b[1;33m\u001b[0m\u001b[1;33m\u001b[0m\u001b[0m\n\u001b[0m\u001b[0;32m      9\u001b[0m \u001b[1;33m\u001b[0m\u001b[0m\n\u001b[0;32m     10\u001b[0m \u001b[1;32mimport\u001b[0m \u001b[0myfinance\u001b[0m \u001b[1;32mas\u001b[0m \u001b[0myf\u001b[0m\u001b[1;33m\u001b[0m\u001b[1;33m\u001b[0m\u001b[0m\n",
      "\u001b[1;32mc:\\ProgramData\\Anaconda3\\envs\\py37_econ\\lib\\site-packages\\quandl\\api_config.py\u001b[0m in \u001b[0;36mread_key\u001b[1;34m(filename)\u001b[0m\n\u001b[0;32m     30\u001b[0m         \u001b[0mfilename\u001b[0m \u001b[1;33m=\u001b[0m \u001b[0mos\u001b[0m\u001b[1;33m.\u001b[0m\u001b[0mpath\u001b[0m\u001b[1;33m.\u001b[0m\u001b[0mjoin\u001b[0m\u001b[1;33m(\u001b[0m\u001b[0mos\u001b[0m\u001b[1;33m.\u001b[0m\u001b[0mpath\u001b[0m\u001b[1;33m.\u001b[0m\u001b[0mexpanduser\u001b[0m\u001b[1;33m(\u001b[0m\u001b[1;34m'~'\u001b[0m\u001b[1;33m)\u001b[0m\u001b[1;33m,\u001b[0m \u001b[1;34m'.quandl_apikey'\u001b[0m\u001b[1;33m)\u001b[0m\u001b[1;33m\u001b[0m\u001b[1;33m\u001b[0m\u001b[0m\n\u001b[0;32m     31\u001b[0m \u001b[1;33m\u001b[0m\u001b[0m\n\u001b[1;32m---> 32\u001b[1;33m     \u001b[1;32mwith\u001b[0m \u001b[0mopen\u001b[0m\u001b[1;33m(\u001b[0m\u001b[0mfilename\u001b[0m\u001b[1;33m,\u001b[0m \u001b[1;34m'r'\u001b[0m\u001b[1;33m)\u001b[0m \u001b[1;32mas\u001b[0m \u001b[0mf\u001b[0m\u001b[1;33m:\u001b[0m\u001b[1;33m\u001b[0m\u001b[1;33m\u001b[0m\u001b[0m\n\u001b[0m\u001b[0;32m     33\u001b[0m         \u001b[0mapikey\u001b[0m \u001b[1;33m=\u001b[0m \u001b[0mf\u001b[0m\u001b[1;33m.\u001b[0m\u001b[0mread\u001b[0m\u001b[1;33m(\u001b[0m\u001b[1;33m)\u001b[0m\u001b[1;33m\u001b[0m\u001b[1;33m\u001b[0m\u001b[0m\n\u001b[0;32m     34\u001b[0m \u001b[1;33m\u001b[0m\u001b[0m\n",
      "\u001b[1;31mFileNotFoundError\u001b[0m: [Errno 2] No such file or directory: 'C:\\\\Users\\\\User\\\\.quandl_apikey'"
     ]
    }
   ],
   "source": [
    "import pandas as pd\n",
    "from pandas_datareader import data as pdr\n",
    "import numpy as np\n",
    "\n",
    "import pandas_profiling as PP\n",
    "\n",
    "import quandl\n",
    "quandl.read_key()\n",
    "\n",
    "import yfinance as yf\n",
    "\n",
    "import matplotlib.pyplot as plt\n",
    "%matplotlib inline \n",
    "\n",
    "import plotly"
   ]
  },
  {
   "cell_type": "markdown",
   "metadata": {},
   "source": [
    "### Variable Assignments"
   ]
  },
  {
   "cell_type": "code",
   "execution_count": 18,
   "metadata": {
    "ExecuteTime": {
     "end_time": "2020-06-09T02:54:06.587486Z",
     "start_time": "2020-06-09T02:54:06.580071Z"
    }
   },
   "outputs": [],
   "source": [
    "stock_tickers = ['DJI','NDAQ','INX','AAPL','AXP','BA','CAT','CSCO','CVX','DD','DIS','GE','GS','HD','IBM','INTC','JNJ','JPM',\\\n",
    "                 'KO','MCD','MMM','MRK','MSFT','NKE','PFE','PG','TRV','UNH','UTX','V','VZ','WMT','XOM']"
   ]
  },
  {
   "cell_type": "markdown",
   "metadata": {},
   "source": [
    "## Data Importing"
   ]
  },
  {
   "cell_type": "markdown",
   "metadata": {},
   "source": [
    "### Import Stock Market Data"
   ]
  },
  {
   "cell_type": "markdown",
   "metadata": {},
   "source": [
    "#### yfinance"
   ]
  },
  {
   "cell_type": "code",
   "execution_count": 72,
   "metadata": {
    "ExecuteTime": {
     "end_time": "2020-06-09T03:34:31.770381Z",
     "start_time": "2020-06-09T03:34:19.167495Z"
    }
   },
   "outputs": [
    {
     "name": "stdout",
     "output_type": "stream",
     "text": [
      "[*********************100%***********************]  33 of 33 completed\n",
      "\n",
      "Shape of original df (14713, 198)\n"
     ]
    }
   ],
   "source": [
    "yf.pdr_override() # Use Pandas Data Reader to load all tickers in a single go\n",
    "\n",
    "# download dataframe\n",
    "#data = pdr.get_data_yahoo(stock_tickers, start=\"2017-01-01\", end=\"2017-04-30\")\n",
    "df = pdr.get_data_yahoo(stock_tickers, period=\"max\") # , group_by='ticker'\n",
    "df.shape\n",
    "print('\\nShape of original df {}'.format(df.shape))"
   ]
  },
  {
   "cell_type": "markdown",
   "metadata": {},
   "source": [
    "Copy df to df2. Then colapse the headers into a single index"
   ]
  },
  {
   "cell_type": "markdown",
   "metadata": {},
   "source": [
    "df2 = df.copy(deep=True)\n",
    "df2.columns = ['_'.join(col[::-1]).strip() for col in df2.columns.values]\n",
    "df2.columns = df2.columns.str.replace(' ', '_')\n",
    "print('Shape of copied df {}'.format(df2.shape))\n",
    "display(df2.head(5))"
   ]
  },
  {
   "cell_type": "code",
   "execution_count": 70,
   "metadata": {
    "ExecuteTime": {
     "end_time": "2020-06-09T03:32:34.301310Z",
     "start_time": "2020-06-09T03:32:34.292728Z"
    }
   },
   "outputs": [
    {
     "name": "stdout",
     "output_type": "stream",
     "text": [
      "Level 0 columns names ['Adj Close', 'Close', 'High', 'Low', 'Open', 'Volume']\n",
      "\n",
      "Level 1 columns names ['AAPL', 'AXP', 'BA', 'CAT', 'CSCO', 'CVX', 'DD', 'DIS', 'DJI', 'GE', 'GS', 'HD', 'IBM', 'INTC', 'INX', 'JNJ', 'JPM', 'KO', 'MCD', 'MMM', 'MRK', 'MSFT', 'NDAQ', 'NKE', 'PFE', 'PG', 'TRV', 'UNH', 'UTX', 'V', 'VZ', 'WMT', 'XOM']\n"
     ]
    }
   ],
   "source": [
    "print('Level 0 columns names {}\\n'.format([col for col in df.columns.levels[0]]))\n",
    "print('Level 1 columns names {}'.format([col for col in df.columns.levels[1]]))"
   ]
  },
  {
   "cell_type": "code",
   "execution_count": 26,
   "metadata": {
    "ExecuteTime": {
     "end_time": "2020-06-09T02:58:29.453095Z",
     "start_time": "2020-06-09T02:58:29.383904Z"
    },
    "scrolled": false
   },
   "outputs": [
    {
     "data": {
      "text/html": [
       "<div>\n",
       "<style scoped>\n",
       "    .dataframe tbody tr th:only-of-type {\n",
       "        vertical-align: middle;\n",
       "    }\n",
       "\n",
       "    .dataframe tbody tr th {\n",
       "        vertical-align: top;\n",
       "    }\n",
       "\n",
       "    .dataframe thead tr th {\n",
       "        text-align: left;\n",
       "    }\n",
       "\n",
       "    .dataframe thead tr:last-of-type th {\n",
       "        text-align: right;\n",
       "    }\n",
       "</style>\n",
       "<table border=\"1\" class=\"dataframe\">\n",
       "  <thead>\n",
       "    <tr>\n",
       "      <th></th>\n",
       "      <th colspan=\"10\" halign=\"left\">Adj Close</th>\n",
       "      <th>...</th>\n",
       "      <th colspan=\"10\" halign=\"left\">Volume</th>\n",
       "    </tr>\n",
       "    <tr>\n",
       "      <th></th>\n",
       "      <th>AAPL</th>\n",
       "      <th>AXP</th>\n",
       "      <th>BA</th>\n",
       "      <th>CAT</th>\n",
       "      <th>CSCO</th>\n",
       "      <th>CVX</th>\n",
       "      <th>DD</th>\n",
       "      <th>DIS</th>\n",
       "      <th>DJI</th>\n",
       "      <th>GE</th>\n",
       "      <th>...</th>\n",
       "      <th>NKE</th>\n",
       "      <th>PFE</th>\n",
       "      <th>PG</th>\n",
       "      <th>TRV</th>\n",
       "      <th>UNH</th>\n",
       "      <th>UTX</th>\n",
       "      <th>V</th>\n",
       "      <th>VZ</th>\n",
       "      <th>WMT</th>\n",
       "      <th>XOM</th>\n",
       "    </tr>\n",
       "    <tr>\n",
       "      <th>Date</th>\n",
       "      <th></th>\n",
       "      <th></th>\n",
       "      <th></th>\n",
       "      <th></th>\n",
       "      <th></th>\n",
       "      <th></th>\n",
       "      <th></th>\n",
       "      <th></th>\n",
       "      <th></th>\n",
       "      <th></th>\n",
       "      <th></th>\n",
       "      <th></th>\n",
       "      <th></th>\n",
       "      <th></th>\n",
       "      <th></th>\n",
       "      <th></th>\n",
       "      <th></th>\n",
       "      <th></th>\n",
       "      <th></th>\n",
       "      <th></th>\n",
       "      <th></th>\n",
       "    </tr>\n",
       "  </thead>\n",
       "  <tbody>\n",
       "    <tr>\n",
       "      <th>1962-01-02</th>\n",
       "      <td>NaN</td>\n",
       "      <td>NaN</td>\n",
       "      <td>0.145748</td>\n",
       "      <td>0.135711</td>\n",
       "      <td>NaN</td>\n",
       "      <td>0.051240</td>\n",
       "      <td>NaN</td>\n",
       "      <td>0.035517</td>\n",
       "      <td>NaN</td>\n",
       "      <td>0.001782</td>\n",
       "      <td>...</td>\n",
       "      <td>NaN</td>\n",
       "      <td>NaN</td>\n",
       "      <td>192000.0</td>\n",
       "      <td>NaN</td>\n",
       "      <td>NaN</td>\n",
       "      <td>NaN</td>\n",
       "      <td>NaN</td>\n",
       "      <td>NaN</td>\n",
       "      <td>NaN</td>\n",
       "      <td>902400.0</td>\n",
       "    </tr>\n",
       "    <tr>\n",
       "      <th>1962-01-03</th>\n",
       "      <td>NaN</td>\n",
       "      <td>NaN</td>\n",
       "      <td>0.148663</td>\n",
       "      <td>0.137033</td>\n",
       "      <td>NaN</td>\n",
       "      <td>0.051125</td>\n",
       "      <td>NaN</td>\n",
       "      <td>0.035994</td>\n",
       "      <td>NaN</td>\n",
       "      <td>0.001764</td>\n",
       "      <td>...</td>\n",
       "      <td>NaN</td>\n",
       "      <td>NaN</td>\n",
       "      <td>428800.0</td>\n",
       "      <td>NaN</td>\n",
       "      <td>NaN</td>\n",
       "      <td>NaN</td>\n",
       "      <td>NaN</td>\n",
       "      <td>NaN</td>\n",
       "      <td>NaN</td>\n",
       "      <td>1200000.0</td>\n",
       "    </tr>\n",
       "    <tr>\n",
       "      <th>1962-01-04</th>\n",
       "      <td>NaN</td>\n",
       "      <td>NaN</td>\n",
       "      <td>0.147205</td>\n",
       "      <td>0.140558</td>\n",
       "      <td>NaN</td>\n",
       "      <td>0.050662</td>\n",
       "      <td>NaN</td>\n",
       "      <td>0.035994</td>\n",
       "      <td>NaN</td>\n",
       "      <td>0.001743</td>\n",
       "      <td>...</td>\n",
       "      <td>NaN</td>\n",
       "      <td>NaN</td>\n",
       "      <td>326400.0</td>\n",
       "      <td>NaN</td>\n",
       "      <td>NaN</td>\n",
       "      <td>NaN</td>\n",
       "      <td>NaN</td>\n",
       "      <td>NaN</td>\n",
       "      <td>NaN</td>\n",
       "      <td>1088000.0</td>\n",
       "    </tr>\n",
       "    <tr>\n",
       "      <th>1962-01-05</th>\n",
       "      <td>NaN</td>\n",
       "      <td>NaN</td>\n",
       "      <td>0.144290</td>\n",
       "      <td>0.141880</td>\n",
       "      <td>NaN</td>\n",
       "      <td>0.049390</td>\n",
       "      <td>NaN</td>\n",
       "      <td>0.036113</td>\n",
       "      <td>NaN</td>\n",
       "      <td>0.001698</td>\n",
       "      <td>...</td>\n",
       "      <td>NaN</td>\n",
       "      <td>NaN</td>\n",
       "      <td>544000.0</td>\n",
       "      <td>NaN</td>\n",
       "      <td>NaN</td>\n",
       "      <td>NaN</td>\n",
       "      <td>NaN</td>\n",
       "      <td>NaN</td>\n",
       "      <td>NaN</td>\n",
       "      <td>1222400.0</td>\n",
       "    </tr>\n",
       "    <tr>\n",
       "      <th>1962-01-08</th>\n",
       "      <td>NaN</td>\n",
       "      <td>NaN</td>\n",
       "      <td>0.144654</td>\n",
       "      <td>0.142761</td>\n",
       "      <td>NaN</td>\n",
       "      <td>0.049158</td>\n",
       "      <td>NaN</td>\n",
       "      <td>0.035994</td>\n",
       "      <td>NaN</td>\n",
       "      <td>0.001695</td>\n",
       "      <td>...</td>\n",
       "      <td>NaN</td>\n",
       "      <td>NaN</td>\n",
       "      <td>1523200.0</td>\n",
       "      <td>NaN</td>\n",
       "      <td>NaN</td>\n",
       "      <td>NaN</td>\n",
       "      <td>NaN</td>\n",
       "      <td>NaN</td>\n",
       "      <td>NaN</td>\n",
       "      <td>1388800.0</td>\n",
       "    </tr>\n",
       "  </tbody>\n",
       "</table>\n",
       "<p>5 rows × 198 columns</p>\n",
       "</div>"
      ],
      "text/plain": [
       "           Adj Close                                                           \\\n",
       "                AAPL AXP        BA       CAT CSCO       CVX  DD       DIS DJI   \n",
       "Date                                                                            \n",
       "1962-01-02       NaN NaN  0.145748  0.135711  NaN  0.051240 NaN  0.035517 NaN   \n",
       "1962-01-03       NaN NaN  0.148663  0.137033  NaN  0.051125 NaN  0.035994 NaN   \n",
       "1962-01-04       NaN NaN  0.147205  0.140558  NaN  0.050662 NaN  0.035994 NaN   \n",
       "1962-01-05       NaN NaN  0.144290  0.141880  NaN  0.049390 NaN  0.036113 NaN   \n",
       "1962-01-08       NaN NaN  0.144654  0.142761  NaN  0.049158 NaN  0.035994 NaN   \n",
       "\n",
       "                      ... Volume                                         \\\n",
       "                  GE  ...    NKE PFE         PG TRV UNH UTX   V  VZ WMT   \n",
       "Date                  ...                                                 \n",
       "1962-01-02  0.001782  ...    NaN NaN   192000.0 NaN NaN NaN NaN NaN NaN   \n",
       "1962-01-03  0.001764  ...    NaN NaN   428800.0 NaN NaN NaN NaN NaN NaN   \n",
       "1962-01-04  0.001743  ...    NaN NaN   326400.0 NaN NaN NaN NaN NaN NaN   \n",
       "1962-01-05  0.001698  ...    NaN NaN   544000.0 NaN NaN NaN NaN NaN NaN   \n",
       "1962-01-08  0.001695  ...    NaN NaN  1523200.0 NaN NaN NaN NaN NaN NaN   \n",
       "\n",
       "                       \n",
       "                  XOM  \n",
       "Date                   \n",
       "1962-01-02   902400.0  \n",
       "1962-01-03  1200000.0  \n",
       "1962-01-04  1088000.0  \n",
       "1962-01-05  1222400.0  \n",
       "1962-01-08  1388800.0  \n",
       "\n",
       "[5 rows x 198 columns]"
      ]
     },
     "execution_count": 26,
     "metadata": {},
     "output_type": "execute_result"
    }
   ],
   "source": [
    "df.head(5)"
   ]
  },
  {
   "cell_type": "code",
   "execution_count": 10,
   "metadata": {
    "ExecuteTime": {
     "end_time": "2020-06-03T15:45:05.136719Z",
     "start_time": "2020-06-03T15:45:05.123242Z"
    }
   },
   "outputs": [
    {
     "data": {
      "text/plain": [
       "'\\nmsft = yf.Ticker(\"MSFT\")\\ndisplay(msft)\\n\\n# get stock info\\ndisplay(msft.info)\\n\\n# get historical market data, here max is 5 years.\\ndisplay(msft.history(period=\"max\"))\\n'"
      ]
     },
     "execution_count": 10,
     "metadata": {},
     "output_type": "execute_result"
    }
   ],
   "source": [
    "'''\n",
    "msft = yf.Ticker(\"MSFT\")\n",
    "display(msft)\n",
    "\n",
    "# get stock info\n",
    "display(msft.info)\n",
    "\n",
    "# get historical market data, here max is 5 years.\n",
    "display(msft.history(period=\"max\"))\n",
    "'''"
   ]
  },
  {
   "cell_type": "markdown",
   "metadata": {},
   "source": [
    "#### Quandl\n",
    "Currently converted to markdown as not being used."
   ]
  },
  {
   "cell_type": "markdown",
   "metadata": {
    "ExecuteTime": {
     "end_time": "2020-05-31T21:07:03.412313Z",
     "start_time": "2020-05-31T21:07:01.884614Z"
    }
   },
   "source": [
    "stocks2 = quandl.get_table('ZACKS/FC', ticker=stock_tickers, paginate=True)"
   ]
  },
  {
   "cell_type": "markdown",
   "metadata": {},
   "source": [
    "stocks2.head(5)"
   ]
  },
  {
   "cell_type": "markdown",
   "metadata": {
    "ExecuteTime": {
     "end_time": "2020-05-31T21:07:09.699425Z",
     "start_time": "2020-05-31T21:07:09.652298Z"
    }
   },
   "source": [
    "stocks = stocks2.dropna(how='any',thresh=1, axis=1).copy"
   ]
  },
  {
   "cell_type": "markdown",
   "metadata": {},
   "source": [
    "stocks.info"
   ]
  },
  {
   "cell_type": "markdown",
   "metadata": {
    "ExecuteTime": {
     "end_time": "2020-05-31T21:07:31.334703Z",
     "start_time": "2020-05-31T21:07:31.300711Z"
    }
   },
   "source": [
    "stock_profile = PP.ProfileReport(stocks, title='Pandas Profiling Report', explorative=True)"
   ]
  },
  {
   "cell_type": "markdown",
   "metadata": {
    "ExecuteTime": {
     "end_time": "2020-05-31T23:10:14.501542Z",
     "start_time": "2020-05-31T21:29:40.074512Z"
    },
    "scrolled": true
   },
   "source": [
    "stock_profile.to_widgets()"
   ]
  },
  {
   "cell_type": "markdown",
   "metadata": {},
   "source": [
    "### Import Oil Pricing"
   ]
  },
  {
   "cell_type": "code",
   "execution_count": 178,
   "metadata": {
    "ExecuteTime": {
     "end_time": "2020-06-03T18:23:44.746696Z",
     "start_time": "2020-06-03T18:23:41.836243Z"
    }
   },
   "outputs": [],
   "source": [
    "# Europe Brent Crude\n",
    "eubrent = quandl.get(\"FRED/DCOILBRENTEU\")\n",
    "\n",
    "# All Crude Pricing\n",
    "crude = quandl.get(\"BP/CRUDE_OIL_PRICES\")\n",
    "\n",
    "# \n"
   ]
  },
  {
   "cell_type": "code",
   "execution_count": 179,
   "metadata": {
    "ExecuteTime": {
     "end_time": "2020-06-03T18:23:45.576256Z",
     "start_time": "2020-06-03T18:23:45.547301Z"
    }
   },
   "outputs": [
    {
     "data": {
      "text/html": [
       "<div>\n",
       "<style scoped>\n",
       "    .dataframe tbody tr th:only-of-type {\n",
       "        vertical-align: middle;\n",
       "    }\n",
       "\n",
       "    .dataframe tbody tr th {\n",
       "        vertical-align: top;\n",
       "    }\n",
       "\n",
       "    .dataframe thead th {\n",
       "        text-align: right;\n",
       "    }\n",
       "</style>\n",
       "<table border=\"1\" class=\"dataframe\">\n",
       "  <thead>\n",
       "    <tr style=\"text-align: right;\">\n",
       "      <th></th>\n",
       "      <th>Value</th>\n",
       "    </tr>\n",
       "    <tr>\n",
       "      <th>Date</th>\n",
       "      <th></th>\n",
       "    </tr>\n",
       "  </thead>\n",
       "  <tbody>\n",
       "    <tr>\n",
       "      <th>1987-05-20</th>\n",
       "      <td>18.63</td>\n",
       "    </tr>\n",
       "    <tr>\n",
       "      <th>1987-05-21</th>\n",
       "      <td>18.45</td>\n",
       "    </tr>\n",
       "    <tr>\n",
       "      <th>1987-05-22</th>\n",
       "      <td>18.55</td>\n",
       "    </tr>\n",
       "    <tr>\n",
       "      <th>1987-05-25</th>\n",
       "      <td>18.60</td>\n",
       "    </tr>\n",
       "    <tr>\n",
       "      <th>1987-05-26</th>\n",
       "      <td>18.63</td>\n",
       "    </tr>\n",
       "    <tr>\n",
       "      <th>...</th>\n",
       "      <td>...</td>\n",
       "    </tr>\n",
       "    <tr>\n",
       "      <th>2020-05-20</th>\n",
       "      <td>34.76</td>\n",
       "    </tr>\n",
       "    <tr>\n",
       "      <th>2020-05-21</th>\n",
       "      <td>34.78</td>\n",
       "    </tr>\n",
       "    <tr>\n",
       "      <th>2020-05-22</th>\n",
       "      <td>33.80</td>\n",
       "    </tr>\n",
       "    <tr>\n",
       "      <th>2020-05-25</th>\n",
       "      <td>33.80</td>\n",
       "    </tr>\n",
       "    <tr>\n",
       "      <th>2020-05-26</th>\n",
       "      <td>33.95</td>\n",
       "    </tr>\n",
       "  </tbody>\n",
       "</table>\n",
       "<p>8382 rows × 1 columns</p>\n",
       "</div>"
      ],
      "text/plain": [
       "            Value\n",
       "Date             \n",
       "1987-05-20  18.63\n",
       "1987-05-21  18.45\n",
       "1987-05-22  18.55\n",
       "1987-05-25  18.60\n",
       "1987-05-26  18.63\n",
       "...           ...\n",
       "2020-05-20  34.76\n",
       "2020-05-21  34.78\n",
       "2020-05-22  33.80\n",
       "2020-05-25  33.80\n",
       "2020-05-26  33.95\n",
       "\n",
       "[8382 rows x 1 columns]"
      ]
     },
     "metadata": {},
     "output_type": "display_data"
    },
    {
     "data": {
      "text/html": [
       "<div>\n",
       "<style scoped>\n",
       "    .dataframe tbody tr th:only-of-type {\n",
       "        vertical-align: middle;\n",
       "    }\n",
       "\n",
       "    .dataframe tbody tr th {\n",
       "        vertical-align: top;\n",
       "    }\n",
       "\n",
       "    .dataframe thead th {\n",
       "        text-align: right;\n",
       "    }\n",
       "</style>\n",
       "<table border=\"1\" class=\"dataframe\">\n",
       "  <thead>\n",
       "    <tr style=\"text-align: right;\">\n",
       "      <th></th>\n",
       "      <th>Price in Contemporary Dollars</th>\n",
       "      <th>Price in 2018 Dollars</th>\n",
       "    </tr>\n",
       "    <tr>\n",
       "      <th>Date</th>\n",
       "      <th></th>\n",
       "      <th></th>\n",
       "    </tr>\n",
       "  </thead>\n",
       "  <tbody>\n",
       "    <tr>\n",
       "      <th>1861-12-31</th>\n",
       "      <td>0.490000</td>\n",
       "      <td>13.638884</td>\n",
       "    </tr>\n",
       "    <tr>\n",
       "      <th>1862-12-31</th>\n",
       "      <td>1.050000</td>\n",
       "      <td>26.303562</td>\n",
       "    </tr>\n",
       "    <tr>\n",
       "      <th>1863-12-31</th>\n",
       "      <td>3.150000</td>\n",
       "      <td>63.981638</td>\n",
       "    </tr>\n",
       "    <tr>\n",
       "      <th>1864-12-31</th>\n",
       "      <td>8.060000</td>\n",
       "      <td>128.879461</td>\n",
       "    </tr>\n",
       "    <tr>\n",
       "      <th>1865-12-31</th>\n",
       "      <td>6.590000</td>\n",
       "      <td>107.664892</td>\n",
       "    </tr>\n",
       "    <tr>\n",
       "      <th>...</th>\n",
       "      <td>...</td>\n",
       "      <td>...</td>\n",
       "    </tr>\n",
       "    <tr>\n",
       "      <th>2014-12-31</th>\n",
       "      <td>98.946008</td>\n",
       "      <td>104.952501</td>\n",
       "    </tr>\n",
       "    <tr>\n",
       "      <th>2015-12-31</th>\n",
       "      <td>52.386759</td>\n",
       "      <td>55.501006</td>\n",
       "    </tr>\n",
       "    <tr>\n",
       "      <th>2016-12-31</th>\n",
       "      <td>43.734170</td>\n",
       "      <td>45.756816</td>\n",
       "    </tr>\n",
       "    <tr>\n",
       "      <th>2017-12-31</th>\n",
       "      <td>54.192440</td>\n",
       "      <td>55.516078</td>\n",
       "    </tr>\n",
       "    <tr>\n",
       "      <th>2018-12-31</th>\n",
       "      <td>71.310060</td>\n",
       "      <td>71.310060</td>\n",
       "    </tr>\n",
       "  </tbody>\n",
       "</table>\n",
       "<p>158 rows × 2 columns</p>\n",
       "</div>"
      ],
      "text/plain": [
       "            Price in Contemporary Dollars  Price in 2018 Dollars\n",
       "Date                                                            \n",
       "1861-12-31                       0.490000              13.638884\n",
       "1862-12-31                       1.050000              26.303562\n",
       "1863-12-31                       3.150000              63.981638\n",
       "1864-12-31                       8.060000             128.879461\n",
       "1865-12-31                       6.590000             107.664892\n",
       "...                                   ...                    ...\n",
       "2014-12-31                      98.946008             104.952501\n",
       "2015-12-31                      52.386759              55.501006\n",
       "2016-12-31                      43.734170              45.756816\n",
       "2017-12-31                      54.192440              55.516078\n",
       "2018-12-31                      71.310060              71.310060\n",
       "\n",
       "[158 rows x 2 columns]"
      ]
     },
     "metadata": {},
     "output_type": "display_data"
    }
   ],
   "source": [
    "display(eubrent)\n",
    "display(crude)"
   ]
  },
  {
   "cell_type": "code",
   "execution_count": 10,
   "metadata": {
    "ExecuteTime": {
     "end_time": "2020-06-01T00:25:28.452280Z",
     "start_time": "2020-06-01T00:25:28.394529Z"
    }
   },
   "outputs": [],
   "source": [
    "brent_profile = PP.ProfileReport(eubrent, title='Pandas Profiling Report', explorative=True)\n",
    "crude_profile = PP.ProfileReport(crude, title='Pandas Profiling Report', explorative=True)"
   ]
  },
  {
   "cell_type": "code",
   "execution_count": 11,
   "metadata": {
    "ExecuteTime": {
     "end_time": "2020-06-01T00:25:34.358455Z",
     "start_time": "2020-06-01T00:25:29.872416Z"
    },
    "scrolled": false
   },
   "outputs": [
    {
     "data": {
      "application/vnd.jupyter.widget-view+json": {
       "model_id": "15d083506cb94dcd9b7b13ec5284302c",
       "version_major": 2,
       "version_minor": 0
      },
      "text/plain": [
       "HBox(children=(FloatProgress(value=0.0, description='Summarize dataset', max=16.0, style=ProgressStyle(descrip…"
      ]
     },
     "metadata": {},
     "output_type": "display_data"
    },
    {
     "name": "stdout",
     "output_type": "stream",
     "text": [
      "\n"
     ]
    },
    {
     "data": {
      "application/vnd.jupyter.widget-view+json": {
       "model_id": "f76bea207688425d9644a6ef69626b10",
       "version_major": 2,
       "version_minor": 0
      },
      "text/plain": [
       "HBox(children=(FloatProgress(value=0.0, description='Generate report structure', max=1.0, style=ProgressStyle(…"
      ]
     },
     "metadata": {},
     "output_type": "display_data"
    },
    {
     "name": "stdout",
     "output_type": "stream",
     "text": [
      "\n"
     ]
    },
    {
     "data": {
      "application/vnd.jupyter.widget-view+json": {
       "model_id": "",
       "version_major": 2,
       "version_minor": 0
      },
      "text/plain": [
       "HBox(children=(FloatProgress(value=0.0, description='Render widgets', max=1.0, style=ProgressStyle(description…"
      ]
     },
     "metadata": {},
     "output_type": "display_data"
    },
    {
     "data": {
      "application/vnd.jupyter.widget-view+json": {
       "model_id": "802049bf5705470e8ebb921bab3ae7d3",
       "version_major": 2,
       "version_minor": 0
      },
      "text/plain": [
       "VBox(children=(Tab(children=(Tab(children=(GridBox(children=(VBox(children=(GridspecLayout(children=(HTML(valu…"
      ]
     },
     "metadata": {},
     "output_type": "display_data"
    }
   ],
   "source": [
    "brent_profile.to_widgets()"
   ]
  },
  {
   "cell_type": "code",
   "execution_count": 12,
   "metadata": {
    "ExecuteTime": {
     "end_time": "2020-06-01T00:25:50.601051Z",
     "start_time": "2020-06-01T00:25:38.682427Z"
    },
    "scrolled": false
   },
   "outputs": [
    {
     "data": {
      "application/vnd.jupyter.widget-view+json": {
       "model_id": "0e266d9e37884ca8bac9ad3f186b1bef",
       "version_major": 2,
       "version_minor": 0
      },
      "text/plain": [
       "HBox(children=(FloatProgress(value=0.0, description='Summarize dataset', max=17.0, style=ProgressStyle(descrip…"
      ]
     },
     "metadata": {},
     "output_type": "display_data"
    },
    {
     "name": "stdout",
     "output_type": "stream",
     "text": [
      "\n"
     ]
    },
    {
     "data": {
      "application/vnd.jupyter.widget-view+json": {
       "model_id": "14a0054b1206486d841e43467a8771cd",
       "version_major": 2,
       "version_minor": 0
      },
      "text/plain": [
       "HBox(children=(FloatProgress(value=0.0, description='Generate report structure', max=1.0, style=ProgressStyle(…"
      ]
     },
     "metadata": {},
     "output_type": "display_data"
    },
    {
     "name": "stdout",
     "output_type": "stream",
     "text": [
      "\n"
     ]
    },
    {
     "data": {
      "application/vnd.jupyter.widget-view+json": {
       "model_id": "",
       "version_major": 2,
       "version_minor": 0
      },
      "text/plain": [
       "HBox(children=(FloatProgress(value=0.0, description='Render widgets', max=1.0, style=ProgressStyle(description…"
      ]
     },
     "metadata": {},
     "output_type": "display_data"
    },
    {
     "data": {
      "application/vnd.jupyter.widget-view+json": {
       "model_id": "ce610d4ba1da41cb8dad442f097f89c4",
       "version_major": 2,
       "version_minor": 0
      },
      "text/plain": [
       "VBox(children=(Tab(children=(Tab(children=(GridBox(children=(VBox(children=(GridspecLayout(children=(HTML(valu…"
      ]
     },
     "metadata": {},
     "output_type": "display_data"
    }
   ],
   "source": [
    "crude_profile.to_widgets()"
   ]
  },
  {
   "cell_type": "markdown",
   "metadata": {},
   "source": [
    "### Federal Reserve Data"
   ]
  },
  {
   "cell_type": "code",
   "execution_count": 13,
   "metadata": {
    "ExecuteTime": {
     "end_time": "2020-06-01T00:26:44.127504Z",
     "start_time": "2020-06-01T00:26:43.709958Z"
    }
   },
   "outputs": [],
   "source": [
    "fedres = quandl.get('FRED/NROUST')"
   ]
  },
  {
   "cell_type": "code",
   "execution_count": 14,
   "metadata": {
    "ExecuteTime": {
     "end_time": "2020-06-01T00:26:44.870125Z",
     "start_time": "2020-06-01T00:26:44.844528Z"
    }
   },
   "outputs": [],
   "source": [
    "fedres_profile = PP.ProfileReport(fedres, title='Pandas Profiling Report', explorative=True)\n",
    "#fedres_profile = fedres.profile_report()"
   ]
  },
  {
   "cell_type": "code",
   "execution_count": 15,
   "metadata": {
    "ExecuteTime": {
     "end_time": "2020-06-01T00:26:50.882068Z",
     "start_time": "2020-06-01T00:26:46.285034Z"
    },
    "scrolled": true
   },
   "outputs": [
    {
     "data": {
      "application/vnd.jupyter.widget-view+json": {
       "model_id": "0e08497306994a5aab38e44d9d342e5f",
       "version_major": 2,
       "version_minor": 0
      },
      "text/plain": [
       "HBox(children=(FloatProgress(value=0.0, description='Summarize dataset', max=16.0, style=ProgressStyle(descrip…"
      ]
     },
     "metadata": {},
     "output_type": "display_data"
    },
    {
     "name": "stdout",
     "output_type": "stream",
     "text": [
      "\n"
     ]
    },
    {
     "data": {
      "application/vnd.jupyter.widget-view+json": {
       "model_id": "5c02eb0a72bd4a6aa5561e3de51beaf3",
       "version_major": 2,
       "version_minor": 0
      },
      "text/plain": [
       "HBox(children=(FloatProgress(value=0.0, description='Generate report structure', max=1.0, style=ProgressStyle(…"
      ]
     },
     "metadata": {},
     "output_type": "display_data"
    },
    {
     "name": "stdout",
     "output_type": "stream",
     "text": [
      "\n"
     ]
    },
    {
     "data": {
      "application/vnd.jupyter.widget-view+json": {
       "model_id": "",
       "version_major": 2,
       "version_minor": 0
      },
      "text/plain": [
       "HBox(children=(FloatProgress(value=0.0, description='Render widgets', max=1.0, style=ProgressStyle(description…"
      ]
     },
     "metadata": {},
     "output_type": "display_data"
    },
    {
     "data": {
      "application/vnd.jupyter.widget-view+json": {
       "model_id": "958358bc54e7411ba1864cd5fe4a0674",
       "version_major": 2,
       "version_minor": 0
      },
      "text/plain": [
       "VBox(children=(Tab(children=(Tab(children=(GridBox(children=(VBox(children=(GridspecLayout(children=(HTML(valu…"
      ]
     },
     "metadata": {},
     "output_type": "display_data"
    }
   ],
   "source": [
    "fedres_profile.to_widgets()"
   ]
  },
  {
   "cell_type": "code",
   "execution_count": null,
   "metadata": {},
   "outputs": [],
   "source": []
  }
 ],
 "metadata": {
  "kernelspec": {
   "display_name": "Python 3.7.12 ('py37_econ')",
   "language": "python",
   "name": "python3"
  },
  "language_info": {
   "codemirror_mode": {
    "name": "ipython",
    "version": 3
   },
   "file_extension": ".py",
   "mimetype": "text/x-python",
   "name": "python",
   "nbconvert_exporter": "python",
   "pygments_lexer": "ipython3",
   "version": "3.7.12"
  },
  "toc": {
   "base_numbering": 1,
   "nav_menu": {},
   "number_sections": true,
   "sideBar": true,
   "skip_h1_title": true,
   "title_cell": "Table of Contents",
   "title_sidebar": "Contents",
   "toc_cell": false,
   "toc_position": {},
   "toc_section_display": true,
   "toc_window_display": true
  },
  "vscode": {
   "interpreter": {
    "hash": "b653489af8c39d53f3b67d6f08b8122d32fdc9808e503ba107b1166fad8f0fa2"
   }
  }
 },
 "nbformat": 4,
 "nbformat_minor": 4
}
