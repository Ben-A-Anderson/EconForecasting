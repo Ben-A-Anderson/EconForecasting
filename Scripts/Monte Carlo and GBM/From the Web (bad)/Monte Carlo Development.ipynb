{
 "cells": [
  {
   "cell_type": "markdown",
   "metadata": {},
   "source": [
    "___\n",
    "\n",
    "<a href='https://github.com/eliasmelul/'> <img src='https://s3.us-east-2.amazonaws.com/wordontheamazon.com/NoMargin_NewLogo.png' style='width: 15em;' align='right' /></a>\n",
    "# Finance with Python\n",
    "### Monte Carlo Simulations for Stock Price Predictions\n",
    "___\n",
    "<h4 align=\"right\">by Elias Melul, Data Scientist </h4> \n",
    "\n",
    "___\n",
    "\n",
    "\n",
    "\n",
    "In this notebook, we introduce how to use Monte Carlo simulations for forecasting future stock prices.\n",
    "\n",
    "$$\n",
    "{Price Today}={Price Yesterday * e^r}\n",
    "$$\n",
    "\n",
    "* We know yesterday's price. \n",
    "\n",
    "* We want to predict today's price. \n",
    "\n",
    "* What we do not know is the rate of return, r, of the share price between yesterday and today. \n",
    "\n",
    "This is where the Monte Carlo simulation comes in! But first, how do we compute the return?\n",
    "\n",
    "### Brownian Motion\n",
    "\n",
    "Brownian motion will be the main driver for estimating the return. It is a stochastic process used for modeling random behavior over time. For simplicity, we will use regular brownian motion, instead of the Geometric Brownian Motion, which is more common and less questionable in stock pricing applications.\n",
    "\n",
    "**Brownian Motion** has two main main components:\n",
    "1. Drift - the direction that rates of returns have had in the past. That is, the expected return of the stock.\n",
    "$$\n",
    "{Drift} = ({mean} - \\frac{1}{2} {Var})\n",
    "$$\n",
    "\n",
    "    Why do we multiply the variance by 0.5? Because historical values are eroded in the future.\n",
    "    \n",
    "\n",
    "2. Volatility -  random variable. This is the historical volatility multiplied by a random, standard normally distributed variable.\n",
    "\n",
    "$$\n",
    "{Volatility} = {Std.Dev. * Z([Rand(0;1)])}\n",
    "$$\n",
    "\n",
    "Therefore, our asset pricing equation ends up looking like this:\n",
    "\n",
    "$$\n",
    "{Price Today}={Price Yesterday * e^{mean-\\frac{1}{2}{Var} + Std.Dev * Z([Rand(0;1)])}}\n",
    "$$\n",
    "\n",
    "\n",
    "\n",
    "This technique will be used for every day into the future you want to predict, and for however many trials the monte carlo simulation will run!\n",
    "\n",
    "---\n",
    "\n",
    "First, import required libraries."
   ]
  },
  {
   "cell_type": "code",
   "execution_count": 2,
   "metadata": {},
   "outputs": [],
   "source": [
    "import numpy as np\n",
    "import pandas as pd\n",
    "from pandas_datareader import data as wb\n",
    "import matplotlib.pyplot as plt\n",
    "from scipy.stats import norm, gmean, cauchy\n",
    "import seaborn as sns\n",
    "from datetime import datetime\n",
    "\n",
    "%matplotlib inline"
   ]
  },
  {
   "cell_type": "markdown",
   "metadata": {},
   "source": [
    "Import data for one or multiple stocks from a specified date until the last available data. Data source: yahoo finance.\n",
    "\n",
    "For this, it's better if we define a function that imports stock(s) daily data for any publicly traded company as defined by the user starting at a user-defined date until today. We will use the Adjusted Close price."
   ]
  },
  {
   "cell_type": "code",
   "execution_count": 3,
   "metadata": {},
   "outputs": [],
   "source": [
    "def import_stock_data(tickers, start = '2010-1-1', end = datetime.today().strftime('%Y-%m-%d')):\n",
    "    data = pd.DataFrame()\n",
    "    if len([tickers]) ==1:\n",
    "        data[tickers] = wb.DataReader(tickers, data_source='yahoo', start = start)['Adj Close']\n",
    "        data = pd.DataFrame(data)\n",
    "    else:\n",
    "        for t in tickers:\n",
    "            data[t] = wb.DataReader(t, data_source='yahoo', start = start)['Adj Close']\n",
    "    return(data)"
   ]
  },
  {
   "cell_type": "code",
   "execution_count": 4,
   "metadata": {},
   "outputs": [],
   "source": [
    "data = import_stock_data(['PG'])"
   ]
  },
  {
   "cell_type": "markdown",
   "metadata": {},
   "source": [
    "Then, we compute the logarithmic returns of the data."
   ]
  },
  {
   "cell_type": "code",
   "execution_count": 5,
   "metadata": {},
   "outputs": [],
   "source": [
    "def log_returns(data):\n",
    "    return (np.log(1+data.pct_change()))"
   ]
  },
  {
   "cell_type": "code",
   "execution_count": 6,
   "metadata": {},
   "outputs": [],
   "source": [
    "log_return = log_returns(data)"
   ]
  },
  {
   "cell_type": "markdown",
   "metadata": {},
   "source": [
    "We also create a function to compute the simple returns."
   ]
  },
  {
   "cell_type": "code",
   "execution_count": 7,
   "metadata": {},
   "outputs": [],
   "source": [
    "def simple_returns(data):\n",
    "    return ((data/data.shift(1))-1)"
   ]
  },
  {
   "cell_type": "markdown",
   "metadata": {},
   "source": [
    "## CAPM and Sharpe\n",
    "\n",
    "Before we jump into Monte Carlo Simulations, we would like to report some statistics with it, including the Beta and Sharpe Ratio of the stock, compared to the _market portfolio_. To understand these metrics, we first must understand the underlying concepts of the _Capital Asset Pricing Model,_ starting with the _market portfolio_.\n",
    "\n",
    "* The market portfolio is the theoretical combination of all possible investments in the world. However, there is no such thing as a market portfolio. We approximate it with a stock market index. In our case, we use the S&P500, but you can specify any index you want to!\n",
    "\n",
    "* We also note that there is no such thing as a risk-free asset. We will use a 10-year US government bond yield of 2.5% instead.\n",
    "\n",
    "* The equity premium is the difference between the expected return of the market and the risk-free asset. This value is typically between 4.5 and 5.5%. We can use 5%.\n",
    "\n",
    "We use the _market portfolio_ to compute the Beta, the CAPM expected return, and the Sharpe Ratio of a stock.\n",
    "1. **Beta**: measures the market risk that cannot be avoided through diversification. This is the relationship between the stock and the market portfolio. In other words, it is a measure of how much risk the investment will add to a portfolio that looks like the market.\n",
    "##### $$ \n",
    "\\beta_{i} = \\frac{\\sigma_{i,m}}{\\sigma_{m}^2}\n",
    "$$\n",
    "\n",
    "        When beta = 0, it means that there's no relationship.\n",
    "    \n",
    "        When beta < 1, it means that the stock is defensive (less prone to high highs and low lows)\n",
    "    \n",
    "        When beta > 1, it means that the stock is aggresive (more prone to high highs and low lows)\n",
    "    \n",
    "    \n",
    "2. **Expected Return CAPM**: calculates the expected return of a security adjusted to the risk taken. This equates to the return expected from taking the extra risk of purchasing this security.\n",
    "##### $$\n",
    "\\overline{r_{i}} = r_f + \\beta_{i}(\\overline{r_{m}} - r_f) \n",
    "$$\n",
    "\n",
    "3. **Sharpe Ratio**: measures the performance of a security compared to a risk-free asset, after adjusting for its risk. This is the excess return per unit of risk of an investment.\n",
    "##### $$\n",
    "Sharpe = \\frac{\\overline{r_{i}} - r_f}{\\sigma_{i}}\n",
    "$$\n",
    "        When Sharpe > 1, GOOD risk-adjusted returns\n",
    "    \n",
    "        When Sharpe > 2, VERY GOOD risk-adjusted returns\n",
    "    \n",
    "        When Sharpe > 3, EXCELLENT risk-adjusted returns\n",
    "    "
   ]
  },
  {
   "cell_type": "code",
   "execution_count": 8,
   "metadata": {},
   "outputs": [],
   "source": [
    "def market_data_combination(data, mark_ticker = \"^GSPC\", start='2010-1-1'):\n",
    "    market_data = import_stock_data(mark_ticker, start)\n",
    "    market_rets = log_returns(market_data).dropna()\n",
    "    ann_return = np.exp(market_rets.mean()*252).values-1\n",
    "    data = data.merge(market_data, left_index=True, right_index=True)\n",
    "    return data, ann_return"
   ]
  },
  {
   "cell_type": "code",
   "execution_count": 9,
   "metadata": {},
   "outputs": [],
   "source": [
    "def beta_sharpe(data, mark_ticker = \"^GSPC\", start='2010-1-1', riskfree = 0.025):\n",
    "    \n",
    "    \"\"\"\n",
    "    Input: \n",
    "    1. data: dataframe of stock price data\n",
    "    2. mark_ticker: ticker of the market data you want to compute CAPM metrics with (default is ^GSPC)\n",
    "    3. start: data from which to download data (default Jan 1st 2010)\n",
    "    4. riskfree: the assumed risk free yield (US 10 Year Bond is assumed: 2.5%)\n",
    "    \n",
    "    Output:\n",
    "    1. Dataframe with CAPM metrics computed against specified market procy\n",
    "    \"\"\"\n",
    "    # Beta\n",
    "    dd, mark_ret = market_data_combination(data, mark_ticker, start)\n",
    "    log_ret = log_returns(dd)\n",
    "    covar = log_ret.cov()*252\n",
    "    covar = pd.DataFrame(covar.iloc[:-1,-1])\n",
    "    mrk_var = log_ret.iloc[:,-1].var()*252\n",
    "    beta = covar/mrk_var\n",
    "    \n",
    "    stdev_ret = pd.DataFrame(((log_ret.std()*250**0.5)[:-1]), columns=['STD'])\n",
    "    beta = beta.merge(stdev_ret, left_index=True, right_index=True)\n",
    "    \n",
    "    # CAPM\n",
    "    for i, row in beta.iterrows():\n",
    "        beta.at[i,'CAPM'] = riskfree + (row[mark_ticker] * (mark_ret-riskfree))\n",
    "    # Sharpe\n",
    "    for i, row in beta.iterrows():\n",
    "        beta.at[i,'Sharpe'] = ((row['CAPM']-riskfree)/(row['STD']))\n",
    "    beta.rename(columns={\"^GSPC\":\"Beta\"}, inplace=True)\n",
    "    \n",
    "    return beta"
   ]
  },
  {
   "cell_type": "code",
   "execution_count": 10,
   "metadata": {},
   "outputs": [
    {
     "data": {
      "text/html": [
       "<div>\n",
       "<style scoped>\n",
       "    .dataframe tbody tr th:only-of-type {\n",
       "        vertical-align: middle;\n",
       "    }\n",
       "\n",
       "    .dataframe tbody tr th {\n",
       "        vertical-align: top;\n",
       "    }\n",
       "\n",
       "    .dataframe thead th {\n",
       "        text-align: right;\n",
       "    }\n",
       "</style>\n",
       "<table border=\"1\" class=\"dataframe\">\n",
       "  <thead>\n",
       "    <tr style=\"text-align: right;\">\n",
       "      <th></th>\n",
       "      <th>Beta</th>\n",
       "      <th>STD</th>\n",
       "      <th>CAPM</th>\n",
       "      <th>Sharpe</th>\n",
       "    </tr>\n",
       "  </thead>\n",
       "  <tbody>\n",
       "    <tr>\n",
       "      <th>PG</th>\n",
       "      <td>0.565214</td>\n",
       "      <td>0.169858</td>\n",
       "      <td>0.074738</td>\n",
       "      <td>0.292819</td>\n",
       "    </tr>\n",
       "  </tbody>\n",
       "</table>\n",
       "</div>"
      ],
      "text/plain": [
       "        Beta       STD      CAPM    Sharpe\n",
       "PG  0.565214  0.169858  0.074738  0.292819"
      ]
     },
     "execution_count": 10,
     "metadata": {},
     "output_type": "execute_result"
    }
   ],
   "source": [
    "beta_sharpe(data)"
   ]
  },
  {
   "cell_type": "markdown",
   "metadata": {},
   "source": [
    "**Brownian Motion**\n",
    "\n",
    "Now that we have our returns, we can compute the brownian motion, as explained in the introduction.\n",
    "1. Calculate the drift\n",
    "2. Calculate the variance\n",
    "3. Calculate the daily returns based on the drift and variance"
   ]
  },
  {
   "cell_type": "code",
   "execution_count": 11,
   "metadata": {},
   "outputs": [],
   "source": [
    "def drift_calc(data, return_type='log'):\n",
    "    if return_type=='log':\n",
    "        lr = log_returns(data)\n",
    "    elif return_type=='simple':\n",
    "        lr = simple_returns(data)\n",
    "    u = lr.mean()\n",
    "    var = lr.var()\n",
    "    drift = u-(0.5*var)\n",
    "    try:\n",
    "        return drift.values\n",
    "    except:\n",
    "        return drift"
   ]
  },
  {
   "cell_type": "code",
   "execution_count": 12,
   "metadata": {},
   "outputs": [
    {
     "data": {
      "text/plain": [
       "array([0.00034429])"
      ]
     },
     "execution_count": 12,
     "metadata": {},
     "output_type": "execute_result"
    }
   ],
   "source": [
    "drift_calc(data)"
   ]
  },
  {
   "cell_type": "markdown",
   "metadata": {},
   "source": [
    "We calculated the drift above, but now, we must calculate the daily returns for the data. There are things to consider:\n",
    "1. How many days into the future will we predict? (How many rows)\n",
    "2. How many iterations of these predictions will we compute? (How many columns)\n",
    "\n",
    "This generates the daily returns (not prices!) for each day into the future for each iteration (simulation) based on a normal distribution."
   ]
  },
  {
   "cell_type": "code",
   "execution_count": 13,
   "metadata": {},
   "outputs": [],
   "source": [
    "def daily_returns(data, days, iterations, return_type='log'):\n",
    "    ft = drift_calc(data, return_type)\n",
    "    if return_type == 'log':\n",
    "        try:\n",
    "            stv = log_returns(data).std().values\n",
    "        except:\n",
    "            stv = log_returns(data).std()\n",
    "    elif return_type=='simple':\n",
    "        try:\n",
    "            stv = simple_returns(data).std().values\n",
    "        except:\n",
    "            stv = simple_returns(data).std()    \n",
    "    #Oftentimes, we find that the distribution of returns is a variation of the normal distribution where it has a fat tail\n",
    "    # This distribution is called cauchy distribution\n",
    "    dr = np.exp(ft + stv * norm.ppf(np.random.rand(days, iterations)))\n",
    "    return dr"
   ]
  },
  {
   "cell_type": "code",
   "execution_count": 14,
   "metadata": {},
   "outputs": [],
   "source": [
    "dr = daily_returns(data, 2, 3)"
   ]
  },
  {
   "cell_type": "markdown",
   "metadata": {},
   "source": [
    "**Note**: This next function is used to calculate the probability of a stock having a higher price or higher returns than specified over the period defined. "
   ]
  },
  {
   "cell_type": "code",
   "execution_count": 15,
   "metadata": {},
   "outputs": [],
   "source": [
    "def probs_find(predicted, higherthan, on = 'value'):\n",
    "    \"\"\"\n",
    "    This function calculated the probability of a stock being above a certain threshhold, which can be defined as a value (final stock price) or return rate (percentage change)\n",
    "    Input: \n",
    "    1. predicted: dataframe with all the predicted prices (days and simulations)\n",
    "    2. higherthan: specified threshhold to which compute the probability (ex. 0 on return will compute the probability of at least breakeven)\n",
    "    3. on: 'return' or 'value', the return of the stock or the final value of stock for every simulation over the time specified\n",
    "    \"\"\"\n",
    "    if on == 'return':\n",
    "        predicted0 = predicted.iloc[0,0]\n",
    "        predicted = predicted.iloc[-1]\n",
    "        predList = list(predicted)\n",
    "        over = [(i*100)/predicted0 for i in predList if ((i-predicted0)*100)/predicted0 >= higherthan]\n",
    "        less = [(i*100)/predicted0 for i in predList if ((i-predicted0)*100)/predicted0 < higherthan]\n",
    "    elif on == 'value':\n",
    "        predicted = predicted.iloc[-1]\n",
    "        predList = list(predicted)\n",
    "        over = [i for i in predList if i >= higherthan]\n",
    "        less = [i for i in predList if i < higherthan]\n",
    "    else:\n",
    "        print(\"'on' must be either value or return\")\n",
    "    return (len(over)/(len(over)+len(less)))"
   ]
  },
  {
   "cell_type": "markdown",
   "metadata": {},
   "source": [
    "Example: We would like to find out the probability that our investment in PG will breakeven or make a profit over the course of a year (financial year is about 252 days). There are two ways we can do this:\n",
    "1. Returns = 0\n",
    "2. Final stock price = initial stock price ($44.05 - Jan 1st 2010, the first data point)\n",
    "\n",
    "So, with the simulation predicted values, we will predict said probabilities.\n",
    "\n",
    "---\n",
    "\n",
    "First, however, we must run the simulation! How does it work?\n",
    "\n",
    "1. Calculate the daily returns for every day and every iteration (simulation) of the data. \n",
    "2. Creates an equally large matrix of size [days x iteration] full of zeroes.\n",
    "3. Input the last stock price value in the first row (day 0) of the \"empty\" matrix (part 2). This is our starting point.\n",
    "4. Calculate \"today's price\" based on yesterday's multiplied by the daily return generated. That is, multiply the daily return generated for every simulation with the stock price calculated for the previous day (the previous row) for every simulation.\n",
    "\n",
    "Does that sounds familiar? The fourth step multiplies the daily returns with the price of the stock of the previous day!"
   ]
  },
  {
   "cell_type": "code",
   "execution_count": 16,
   "metadata": {},
   "outputs": [],
   "source": [
    "def simulate_mc(data, days, iterations, return_type='log', plot=True):\n",
    "    # Generate daily returns\n",
    "    returns = daily_returns(data, days, iterations, return_type)\n",
    "    # Create empty matrix\n",
    "    price_list = np.zeros_like(returns)\n",
    "    # Put the last actual price in the first row of matrix. \n",
    "    price_list[0] = data.iloc[-1]\n",
    "    # Calculate the price of each day\n",
    "    for t in range(1,days):\n",
    "        price_list[t] = price_list[t-1]*returns[t]\n",
    "    \n",
    "    # Plot Option\n",
    "    if plot == True:\n",
    "        x = pd.DataFrame(price_list).iloc[-1]\n",
    "        fig, ax = plt.subplots(1,2, figsize=(14,4))\n",
    "        sns.distplot(x, ax=ax[0])\n",
    "        sns.distplot(x, hist_kws={'cumulative':True},kde_kws={'cumulative':True},ax=ax[1])\n",
    "        plt.xlabel(\"Stock Price\")\n",
    "        plt.show()\n",
    "    \n",
    "    #CAPM and Sharpe Ratio\n",
    "    \n",
    "    # Printing information about stock\n",
    "    try:\n",
    "        [print(nam) for nam in data.columns]\n",
    "    except:\n",
    "        print(data.name)\n",
    "    print(f\"Days: {days-1}\")\n",
    "    print(f\"Expected Value: ${round(pd.DataFrame(price_list).iloc[-1].mean(),2)}\")\n",
    "    print(f\"Return: {round(100*(pd.DataFrame(price_list).iloc[-1].mean()-price_list[0,1])/pd.DataFrame(price_list).iloc[-1].mean(),2)}%\")\n",
    "    print(f\"Probability of Breakeven: {probs_find(pd.DataFrame(price_list),0, on='return')}\")\n",
    "   \n",
    "          \n",
    "    return pd.DataFrame(price_list)"
   ]
  },
  {
   "cell_type": "code",
   "execution_count": 17,
   "metadata": {
    "scrolled": false
   },
   "outputs": [
    {
     "name": "stderr",
     "output_type": "stream",
     "text": [
      "C:\\Users\\baanders\\AppData\\Local\\Continuum\\anaconda3\\envs\\py37_benzene\\lib\\site-packages\\seaborn\\distributions.py:2619: FutureWarning: `distplot` is a deprecated function and will be removed in a future version. Please adapt your code to use either `displot` (a figure-level function with similar flexibility) or `histplot` (an axes-level function for histograms).\n",
      "  warnings.warn(msg, FutureWarning)\n",
      "C:\\Users\\baanders\\AppData\\Local\\Continuum\\anaconda3\\envs\\py37_benzene\\lib\\site-packages\\seaborn\\distributions.py:2619: FutureWarning: `distplot` is a deprecated function and will be removed in a future version. Please adapt your code to use either `displot` (a figure-level function with similar flexibility) or `histplot` (an axes-level function for histograms).\n",
      "  warnings.warn(msg, FutureWarning)\n"
     ]
    },
    {
     "data": {
      "image/png": "[encoded data removed]",
      "text/plain": [
       "<Figure size 1008x288 with 2 Axes>"
      ]
     },
     "metadata": {
      "needs_background": "light"
     },
     "output_type": "display_data"
    },
    {
     "name": "stdout",
     "output_type": "stream",
     "text": [
      "PG\n",
      "Days: 251\n",
      "Expected Value: $159.38\n",
      "Return: 8.99%\n",
      "Probability of Breakeven: 0.695\n"
     ]
    },
    {
     "data": {
      "text/html": [
       "<div>\n",
       "<style scoped>\n",
       "    .dataframe tbody tr th:only-of-type {\n",
       "        vertical-align: middle;\n",
       "    }\n",
       "\n",
       "    .dataframe tbody tr th {\n",
       "        vertical-align: top;\n",
       "    }\n",
       "\n",
       "    .dataframe thead th {\n",
       "        text-align: right;\n",
       "    }\n",
       "</style>\n",
       "<table border=\"1\" class=\"dataframe\">\n",
       "  <thead>\n",
       "    <tr style=\"text-align: right;\">\n",
       "      <th></th>\n",
       "      <th>0</th>\n",
       "      <th>1</th>\n",
       "      <th>2</th>\n",
       "      <th>3</th>\n",
       "      <th>4</th>\n",
       "      <th>5</th>\n",
       "      <th>6</th>\n",
       "      <th>7</th>\n",
       "      <th>8</th>\n",
       "      <th>9</th>\n",
       "      <th>...</th>\n",
       "      <th>990</th>\n",
       "      <th>991</th>\n",
       "      <th>992</th>\n",
       "      <th>993</th>\n",
       "      <th>994</th>\n",
       "      <th>995</th>\n",
       "      <th>996</th>\n",
       "      <th>997</th>\n",
       "      <th>998</th>\n",
       "      <th>999</th>\n",
       "    </tr>\n",
       "  </thead>\n",
       "  <tbody>\n",
       "    <tr>\n",
       "      <th>0</th>\n",
       "      <td>145.050003</td>\n",
       "      <td>145.050003</td>\n",
       "      <td>145.050003</td>\n",
       "      <td>145.050003</td>\n",
       "      <td>145.050003</td>\n",
       "      <td>145.050003</td>\n",
       "      <td>145.050003</td>\n",
       "      <td>145.050003</td>\n",
       "      <td>145.050003</td>\n",
       "      <td>145.050003</td>\n",
       "      <td>...</td>\n",
       "      <td>145.050003</td>\n",
       "      <td>145.050003</td>\n",
       "      <td>145.050003</td>\n",
       "      <td>145.050003</td>\n",
       "      <td>145.050003</td>\n",
       "      <td>145.050003</td>\n",
       "      <td>145.050003</td>\n",
       "      <td>145.050003</td>\n",
       "      <td>145.050003</td>\n",
       "      <td>145.050003</td>\n",
       "    </tr>\n",
       "    <tr>\n",
       "      <th>1</th>\n",
       "      <td>146.456781</td>\n",
       "      <td>144.636018</td>\n",
       "      <td>143.586003</td>\n",
       "      <td>143.343498</td>\n",
       "      <td>146.587102</td>\n",
       "      <td>145.542619</td>\n",
       "      <td>145.868087</td>\n",
       "      <td>144.861355</td>\n",
       "      <td>143.801936</td>\n",
       "      <td>146.011396</td>\n",
       "      <td>...</td>\n",
       "      <td>149.441448</td>\n",
       "      <td>145.286127</td>\n",
       "      <td>145.334752</td>\n",
       "      <td>144.968858</td>\n",
       "      <td>142.259623</td>\n",
       "      <td>145.692784</td>\n",
       "      <td>146.252695</td>\n",
       "      <td>144.553870</td>\n",
       "      <td>146.805586</td>\n",
       "      <td>142.658505</td>\n",
       "    </tr>\n",
       "    <tr>\n",
       "      <th>2</th>\n",
       "      <td>147.567505</td>\n",
       "      <td>139.662802</td>\n",
       "      <td>142.961884</td>\n",
       "      <td>144.648729</td>\n",
       "      <td>147.878694</td>\n",
       "      <td>145.621421</td>\n",
       "      <td>143.932386</td>\n",
       "      <td>146.310448</td>\n",
       "      <td>143.596252</td>\n",
       "      <td>146.507502</td>\n",
       "      <td>...</td>\n",
       "      <td>149.909071</td>\n",
       "      <td>146.001527</td>\n",
       "      <td>143.995583</td>\n",
       "      <td>144.242077</td>\n",
       "      <td>140.260118</td>\n",
       "      <td>147.384654</td>\n",
       "      <td>148.523550</td>\n",
       "      <td>144.390819</td>\n",
       "      <td>145.524541</td>\n",
       "      <td>141.521779</td>\n",
       "    </tr>\n",
       "    <tr>\n",
       "      <th>3</th>\n",
       "      <td>147.109411</td>\n",
       "      <td>138.607175</td>\n",
       "      <td>143.677243</td>\n",
       "      <td>144.712615</td>\n",
       "      <td>149.065474</td>\n",
       "      <td>144.709573</td>\n",
       "      <td>145.386227</td>\n",
       "      <td>146.561969</td>\n",
       "      <td>145.189490</td>\n",
       "      <td>146.833118</td>\n",
       "      <td>...</td>\n",
       "      <td>149.471056</td>\n",
       "      <td>147.225487</td>\n",
       "      <td>143.200140</td>\n",
       "      <td>144.424091</td>\n",
       "      <td>142.281870</td>\n",
       "      <td>145.413546</td>\n",
       "      <td>149.354447</td>\n",
       "      <td>146.836667</td>\n",
       "      <td>146.680720</td>\n",
       "      <td>142.450722</td>\n",
       "    </tr>\n",
       "    <tr>\n",
       "      <th>4</th>\n",
       "      <td>150.078749</td>\n",
       "      <td>138.903212</td>\n",
       "      <td>144.704023</td>\n",
       "      <td>144.934560</td>\n",
       "      <td>147.374252</td>\n",
       "      <td>143.117093</td>\n",
       "      <td>146.268823</td>\n",
       "      <td>145.635902</td>\n",
       "      <td>145.623874</td>\n",
       "      <td>149.494523</td>\n",
       "      <td>...</td>\n",
       "      <td>150.927255</td>\n",
       "      <td>150.067690</td>\n",
       "      <td>139.639286</td>\n",
       "      <td>143.665291</td>\n",
       "      <td>138.716143</td>\n",
       "      <td>147.220519</td>\n",
       "      <td>148.639566</td>\n",
       "      <td>149.037247</td>\n",
       "      <td>144.814280</td>\n",
       "      <td>143.848465</td>\n",
       "    </tr>\n",
       "    <tr>\n",
       "      <th>...</th>\n",
       "      <td>...</td>\n",
       "      <td>...</td>\n",
       "      <td>...</td>\n",
       "      <td>...</td>\n",
       "      <td>...</td>\n",
       "      <td>...</td>\n",
       "      <td>...</td>\n",
       "      <td>...</td>\n",
       "      <td>...</td>\n",
       "      <td>...</td>\n",
       "      <td>...</td>\n",
       "      <td>...</td>\n",
       "      <td>...</td>\n",
       "      <td>...</td>\n",
       "      <td>...</td>\n",
       "      <td>...</td>\n",
       "      <td>...</td>\n",
       "      <td>...</td>\n",
       "      <td>...</td>\n",
       "      <td>...</td>\n",
       "      <td>...</td>\n",
       "    </tr>\n",
       "    <tr>\n",
       "      <th>247</th>\n",
       "      <td>224.019179</td>\n",
       "      <td>155.169169</td>\n",
       "      <td>175.565069</td>\n",
       "      <td>163.227466</td>\n",
       "      <td>129.541879</td>\n",
       "      <td>105.522384</td>\n",
       "      <td>143.482072</td>\n",
       "      <td>181.039087</td>\n",
       "      <td>153.105395</td>\n",
       "      <td>111.615194</td>\n",
       "      <td>...</td>\n",
       "      <td>147.373424</td>\n",
       "      <td>147.445115</td>\n",
       "      <td>107.641941</td>\n",
       "      <td>109.148153</td>\n",
       "      <td>158.867869</td>\n",
       "      <td>111.358283</td>\n",
       "      <td>163.731669</td>\n",
       "      <td>201.997966</td>\n",
       "      <td>158.430469</td>\n",
       "      <td>151.298907</td>\n",
       "    </tr>\n",
       "    <tr>\n",
       "      <th>248</th>\n",
       "      <td>227.986711</td>\n",
       "      <td>157.608410</td>\n",
       "      <td>175.617157</td>\n",
       "      <td>162.599721</td>\n",
       "      <td>129.178860</td>\n",
       "      <td>106.145318</td>\n",
       "      <td>143.840273</td>\n",
       "      <td>177.545296</td>\n",
       "      <td>153.439686</td>\n",
       "      <td>110.562707</td>\n",
       "      <td>...</td>\n",
       "      <td>147.141938</td>\n",
       "      <td>147.548503</td>\n",
       "      <td>106.949656</td>\n",
       "      <td>109.594598</td>\n",
       "      <td>159.394428</td>\n",
       "      <td>111.968113</td>\n",
       "      <td>163.078623</td>\n",
       "      <td>202.648510</td>\n",
       "      <td>158.439526</td>\n",
       "      <td>151.007086</td>\n",
       "    </tr>\n",
       "    <tr>\n",
       "      <th>249</th>\n",
       "      <td>222.869134</td>\n",
       "      <td>157.791666</td>\n",
       "      <td>175.278709</td>\n",
       "      <td>160.683558</td>\n",
       "      <td>127.888805</td>\n",
       "      <td>107.489895</td>\n",
       "      <td>142.162787</td>\n",
       "      <td>179.810172</td>\n",
       "      <td>152.492926</td>\n",
       "      <td>110.274857</td>\n",
       "      <td>...</td>\n",
       "      <td>147.620267</td>\n",
       "      <td>147.629077</td>\n",
       "      <td>106.937106</td>\n",
       "      <td>111.378325</td>\n",
       "      <td>159.664544</td>\n",
       "      <td>110.471466</td>\n",
       "      <td>161.846619</td>\n",
       "      <td>203.133812</td>\n",
       "      <td>159.216903</td>\n",
       "      <td>151.335582</td>\n",
       "    </tr>\n",
       "    <tr>\n",
       "      <th>250</th>\n",
       "      <td>221.825337</td>\n",
       "      <td>157.070240</td>\n",
       "      <td>176.598216</td>\n",
       "      <td>157.905308</td>\n",
       "      <td>127.970319</td>\n",
       "      <td>108.898203</td>\n",
       "      <td>142.816609</td>\n",
       "      <td>178.656569</td>\n",
       "      <td>153.561337</td>\n",
       "      <td>110.988637</td>\n",
       "      <td>...</td>\n",
       "      <td>149.576400</td>\n",
       "      <td>151.701655</td>\n",
       "      <td>105.184304</td>\n",
       "      <td>110.970842</td>\n",
       "      <td>158.900735</td>\n",
       "      <td>112.852732</td>\n",
       "      <td>167.193960</td>\n",
       "      <td>204.480798</td>\n",
       "      <td>158.114448</td>\n",
       "      <td>152.110980</td>\n",
       "    </tr>\n",
       "    <tr>\n",
       "      <th>251</th>\n",
       "      <td>222.356466</td>\n",
       "      <td>157.940624</td>\n",
       "      <td>176.150721</td>\n",
       "      <td>155.288318</td>\n",
       "      <td>128.155437</td>\n",
       "      <td>109.086286</td>\n",
       "      <td>141.497417</td>\n",
       "      <td>178.527861</td>\n",
       "      <td>153.517701</td>\n",
       "      <td>108.884682</td>\n",
       "      <td>...</td>\n",
       "      <td>147.681398</td>\n",
       "      <td>150.491917</td>\n",
       "      <td>102.909860</td>\n",
       "      <td>108.637015</td>\n",
       "      <td>158.967170</td>\n",
       "      <td>114.077001</td>\n",
       "      <td>165.911432</td>\n",
       "      <td>207.130129</td>\n",
       "      <td>159.710181</td>\n",
       "      <td>155.005399</td>\n",
       "    </tr>\n",
       "  </tbody>\n",
       "</table>\n",
       "<p>252 rows × 1000 columns</p>\n",
       "</div>"
      ],
      "text/plain": [
       "            0           1           2           3           4           5    \\\n",
       "0    145.050003  145.050003  145.050003  145.050003  145.050003  145.050003   \n",
       "1    146.456781  144.636018  143.586003  143.343498  146.587102  145.542619   \n",
       "2    147.567505  139.662802  142.961884  144.648729  147.878694  145.621421   \n",
       "3    147.109411  138.607175  143.677243  144.712615  149.065474  144.709573   \n",
       "4    150.078749  138.903212  144.704023  144.934560  147.374252  143.117093   \n",
       "..          ...         ...         ...         ...         ...         ...   \n",
       "247  224.019179  155.169169  175.565069  163.227466  129.541879  105.522384   \n",
       "248  227.986711  157.608410  175.617157  162.599721  129.178860  106.145318   \n",
       "249  222.869134  157.791666  175.278709  160.683558  127.888805  107.489895   \n",
       "250  221.825337  157.070240  176.598216  157.905308  127.970319  108.898203   \n",
       "251  222.356466  157.940624  176.150721  155.288318  128.155437  109.086286   \n",
       "\n",
       "            6           7           8           9    ...         990  \\\n",
       "0    145.050003  145.050003  145.050003  145.050003  ...  145.050003   \n",
       "1    145.868087  144.861355  143.801936  146.011396  ...  149.441448   \n",
       "2    143.932386  146.310448  143.596252  146.507502  ...  149.909071   \n",
       "3    145.386227  146.561969  145.189490  146.833118  ...  149.471056   \n",
       "4    146.268823  145.635902  145.623874  149.494523  ...  150.927255   \n",
       "..          ...         ...         ...         ...  ...         ...   \n",
       "247  143.482072  181.039087  153.105395  111.615194  ...  147.373424   \n",
       "248  143.840273  177.545296  153.439686  110.562707  ...  147.141938   \n",
       "249  142.162787  179.810172  152.492926  110.274857  ...  147.620267   \n",
       "250  142.816609  178.656569  153.561337  110.988637  ...  149.576400   \n",
       "251  141.497417  178.527861  153.517701  108.884682  ...  147.681398   \n",
       "\n",
       "            991         992         993         994         995         996  \\\n",
       "0    145.050003  145.050003  145.050003  145.050003  145.050003  145.050003   \n",
       "1    145.286127  145.334752  144.968858  142.259623  145.692784  146.252695   \n",
       "2    146.001527  143.995583  144.242077  140.260118  147.384654  148.523550   \n",
       "3    147.225487  143.200140  144.424091  142.281870  145.413546  149.354447   \n",
       "4    150.067690  139.639286  143.665291  138.716143  147.220519  148.639566   \n",
       "..          ...         ...         ...         ...         ...         ...   \n",
       "247  147.445115  107.641941  109.148153  158.867869  111.358283  163.731669   \n",
       "248  147.548503  106.949656  109.594598  159.394428  111.968113  163.078623   \n",
       "249  147.629077  106.937106  111.378325  159.664544  110.471466  161.846619   \n",
       "250  151.701655  105.184304  110.970842  158.900735  112.852732  167.193960   \n",
       "251  150.491917  102.909860  108.637015  158.967170  114.077001  165.911432   \n",
       "\n",
       "            997         998         999  \n",
       "0    145.050003  145.050003  145.050003  \n",
       "1    144.553870  146.805586  142.658505  \n",
       "2    144.390819  145.524541  141.521779  \n",
       "3    146.836667  146.680720  142.450722  \n",
       "4    149.037247  144.814280  143.848465  \n",
       "..          ...         ...         ...  \n",
       "247  201.997966  158.430469  151.298907  \n",
       "248  202.648510  158.439526  151.007086  \n",
       "249  203.133812  159.216903  151.335582  \n",
       "250  204.480798  158.114448  152.110980  \n",
       "251  207.130129  159.710181  155.005399  \n",
       "\n",
       "[252 rows x 1000 columns]"
      ]
     },
     "execution_count": 17,
     "metadata": {},
     "output_type": "execute_result"
    }
   ],
   "source": [
    "simulate_mc(data, 252, 1000, 'log')"
   ]
  },
  {
   "cell_type": "markdown",
   "metadata": {},
   "source": [
    "Now, let's loop through all the stated securities and generate the visualizations and statistics that will help us understand the expected performance of a stock."
   ]
  },
  {
   "cell_type": "code",
   "execution_count": 18,
   "metadata": {},
   "outputs": [],
   "source": [
    "def monte_carlo(tickers, days_forecast, iterations, start_date = '2000-1-1', return_type = 'log', plotten=False):\n",
    "    data = import_stock_data(tickers, start=start_date)\n",
    "    inform = beta_sharpe(data, mark_ticker=\"^GSPC\", start=start_date)\n",
    "    simulatedDF = []\n",
    "    for t in range(len(tickers)):\n",
    "        y = simulate_mc(data.iloc[:,t], (days_forecast+1), iterations, return_type)\n",
    "        if plotten == True:\n",
    "            forplot = y.iloc[:,0:10]\n",
    "            forplot.plot(figsize=(15,4))\n",
    "        print(f\"Beta: {round(inform.iloc[t,inform.columns.get_loc('Beta')],2)}\")\n",
    "        print(f\"Sharpe: {round(inform.iloc[t,inform.columns.get_loc('Sharpe')],2)}\") \n",
    "        print(f\"CAPM Return: {round(100*inform.iloc[t,inform.columns.get_loc('CAPM')],2)}%\")\n",
    "        y['ticker'] = tickers[t]\n",
    "        cols = y.columns.tolist()\n",
    "        cols = cols[-1:] + cols[:-1]\n",
    "        y = y[cols]\n",
    "        simulatedDF.append(y)\n",
    "    simulatedDF = pd.concat(simulatedDF)\n",
    "    return simulatedDF"
   ]
  },
  {
   "cell_type": "code",
   "execution_count": 20,
   "metadata": {
    "scrolled": false
   },
   "outputs": [
    {
     "name": "stderr",
     "output_type": "stream",
     "text": [
      "C:\\Users\\baanders\\AppData\\Local\\Continuum\\anaconda3\\envs\\py37_benzene\\lib\\site-packages\\seaborn\\distributions.py:2619: FutureWarning: `distplot` is a deprecated function and will be removed in a future version. Please adapt your code to use either `displot` (a figure-level function with similar flexibility) or `histplot` (an axes-level function for histograms).\n",
      "  warnings.warn(msg, FutureWarning)\n",
      "C:\\Users\\baanders\\AppData\\Local\\Continuum\\anaconda3\\envs\\py37_benzene\\lib\\site-packages\\seaborn\\distributions.py:2619: FutureWarning: `distplot` is a deprecated function and will be removed in a future version. Please adapt your code to use either `displot` (a figure-level function with similar flexibility) or `histplot` (an axes-level function for histograms).\n",
      "  warnings.warn(msg, FutureWarning)\n"
     ]
    },
    {
     "data": {
      "image/png": "[encoded data removed]",
      "text/plain": [
       "<Figure size 1008x288 with 2 Axes>"
      ]
     },
     "metadata": {
      "needs_background": "light"
     },
     "output_type": "display_data"
    },
    {
     "name": "stdout",
     "output_type": "stream",
     "text": [
      "GOOG\n",
      "Days: 252\n",
      "Expected Value: $3163.59\n",
      "Return: 19.88%\n",
      "Probability of Breakeven: 0.7573\n",
      "Beta: 1.08\n",
      "Sharpe: 0.32\n",
      "CAPM Return: 10.96%\n"
     ]
    },
    {
     "name": "stderr",
     "output_type": "stream",
     "text": [
      "C:\\Users\\baanders\\AppData\\Local\\Continuum\\anaconda3\\envs\\py37_benzene\\lib\\site-packages\\seaborn\\distributions.py:2619: FutureWarning: `distplot` is a deprecated function and will be removed in a future version. Please adapt your code to use either `displot` (a figure-level function with similar flexibility) or `histplot` (an axes-level function for histograms).\n",
      "  warnings.warn(msg, FutureWarning)\n",
      "C:\\Users\\baanders\\AppData\\Local\\Continuum\\anaconda3\\envs\\py37_benzene\\lib\\site-packages\\seaborn\\distributions.py:2619: FutureWarning: `distplot` is a deprecated function and will be removed in a future version. Please adapt your code to use either `displot` (a figure-level function with similar flexibility) or `histplot` (an axes-level function for histograms).\n",
      "  warnings.warn(msg, FutureWarning)\n"
     ]
    },
    {
     "data": {
      "image/png": "[encoded data removed]",
      "text/plain": [
       "<Figure size 1008x288 with 2 Axes>"
      ]
     },
     "metadata": {
      "needs_background": "light"
     },
     "output_type": "display_data"
    },
    {
     "name": "stdout",
     "output_type": "stream",
     "text": [
      "AAPL\n",
      "Days: 252\n",
      "Expected Value: $193.32\n",
      "Return: 22.09%\n",
      "Probability of Breakeven: 0.7586\n",
      "Beta: 1.18\n",
      "Sharpe: 0.32\n",
      "CAPM Return: 11.78%\n"
     ]
    },
    {
     "name": "stderr",
     "output_type": "stream",
     "text": [
      "C:\\Users\\baanders\\AppData\\Local\\Continuum\\anaconda3\\envs\\py37_benzene\\lib\\site-packages\\seaborn\\distributions.py:2619: FutureWarning: `distplot` is a deprecated function and will be removed in a future version. Please adapt your code to use either `displot` (a figure-level function with similar flexibility) or `histplot` (an axes-level function for histograms).\n",
      "  warnings.warn(msg, FutureWarning)\n",
      "C:\\Users\\baanders\\AppData\\Local\\Continuum\\anaconda3\\envs\\py37_benzene\\lib\\site-packages\\seaborn\\distributions.py:2619: FutureWarning: `distplot` is a deprecated function and will be removed in a future version. Please adapt your code to use either `displot` (a figure-level function with similar flexibility) or `histplot` (an axes-level function for histograms).\n",
      "  warnings.warn(msg, FutureWarning)\n"
     ]
    },
    {
     "data": {
      "image/png": "[encoded data removed]",
      "text/plain": [
       "<Figure size 1008x288 with 2 Axes>"
      ]
     },
     "metadata": {
      "needs_background": "light"
     },
     "output_type": "display_data"
    },
    {
     "name": "stdout",
     "output_type": "stream",
     "text": [
      "FB\n",
      "Days: 252\n",
      "Expected Value: $208.94\n",
      "Return: 10.68%\n",
      "Probability of Breakeven: 0.5723\n",
      "Beta: 1.15\n",
      "Sharpe: 0.26\n",
      "CAPM Return: 11.47%\n"
     ]
    }
   ],
   "source": [
    "start = \"2015-1-1\"\n",
    "days_to_forecast= 252\n",
    "simulation_trials= 10000\n",
    "ret_sim_df = monte_carlo(['GOOG','AAPL', 'FB'], days_forecast= days_to_forecast, iterations=simulation_trials,  start_date=start, plotten=False)"
   ]
  },
  {
   "cell_type": "code",
   "execution_count": null,
   "metadata": {},
   "outputs": [],
   "source": []
  }
 ],
 "metadata": {
  "kernelspec": {
   "display_name": "Python 3",
   "language": "python",
   "name": "python3"
  },
  "language_info": {
   "codemirror_mode": {
    "name": "ipython",
    "version": 3
   },
   "file_extension": ".py",
   "mimetype": "text/x-python",
   "name": "python",
   "nbconvert_exporter": "python",
   "pygments_lexer": "ipython3",
   "version": "3.7.11"
  }
 },
 "nbformat": 4,
 "nbformat_minor": 2
}
