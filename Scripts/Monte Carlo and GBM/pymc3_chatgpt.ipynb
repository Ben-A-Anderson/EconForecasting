{
 "cells": [
  {
   "cell_type": "code",
   "execution_count": 1,
   "metadata": {},
   "outputs": [
    {
     "name": "stdout",
     "output_type": "stream",
     "text": [
      "[*********************100%***********************]  1 of 1 completed\n"
     ]
    },
    {
     "ename": "TypeError",
     "evalue": "No model on context stack, which is needed to instantiate distributions. Add variable inside a 'with model:' block, or use the '.dist' syntax for a standalone distribution.",
     "output_type": "error",
     "traceback": [
      "\u001b[1;31m---------------------------------------------------------------------------\u001b[0m",
      "\u001b[1;31mIndexError\u001b[0m                                Traceback (most recent call last)",
      "File \u001b[1;32mc:\\ProgramData\\Anaconda3\\envs\\py39_pymc\\lib\\site-packages\\pymc\\model.py:197\u001b[0m, in \u001b[0;36mContextMeta.get_context\u001b[1;34m(cls, error_if_none)\u001b[0m\n\u001b[0;32m    196\u001b[0m \u001b[39mtry\u001b[39;00m:\n\u001b[1;32m--> 197\u001b[0m     candidate: Optional[T] \u001b[39m=\u001b[39m \u001b[39mcls\u001b[39;49m\u001b[39m.\u001b[39;49mget_contexts()[\u001b[39m-\u001b[39;49m\u001b[39m1\u001b[39;49m]\n\u001b[0;32m    198\u001b[0m \u001b[39mexcept\u001b[39;00m \u001b[39mIndexError\u001b[39;00m \u001b[39mas\u001b[39;00m e:\n\u001b[0;32m    199\u001b[0m     \u001b[39m# Calling code expects to get a TypeError if the entity\u001b[39;00m\n\u001b[0;32m    200\u001b[0m     \u001b[39m# is unfound, and there's too much to fix.\u001b[39;00m\n",
      "\u001b[1;31mIndexError\u001b[0m: list index out of range",
      "\nDuring handling of the above exception, another exception occurred:\n",
      "\u001b[1;31mTypeError\u001b[0m                                 Traceback (most recent call last)",
      "File \u001b[1;32mc:\\ProgramData\\Anaconda3\\envs\\py39_pymc\\lib\\site-packages\\pymc\\distributions\\distribution.py:276\u001b[0m, in \u001b[0;36mDistribution.__new__\u001b[1;34m(cls, name, rng, dims, initval, observed, total_size, transform, *args, **kwargs)\u001b[0m\n\u001b[0;32m    274\u001b[0m     \u001b[39mfrom\u001b[39;00m \u001b[39mpymc\u001b[39;00m\u001b[39m.\u001b[39;00m\u001b[39mmodel\u001b[39;00m \u001b[39mimport\u001b[39;00m Model\n\u001b[1;32m--> 276\u001b[0m     model \u001b[39m=\u001b[39m Model\u001b[39m.\u001b[39;49mget_context()\n\u001b[0;32m    277\u001b[0m \u001b[39mexcept\u001b[39;00m \u001b[39mTypeError\u001b[39;00m:\n",
      "File \u001b[1;32mc:\\ProgramData\\Anaconda3\\envs\\py39_pymc\\lib\\site-packages\\pymc\\model.py:202\u001b[0m, in \u001b[0;36mContextMeta.get_context\u001b[1;34m(cls, error_if_none)\u001b[0m\n\u001b[0;32m    201\u001b[0m \u001b[39mif\u001b[39;00m error_if_none:\n\u001b[1;32m--> 202\u001b[0m     \u001b[39mraise\u001b[39;00m \u001b[39mTypeError\u001b[39;00m(\u001b[39mf\u001b[39m\u001b[39m\"\u001b[39m\u001b[39mNo \u001b[39m\u001b[39m{\u001b[39;00m\u001b[39mcls\u001b[39m\u001b[39m}\u001b[39;00m\u001b[39m on context stack\u001b[39m\u001b[39m\"\u001b[39m)\n\u001b[0;32m    203\u001b[0m \u001b[39mreturn\u001b[39;00m \u001b[39mNone\u001b[39;00m\n",
      "\u001b[1;31mTypeError\u001b[0m: No <class 'pymc.model.Model'> on context stack",
      "\nDuring handling of the above exception, another exception occurred:\n",
      "\u001b[1;31mTypeError\u001b[0m                                 Traceback (most recent call last)",
      "Cell \u001b[1;32mIn[1], line 22\u001b[0m\n\u001b[0;32m     19\u001b[0m model \u001b[39m=\u001b[39m pm\u001b[39m.\u001b[39mModel()\n\u001b[0;32m     21\u001b[0m \u001b[39m# Define prior distributions for model parameters\u001b[39;00m\n\u001b[1;32m---> 22\u001b[0m mu \u001b[39m=\u001b[39m pm\u001b[39m.\u001b[39;49mNormal(\u001b[39m'\u001b[39;49m\u001b[39mmu\u001b[39;49m\u001b[39m'\u001b[39;49m, mu\u001b[39m=\u001b[39;49m\u001b[39m0\u001b[39;49m, tau\u001b[39m=\u001b[39;49m\u001b[39m1\u001b[39;49m\u001b[39m/\u001b[39;49m(\u001b[39m0.2\u001b[39;49m)\u001b[39m*\u001b[39;49m\u001b[39m*\u001b[39;49m\u001b[39m2\u001b[39;49m, value\u001b[39m=\u001b[39;49m\u001b[39m0\u001b[39;49m)\n\u001b[0;32m     23\u001b[0m sigma \u001b[39m=\u001b[39m pm\u001b[39m.\u001b[39mUniform(\u001b[39m'\u001b[39m\u001b[39msigma\u001b[39m\u001b[39m'\u001b[39m, lower\u001b[39m=\u001b[39m\u001b[39m0\u001b[39m, upper\u001b[39m=\u001b[39m\u001b[39m0.5\u001b[39m, value\u001b[39m=\u001b[39m\u001b[39m0.1\u001b[39m)\n\u001b[0;32m     25\u001b[0m \u001b[39m# Define likelihood function\u001b[39;00m\n",
      "File \u001b[1;32mc:\\ProgramData\\Anaconda3\\envs\\py39_pymc\\lib\\site-packages\\pymc\\distributions\\distribution.py:278\u001b[0m, in \u001b[0;36mDistribution.__new__\u001b[1;34m(cls, name, rng, dims, initval, observed, total_size, transform, *args, **kwargs)\u001b[0m\n\u001b[0;32m    276\u001b[0m     model \u001b[39m=\u001b[39m Model\u001b[39m.\u001b[39mget_context()\n\u001b[0;32m    277\u001b[0m \u001b[39mexcept\u001b[39;00m \u001b[39mTypeError\u001b[39;00m:\n\u001b[1;32m--> 278\u001b[0m     \u001b[39mraise\u001b[39;00m \u001b[39mTypeError\u001b[39;00m(\n\u001b[0;32m    279\u001b[0m         \u001b[39m\"\u001b[39m\u001b[39mNo model on context stack, which is needed to \u001b[39m\u001b[39m\"\u001b[39m\n\u001b[0;32m    280\u001b[0m         \u001b[39m\"\u001b[39m\u001b[39minstantiate distributions. Add variable inside \u001b[39m\u001b[39m\"\u001b[39m\n\u001b[0;32m    281\u001b[0m         \u001b[39m\"\u001b[39m\u001b[39ma \u001b[39m\u001b[39m'\u001b[39m\u001b[39mwith model:\u001b[39m\u001b[39m'\u001b[39m\u001b[39m block, or use the \u001b[39m\u001b[39m'\u001b[39m\u001b[39m.dist\u001b[39m\u001b[39m'\u001b[39m\u001b[39m syntax \u001b[39m\u001b[39m\"\u001b[39m\n\u001b[0;32m    282\u001b[0m         \u001b[39m\"\u001b[39m\u001b[39mfor a standalone distribution.\u001b[39m\u001b[39m\"\u001b[39m\n\u001b[0;32m    283\u001b[0m     )\n\u001b[0;32m    285\u001b[0m \u001b[39mif\u001b[39;00m \u001b[39m\"\u001b[39m\u001b[39mtestval\u001b[39m\u001b[39m\"\u001b[39m \u001b[39min\u001b[39;00m kwargs:\n\u001b[0;32m    286\u001b[0m     initval \u001b[39m=\u001b[39m kwargs\u001b[39m.\u001b[39mpop(\u001b[39m\"\u001b[39m\u001b[39mtestval\u001b[39m\u001b[39m\"\u001b[39m)\n",
      "\u001b[1;31mTypeError\u001b[0m: No model on context stack, which is needed to instantiate distributions. Add variable inside a 'with model:' block, or use the '.dist' syntax for a standalone distribution."
     ]
    }
   ],
   "source": [
    "import yfinance as yf\n",
    "import pymc as pm\n",
    "import numpy as np\n",
    "import pandas as pd\n",
    "import matplotlib.pyplot as plt\n",
    "\n",
    "# Define stock symbol and date range\n",
    "symbol = 'GOOG'\n",
    "start_date = '2015-01-01'\n",
    "end_date = '2022-02-20'\n",
    "\n",
    "# Download stock data from Yahoo Finance\n",
    "stock_data = yf.download(symbol, start=start_date, end=end_date)\n",
    "\n",
    "# Compute daily returns\n",
    "returns = stock_data['Adj Close'].pct_change()[1:]\n",
    "\n",
    "# Define PyMC model\n",
    "model = pm.Model()\n",
    "\n",
    "# Define prior distributions for model parameters\n",
    "mu = pm.Normal('mu', mu=0, tau=1/(0.2)**2, value=0)\n",
    "sigma = pm.Uniform('sigma', lower=0, upper=0.5, value=0.1)\n",
    "\n",
    "# Define likelihood function\n",
    "returns_obs = pm.Normal('returns_obs', mu=mu, tau=1/(sigma)**2, value=returns, observed=True)\n",
    "\n",
    "# Run MCMC sampler\n",
    "mcmc = pm.MCMC(model)\n",
    "mcmc.sample(iter=2000, burn=500, thin=2)\n",
    "\n",
    "# Generate predictions\n",
    "num_predictions = 30\n",
    "prev_return = returns[-1]\n",
    "\n",
    "# Extract posterior samples\n",
    "mu_samples = mcmc.trace('mu')[:]\n",
    "sigma_samples = mcmc.trace('sigma')[:]\n",
    "\n",
    "# Define distribution for future returns\n",
    "future_return = pm.Normal('future_return', mu=mu, tau=1/(sigma)**2)\n",
    "\n",
    "# Generate predictions\n",
    "predictions = []\n",
    "for i in range(num_predictions):\n",
    "    future_return_sample = future_return.random()\n",
    "    pred_price = stock_data['Adj Close'][-1] * (1 + future_return_sample)\n",
    "    predictions.append(pred_price)\n",
    "    prev_return = future_return_sample\n",
    "\n",
    "# Plot predicted prices\n",
    "dates = pd.date_range(start=stock_data.index[-1], periods=num_predictions+1, freq='D')[1:]\n",
    "plt.plot(stock_data.index, stock_data['Adj Close'])\n",
    "plt.plot(dates, predictions)\n",
    "plt.xlabel('Date')\n",
    "plt.ylabel('Price')\n",
    "plt.legend([symbol, 'Predicted'])\n",
    "plt.show()\n"
   ]
  },
  {
   "cell_type": "code",
   "execution_count": 1,
   "metadata": {},
   "outputs": [
    {
     "name": "stderr",
     "output_type": "stream",
     "text": [
      "WARNING (theano.link.c.cmodule): install mkl with `conda install mkl-service`: No module named 'mkl'\n",
      "WARNING (theano.tensor.blas): Using NumPy C-API based implementation for BLAS functions.\n",
      "c:\\ProgramData\\Anaconda3\\envs\\py39_pymc32\\lib\\site-packages\\deprecat\\classic.py:215: FutureWarning: In v4.0, pm.sample will return an `arviz.InferenceData` object instead of a `MultiTrace` by default. You can pass return_inferencedata=True or return_inferencedata=False to be safe and silence this warning.\n",
      "  return wrapped_(*args_, **kwargs_)\n",
      "Auto-assigning NUTS sampler...\n",
      "Initializing NUTS using jitter+adapt_diag...\n",
      "Multiprocess sampling (4 chains in 4 jobs)\n",
      "NUTS: [mu]\n"
     ]
    },
    {
     "data": {
      "text/html": [
       "\n",
       "<style>\n",
       "    /* Turns off some styling */\n",
       "    progress {\n",
       "        /* gets rid of default border in Firefox and Opera. */\n",
       "        border: none;\n",
       "        /* Needs to be in here for Safari polyfill so background images work as expected. */\n",
       "        background-size: auto;\n",
       "    }\n",
       "    progress:not([value]), progress:not([value])::-webkit-progress-bar {\n",
       "        background: repeating-linear-gradient(45deg, #7e7e7e, #7e7e7e 10px, #5c5c5c 10px, #5c5c5c 20px);\n",
       "    }\n",
       "    .progress-bar-interrupted, .progress-bar-interrupted::-webkit-progress-bar {\n",
       "        background: #F44336;\n",
       "    }\n",
       "</style>\n"
      ],
      "text/plain": [
       "<IPython.core.display.HTML object>"
      ]
     },
     "metadata": {},
     "output_type": "display_data"
    },
    {
     "data": {
      "text/html": [
       "\n",
       "    <div>\n",
       "      <progress value='44000' class='' max='44000' style='width:300px; height:20px; vertical-align: middle;'></progress>\n",
       "      100.00% [44000/44000 00:09&lt;00:00 Sampling 4 chains, 0 divergences]\n",
       "    </div>\n",
       "    "
      ],
      "text/plain": [
       "<IPython.core.display.HTML object>"
      ]
     },
     "metadata": {},
     "output_type": "display_data"
    },
    {
     "name": "stderr",
     "output_type": "stream",
     "text": [
      "Sampling 4 chains for 1_000 tune and 10_000 draw iterations (4_000 + 40_000 draws total) took 22 seconds.\n"
     ]
    },
    {
     "name": "stdout",
     "output_type": "stream",
     "text": [
      "Predicted prices for the next month:\n",
      "[38.40211676503892, 36.31153963504119, 52.90789089406462, 51.579398150338974, -19.400841744260802, 0.13889489680769174, -28.587966273196123, -17.142840221177543, 29.444947996696776, -23.427748359670908, -60.72115743506886, -47.12253996548317, -107.50147372360574, -83.55255487511975, -75.88025214602919, -82.46511255031893, -77.68307516166628, -33.11327316356454, 0.12981795081939396, 2.4581058432731404, -22.59190612192951, 2.681467799074838, 72.44653772349226, 137.50836571733203, 168.95473970268458, 203.95878245515624, 249.8866977860863, 228.96169964794765, 232.44345671512923, 278.5077668224483, 193.22016040292124]\n"
     ]
    }
   ],
   "source": [
    "import numpy as np\n",
    "import pandas as pd\n",
    "import pymc3 as pm\n",
    "import yfinance as yf\n",
    "\n",
    "# Load the historical Google stock price data\n",
    "goog = yf.Ticker(\"GOOGL\")\n",
    "data = goog.history(period=\"max\")\n",
    "\n",
    "# Extract the closing price data\n",
    "closing_price = data[\"Close\"]\n",
    "\n",
    "# Define the model\n",
    "with pm.Model() as model:\n",
    "    # Define the prior for the next day's price\n",
    "    mu = pm.Normal(\"mu\", mu=closing_price.mean(), sigma=closing_price.std())\n",
    "    \n",
    "    # Define the likelihood for the next day's price\n",
    "    obs = pm.Normal(\"obs\", mu=mu, sigma=closing_price.std(), observed=closing_price)\n",
    "    \n",
    "    # Sample from the posterior distribution using MCMC\n",
    "    trace = pm.sample(draws=10000, tune=1000)\n",
    "    \n",
    "# Extract the predicted next day's price from the posterior distribution\n",
    "predicted_price = trace[\"mu\"][-1]\n",
    "\n",
    "# Simulate the next month's prices using the predicted price and the historical price volatility\n",
    "predicted_prices = [predicted_price]\n",
    "for i in range(30):\n",
    "    predicted_price = np.random.normal(predicted_price, closing_price.std())\n",
    "    predicted_prices.append(predicted_price)\n",
    "\n",
    "# Print the predicted prices for the next month\n",
    "print(\"Predicted prices for the next month:\")\n",
    "print(predicted_prices)\n"
   ]
  },
  {
   "cell_type": "code",
   "execution_count": 3,
   "metadata": {},
   "outputs": [
    {
     "name": "stderr",
     "output_type": "stream",
     "text": [
      "c:\\ProgramData\\Anaconda3\\envs\\py39_pymc32\\lib\\site-packages\\deprecat\\classic.py:215: FutureWarning: In v4.0, pm.sample will return an `arviz.InferenceData` object instead of a `MultiTrace` by default. You can pass return_inferencedata=True or return_inferencedata=False to be safe and silence this warning.\n",
      "  return wrapped_(*args_, **kwargs_)\n",
      "Auto-assigning NUTS sampler...\n",
      "Initializing NUTS using jitter+adapt_diag...\n",
      "Multiprocess sampling (4 chains in 4 jobs)\n",
      "NUTS: [mu]\n"
     ]
    },
    {
     "data": {
      "text/html": [
       "\n",
       "<style>\n",
       "    /* Turns off some styling */\n",
       "    progress {\n",
       "        /* gets rid of default border in Firefox and Opera. */\n",
       "        border: none;\n",
       "        /* Needs to be in here for Safari polyfill so background images work as expected. */\n",
       "        background-size: auto;\n",
       "    }\n",
       "    progress:not([value]), progress:not([value])::-webkit-progress-bar {\n",
       "        background: repeating-linear-gradient(45deg, #7e7e7e, #7e7e7e 10px, #5c5c5c 10px, #5c5c5c 20px);\n",
       "    }\n",
       "    .progress-bar-interrupted, .progress-bar-interrupted::-webkit-progress-bar {\n",
       "        background: #F44336;\n",
       "    }\n",
       "</style>\n"
      ],
      "text/plain": [
       "<IPython.core.display.HTML object>"
      ]
     },
     "metadata": {},
     "output_type": "display_data"
    },
    {
     "data": {
      "text/html": [
       "\n",
       "    <div>\n",
       "      <progress value='220000' class='' max='220000' style='width:300px; height:20px; vertical-align: middle;'></progress>\n",
       "      100.00% [220000/220000 00:43&lt;00:00 Sampling 4 chains, 0 divergences]\n",
       "    </div>\n",
       "    "
      ],
      "text/plain": [
       "<IPython.core.display.HTML object>"
      ]
     },
     "metadata": {},
     "output_type": "display_data"
    },
    {
     "name": "stderr",
     "output_type": "stream",
     "text": [
      "Sampling 4 chains for 5_000 tune and 50_000 draw iterations (20_000 + 200_000 draws total) took 55 seconds.\n"
     ]
    },
    {
     "name": "stdout",
     "output_type": "stream",
     "text": [
      "Predicted prices for the next 3 months:\n",
      "[38.566600350195046, 9.78467392781571, 23.358293325068384, -62.679634066555636, -30.76241030065097, 0.9584347880398418, 40.34694904350556, -30.875245023933246, -28.055666633608393, -58.213699686592406, -14.333100670804946, -17.528590548242857, 8.286015987009268, -4.897555322692325, 8.199788625953872, 101.84336474877189, 95.23789794232673, 148.8645798121581, 123.63255490512968, 132.24788952050926, 102.6337712702468, 121.71004671596243, 87.21775582671444, 75.54905599285354, 49.11811330217448, 63.330058953275284, 54.5031674528457, -2.9421168330743654, -5.802505712565464, 6.224819556485384, -22.409785398610644, 32.99391785792078, -4.625718293131655, 27.30924506159473, -47.03236664816807, -56.39369451317046, -33.367164838637116, -10.849613337077933, 8.756127229705527, 4.602636012900066, 6.351522692083918, -51.32924495249341, -38.969513048801865, -22.42983344007082, -46.28134710595977, -47.355559794984224, -79.44410308885526, -143.62066011717758, -184.84633043766848, -202.67024006445462, -209.11227854393894, -201.9674698805003, -151.39771183801975, -157.04544862087522, -187.767221966735, -195.53883449371105, -225.01587498594893, -212.59042275881296, -178.12129346379038, -153.09335232236054, -182.5092541578498, -212.8504398940875, -214.42569289628685, -220.9453610992242, -133.098439826765, -121.42836418867465, -128.4758097949386, -85.38333200400828, -69.9828789442076, -84.1845568728984, -156.65230144315873, -151.47955854937612, -197.67092437620087, -246.81208444123408, -244.90064551093622, -252.21375801461403, -245.10052992749746, -238.27202472232716, -255.62559941988118, -287.5931147811692, -314.0410594460348, -397.0243450544382, -375.1445384599347, -385.92715262424923, -477.41218145424534, -500.6948236550879, -553.0482888282187, -604.9204003286018, -597.9587277281342, -617.6057495520305, -582.5658854422339]\n"
     ]
    },
    {
     "data": {
      "image/png": "[encoded data removed]",
      "text/plain": [
       "<Figure size 1000x600 with 1 Axes>"
      ]
     },
     "metadata": {},
     "output_type": "display_data"
    },
    {
     "data": {
      "image/png": "[encoded data removed]",
      "text/plain": [
       "<Figure size 1000x600 with 1 Axes>"
      ]
     },
     "metadata": {},
     "output_type": "display_data"
    }
   ],
   "source": [
    "import numpy as np\n",
    "import pandas as pd\n",
    "import pymc3 as pm\n",
    "import yfinance as yf\n",
    "import matplotlib.pyplot as plt\n",
    "\n",
    "# Load the historical Google stock price data\n",
    "goog = yf.Ticker(\"GOOGL\")\n",
    "data = goog.history(period=\"max\")\n",
    "\n",
    "# Extract the closing price data\n",
    "closing_price = data[\"Close\"]\n",
    "\n",
    "# Define the model\n",
    "with pm.Model() as model:\n",
    "    # Define the prior for the next day's price\n",
    "    mu = pm.Normal(\"mu\", mu=closing_price.mean(), sigma=closing_price.std())\n",
    "    \n",
    "    # Define the likelihood for the next day's price\n",
    "    obs = pm.Normal(\"obs\", mu=mu, sigma=closing_price.std(), observed=closing_price)\n",
    "    \n",
    "    # Sample from the posterior distribution using MCMC\n",
    "    trace = pm.sample(draws=50000, tune=5000)\n",
    "    \n",
    "# Extract the predicted next day's price from the posterior distribution\n",
    "predicted_price = trace[\"mu\"][-1]\n",
    "\n",
    "# Simulate the next month's prices using the predicted price and the historical price volatility\n",
    "predicted_prices = [predicted_price]\n",
    "for i in range(90):\n",
    "    predicted_price = np.random.normal(predicted_price, closing_price.std())\n",
    "    predicted_prices.append(predicted_price)\n",
    "\n",
    "# Print the predicted prices for the next 3 months\n",
    "print(\"Predicted prices for the next 3 months:\")\n",
    "print(predicted_prices)\n",
    "\n",
    "# Plot the historical and predicted prices\n",
    "fig, ax = plt.subplots(figsize=(10, 6))\n",
    "ax.plot(data.index, closing_price, label=\"Historical prices\")\n",
    "ax.plot(pd.date_range(start=data.index[-1], periods=len(predicted_prices), freq=\"B\"), predicted_prices, label=\"Predicted prices\")\n",
    "ax.set_title(\"Google Stock Prices\")\n",
    "ax.set_xlabel(\"Date\")\n",
    "ax.set_ylabel(\"Price ($)\")\n",
    "ax.legend()\n",
    "plt.show()\n",
    "\n",
    "# Plot the posterior distribution of the next day's price\n",
    "fig, ax = plt.subplots(figsize=(10, 6))\n",
    "ax.hist(trace[\"mu\"], bins=50, density=True)\n",
    "ax.set_title(\"Posterior Distribution of Next Day's Price\")\n",
    "ax.set_xlabel(\"Price ($)\")\n",
    "ax.set_ylabel(\"Density\")\n",
    "plt.show()\n"
   ]
  },
  {
   "cell_type": "code",
   "execution_count": 13,
   "metadata": {},
   "outputs": [
    {
     "name": "stderr",
     "output_type": "stream",
     "text": [
      "c:\\ProgramData\\Anaconda3\\envs\\py39_pymc32\\lib\\site-packages\\deprecat\\classic.py:215: FutureWarning: In v4.0, pm.sample will return an `arviz.InferenceData` object instead of a `MultiTrace` by default. You can pass return_inferencedata=True or return_inferencedata=False to be safe and silence this warning.\n",
      "  return wrapped_(*args_, **kwargs_)\n",
      "Auto-assigning NUTS sampler...\n",
      "Initializing NUTS using jitter+adapt_diag...\n",
      "Multiprocess sampling (4 chains in 4 jobs)\n",
      "NUTS: [mu]\n"
     ]
    },
    {
     "data": {
      "text/html": [
       "\n",
       "<style>\n",
       "    /* Turns off some styling */\n",
       "    progress {\n",
       "        /* gets rid of default border in Firefox and Opera. */\n",
       "        border: none;\n",
       "        /* Needs to be in here for Safari polyfill so background images work as expected. */\n",
       "        background-size: auto;\n",
       "    }\n",
       "    progress:not([value]), progress:not([value])::-webkit-progress-bar {\n",
       "        background: repeating-linear-gradient(45deg, #7e7e7e, #7e7e7e 10px, #5c5c5c 10px, #5c5c5c 20px);\n",
       "    }\n",
       "    .progress-bar-interrupted, .progress-bar-interrupted::-webkit-progress-bar {\n",
       "        background: #F44336;\n",
       "    }\n",
       "</style>\n"
      ],
      "text/plain": [
       "<IPython.core.display.HTML object>"
      ]
     },
     "metadata": {},
     "output_type": "display_data"
    },
    {
     "data": {
      "text/html": [
       "\n",
       "    <div>\n",
       "      <progress value='60000' class='' max='60000' style='width:300px; height:20px; vertical-align: middle;'></progress>\n",
       "      100.00% [60000/60000 00:18&lt;00:00 Sampling 4 chains, 0 divergences]\n",
       "    </div>\n",
       "    "
      ],
      "text/plain": [
       "<IPython.core.display.HTML object>"
      ]
     },
     "metadata": {},
     "output_type": "display_data"
    },
    {
     "name": "stderr",
     "output_type": "stream",
     "text": [
      "Sampling 4 chains for 5_000 tune and 10_000 draw iterations (20_000 + 40_000 draws total) took 40 seconds.\n",
      "c:\\ProgramData\\Anaconda3\\envs\\py39_pymc32\\lib\\site-packages\\deprecat\\classic.py:215: FutureWarning: In v4.0, pm.sample will return an `arviz.InferenceData` object instead of a `MultiTrace` by default. You can pass return_inferencedata=True or return_inferencedata=False to be safe and silence this warning.\n",
      "  return wrapped_(*args_, **kwargs_)\n",
      "Auto-assigning NUTS sampler...\n",
      "Initializing NUTS using jitter+adapt_diag...\n",
      "Multiprocess sampling (4 chains in 4 jobs)\n",
      "NUTS: [mu]\n"
     ]
    },
    {
     "data": {
      "text/html": [
       "\n",
       "<style>\n",
       "    /* Turns off some styling */\n",
       "    progress {\n",
       "        /* gets rid of default border in Firefox and Opera. */\n",
       "        border: none;\n",
       "        /* Needs to be in here for Safari polyfill so background images work as expected. */\n",
       "        background-size: auto;\n",
       "    }\n",
       "    progress:not([value]), progress:not([value])::-webkit-progress-bar {\n",
       "        background: repeating-linear-gradient(45deg, #7e7e7e, #7e7e7e 10px, #5c5c5c 10px, #5c5c5c 20px);\n",
       "    }\n",
       "    .progress-bar-interrupted, .progress-bar-interrupted::-webkit-progress-bar {\n",
       "        background: #F44336;\n",
       "    }\n",
       "</style>\n"
      ],
      "text/plain": [
       "<IPython.core.display.HTML object>"
      ]
     },
     "metadata": {},
     "output_type": "display_data"
    },
    {
     "data": {
      "text/html": [
       "\n",
       "    <div>\n",
       "      <progress value='60000' class='' max='60000' style='width:300px; height:20px; vertical-align: middle;'></progress>\n",
       "      100.00% [60000/60000 00:17&lt;00:00 Sampling 4 chains, 0 divergences]\n",
       "    </div>\n",
       "    "
      ],
      "text/plain": [
       "<IPython.core.display.HTML object>"
      ]
     },
     "metadata": {},
     "output_type": "display_data"
    },
    {
     "name": "stderr",
     "output_type": "stream",
     "text": [
      "Sampling 4 chains for 5_000 tune and 10_000 draw iterations (20_000 + 40_000 draws total) took 33 seconds.\n"
     ]
    },
    {
     "name": "stdout",
     "output_type": "stream",
     "text": [
      "  -> valid_predicted_prices:  91 \n",
      "  -> valid_closing_price:  90\n"
     ]
    },
    {
     "name": "stderr",
     "output_type": "stream",
     "text": [
      "c:\\ProgramData\\Anaconda3\\envs\\py39_pymc32\\lib\\site-packages\\deprecat\\classic.py:215: FutureWarning: In v4.0, pm.sample will return an `arviz.InferenceData` object instead of a `MultiTrace` by default. You can pass return_inferencedata=True or return_inferencedata=False to be safe and silence this warning.\n",
      "  return wrapped_(*args_, **kwargs_)\n",
      "Auto-assigning NUTS sampler...\n",
      "Initializing NUTS using jitter+adapt_diag...\n",
      "Multiprocess sampling (4 chains in 4 jobs)\n",
      "NUTS: [mu]\n"
     ]
    },
    {
     "data": {
      "text/html": [
       "\n",
       "<style>\n",
       "    /* Turns off some styling */\n",
       "    progress {\n",
       "        /* gets rid of default border in Firefox and Opera. */\n",
       "        border: none;\n",
       "        /* Needs to be in here for Safari polyfill so background images work as expected. */\n",
       "        background-size: auto;\n",
       "    }\n",
       "    progress:not([value]), progress:not([value])::-webkit-progress-bar {\n",
       "        background: repeating-linear-gradient(45deg, #7e7e7e, #7e7e7e 10px, #5c5c5c 10px, #5c5c5c 20px);\n",
       "    }\n",
       "    .progress-bar-interrupted, .progress-bar-interrupted::-webkit-progress-bar {\n",
       "        background: #F44336;\n",
       "    }\n",
       "</style>\n"
      ],
      "text/plain": [
       "<IPython.core.display.HTML object>"
      ]
     },
     "metadata": {},
     "output_type": "display_data"
    },
    {
     "data": {
      "text/html": [
       "\n",
       "    <div>\n",
       "      <progress value='100000' class='' max='100000' style='width:300px; height:20px; vertical-align: middle;'></progress>\n",
       "      100.00% [100000/100000 00:33&lt;00:00 Sampling 4 chains, 0 divergences]\n",
       "    </div>\n",
       "    "
      ],
      "text/plain": [
       "<IPython.core.display.HTML object>"
      ]
     },
     "metadata": {},
     "output_type": "display_data"
    },
    {
     "name": "stderr",
     "output_type": "stream",
     "text": [
      "Sampling 4 chains for 5_000 tune and 20_000 draw iterations (20_000 + 80_000 draws total) took 48 seconds.\n",
      "The acceptance probability does not match the target. It is 0.8856496470434786, but should be close to 0.8. Try to increase the number of tuning steps.\n",
      "c:\\ProgramData\\Anaconda3\\envs\\py39_pymc32\\lib\\site-packages\\deprecat\\classic.py:215: FutureWarning: In v4.0, pm.sample will return an `arviz.InferenceData` object instead of a `MultiTrace` by default. You can pass return_inferencedata=True or return_inferencedata=False to be safe and silence this warning.\n",
      "  return wrapped_(*args_, **kwargs_)\n",
      "Auto-assigning NUTS sampler...\n",
      "Initializing NUTS using jitter+adapt_diag...\n",
      "Multiprocess sampling (4 chains in 4 jobs)\n",
      "NUTS: [mu]\n"
     ]
    },
    {
     "data": {
      "text/html": [
       "\n",
       "<style>\n",
       "    /* Turns off some styling */\n",
       "    progress {\n",
       "        /* gets rid of default border in Firefox and Opera. */\n",
       "        border: none;\n",
       "        /* Needs to be in here for Safari polyfill so background images work as expected. */\n",
       "        background-size: auto;\n",
       "    }\n",
       "    progress:not([value]), progress:not([value])::-webkit-progress-bar {\n",
       "        background: repeating-linear-gradient(45deg, #7e7e7e, #7e7e7e 10px, #5c5c5c 10px, #5c5c5c 20px);\n",
       "    }\n",
       "    .progress-bar-interrupted, .progress-bar-interrupted::-webkit-progress-bar {\n",
       "        background: #F44336;\n",
       "    }\n",
       "</style>\n"
      ],
      "text/plain": [
       "<IPython.core.display.HTML object>"
      ]
     },
     "metadata": {},
     "output_type": "display_data"
    },
    {
     "data": {
      "text/html": [
       "\n",
       "    <div>\n",
       "      <progress value='100000' class='' max='100000' style='width:300px; height:20px; vertical-align: middle;'></progress>\n",
       "      100.00% [100000/100000 00:38&lt;00:00 Sampling 4 chains, 0 divergences]\n",
       "    </div>\n",
       "    "
      ],
      "text/plain": [
       "<IPython.core.display.HTML object>"
      ]
     },
     "metadata": {},
     "output_type": "display_data"
    },
    {
     "name": "stderr",
     "output_type": "stream",
     "text": [
      "Sampling 4 chains for 5_000 tune and 20_000 draw iterations (20_000 + 80_000 draws total) took 55 seconds.\n"
     ]
    },
    {
     "name": "stdout",
     "output_type": "stream",
     "text": [
      "  -> valid_predicted_prices:  91 \n",
      "  -> valid_closing_price:  90\n"
     ]
    },
    {
     "name": "stderr",
     "output_type": "stream",
     "text": [
      "c:\\ProgramData\\Anaconda3\\envs\\py39_pymc32\\lib\\site-packages\\deprecat\\classic.py:215: FutureWarning: In v4.0, pm.sample will return an `arviz.InferenceData` object instead of a `MultiTrace` by default. You can pass return_inferencedata=True or return_inferencedata=False to be safe and silence this warning.\n",
      "  return wrapped_(*args_, **kwargs_)\n",
      "Auto-assigning NUTS sampler...\n",
      "Initializing NUTS using jitter+adapt_diag...\n",
      "Multiprocess sampling (4 chains in 4 jobs)\n",
      "NUTS: [mu]\n"
     ]
    },
    {
     "data": {
      "text/html": [
       "\n",
       "<style>\n",
       "    /* Turns off some styling */\n",
       "    progress {\n",
       "        /* gets rid of default border in Firefox and Opera. */\n",
       "        border: none;\n",
       "        /* Needs to be in here for Safari polyfill so background images work as expected. */\n",
       "        background-size: auto;\n",
       "    }\n",
       "    progress:not([value]), progress:not([value])::-webkit-progress-bar {\n",
       "        background: repeating-linear-gradient(45deg, #7e7e7e, #7e7e7e 10px, #5c5c5c 10px, #5c5c5c 20px);\n",
       "    }\n",
       "    .progress-bar-interrupted, .progress-bar-interrupted::-webkit-progress-bar {\n",
       "        background: #F44336;\n",
       "    }\n",
       "</style>\n"
      ],
      "text/plain": [
       "<IPython.core.display.HTML object>"
      ]
     },
     "metadata": {},
     "output_type": "display_data"
    },
    {
     "data": {
      "text/html": [
       "\n",
       "    <div>\n",
       "      <progress value='140000' class='' max='140000' style='width:300px; height:20px; vertical-align: middle;'></progress>\n",
       "      100.00% [140000/140000 00:52&lt;00:00 Sampling 4 chains, 0 divergences]\n",
       "    </div>\n",
       "    "
      ],
      "text/plain": [
       "<IPython.core.display.HTML object>"
      ]
     },
     "metadata": {},
     "output_type": "display_data"
    },
    {
     "name": "stderr",
     "output_type": "stream",
     "text": [
      "Sampling 4 chains for 5_000 tune and 30_000 draw iterations (20_000 + 120_000 draws total) took 70 seconds.\n",
      "The acceptance probability does not match the target. It is 0.6815392613691756, but should be close to 0.8. Try to increase the number of tuning steps.\n",
      "c:\\ProgramData\\Anaconda3\\envs\\py39_pymc32\\lib\\site-packages\\deprecat\\classic.py:215: FutureWarning: In v4.0, pm.sample will return an `arviz.InferenceData` object instead of a `MultiTrace` by default. You can pass return_inferencedata=True or return_inferencedata=False to be safe and silence this warning.\n",
      "  return wrapped_(*args_, **kwargs_)\n",
      "Auto-assigning NUTS sampler...\n",
      "Initializing NUTS using jitter+adapt_diag...\n",
      "Multiprocess sampling (4 chains in 4 jobs)\n",
      "NUTS: [mu]\n"
     ]
    },
    {
     "data": {
      "text/html": [
       "\n",
       "<style>\n",
       "    /* Turns off some styling */\n",
       "    progress {\n",
       "        /* gets rid of default border in Firefox and Opera. */\n",
       "        border: none;\n",
       "        /* Needs to be in here for Safari polyfill so background images work as expected. */\n",
       "        background-size: auto;\n",
       "    }\n",
       "    progress:not([value]), progress:not([value])::-webkit-progress-bar {\n",
       "        background: repeating-linear-gradient(45deg, #7e7e7e, #7e7e7e 10px, #5c5c5c 10px, #5c5c5c 20px);\n",
       "    }\n",
       "    .progress-bar-interrupted, .progress-bar-interrupted::-webkit-progress-bar {\n",
       "        background: #F44336;\n",
       "    }\n",
       "</style>\n"
      ],
      "text/plain": [
       "<IPython.core.display.HTML object>"
      ]
     },
     "metadata": {},
     "output_type": "display_data"
    },
    {
     "data": {
      "text/html": [
       "\n",
       "    <div>\n",
       "      <progress value='140000' class='' max='140000' style='width:300px; height:20px; vertical-align: middle;'></progress>\n",
       "      100.00% [140000/140000 00:49&lt;00:00 Sampling 4 chains, 0 divergences]\n",
       "    </div>\n",
       "    "
      ],
      "text/plain": [
       "<IPython.core.display.HTML object>"
      ]
     },
     "metadata": {},
     "output_type": "display_data"
    },
    {
     "name": "stderr",
     "output_type": "stream",
     "text": [
      "Sampling 4 chains for 5_000 tune and 30_000 draw iterations (20_000 + 120_000 draws total) took 65 seconds.\n",
      "c:\\ProgramData\\Anaconda3\\envs\\py39_pymc32\\lib\\site-packages\\deprecat\\classic.py:215: FutureWarning: In v4.0, pm.sample will return an `arviz.InferenceData` object instead of a `MultiTrace` by default. You can pass return_inferencedata=True or return_inferencedata=False to be safe and silence this warning.\n",
      "  return wrapped_(*args_, **kwargs_)\n",
      "Auto-assigning NUTS sampler...\n"
     ]
    },
    {
     "name": "stdout",
     "output_type": "stream",
     "text": [
      "  -> valid_predicted_prices:  91 \n",
      "  -> valid_closing_price:  90\n"
     ]
    },
    {
     "name": "stderr",
     "output_type": "stream",
     "text": [
      "Initializing NUTS using jitter+adapt_diag...\n",
      "Multiprocess sampling (4 chains in 4 jobs)\n",
      "NUTS: [mu]\n"
     ]
    },
    {
     "data": {
      "text/html": [
       "\n",
       "<style>\n",
       "    /* Turns off some styling */\n",
       "    progress {\n",
       "        /* gets rid of default border in Firefox and Opera. */\n",
       "        border: none;\n",
       "        /* Needs to be in here for Safari polyfill so background images work as expected. */\n",
       "        background-size: auto;\n",
       "    }\n",
       "    progress:not([value]), progress:not([value])::-webkit-progress-bar {\n",
       "        background: repeating-linear-gradient(45deg, #7e7e7e, #7e7e7e 10px, #5c5c5c 10px, #5c5c5c 20px);\n",
       "    }\n",
       "    .progress-bar-interrupted, .progress-bar-interrupted::-webkit-progress-bar {\n",
       "        background: #F44336;\n",
       "    }\n",
       "</style>\n"
      ],
      "text/plain": [
       "<IPython.core.display.HTML object>"
      ]
     },
     "metadata": {},
     "output_type": "display_data"
    },
    {
     "data": {
      "text/html": [
       "\n",
       "    <div>\n",
       "      <progress value='180000' class='' max='180000' style='width:300px; height:20px; vertical-align: middle;'></progress>\n",
       "      100.00% [180000/180000 01:05&lt;00:00 Sampling 4 chains, 0 divergences]\n",
       "    </div>\n",
       "    "
      ],
      "text/plain": [
       "<IPython.core.display.HTML object>"
      ]
     },
     "metadata": {},
     "output_type": "display_data"
    },
    {
     "name": "stderr",
     "output_type": "stream",
     "text": [
      "Sampling 4 chains for 5_000 tune and 40_000 draw iterations (20_000 + 160_000 draws total) took 82 seconds.\n",
      "The acceptance probability does not match the target. It is 0.6963830433096556, but should be close to 0.8. Try to increase the number of tuning steps.\n",
      "c:\\ProgramData\\Anaconda3\\envs\\py39_pymc32\\lib\\site-packages\\deprecat\\classic.py:215: FutureWarning: In v4.0, pm.sample will return an `arviz.InferenceData` object instead of a `MultiTrace` by default. You can pass return_inferencedata=True or return_inferencedata=False to be safe and silence this warning.\n",
      "  return wrapped_(*args_, **kwargs_)\n",
      "Auto-assigning NUTS sampler...\n",
      "Initializing NUTS using jitter+adapt_diag...\n",
      "Multiprocess sampling (4 chains in 4 jobs)\n",
      "NUTS: [mu]\n"
     ]
    },
    {
     "data": {
      "text/html": [
       "\n",
       "<style>\n",
       "    /* Turns off some styling */\n",
       "    progress {\n",
       "        /* gets rid of default border in Firefox and Opera. */\n",
       "        border: none;\n",
       "        /* Needs to be in here for Safari polyfill so background images work as expected. */\n",
       "        background-size: auto;\n",
       "    }\n",
       "    progress:not([value]), progress:not([value])::-webkit-progress-bar {\n",
       "        background: repeating-linear-gradient(45deg, #7e7e7e, #7e7e7e 10px, #5c5c5c 10px, #5c5c5c 20px);\n",
       "    }\n",
       "    .progress-bar-interrupted, .progress-bar-interrupted::-webkit-progress-bar {\n",
       "        background: #F44336;\n",
       "    }\n",
       "</style>\n"
      ],
      "text/plain": [
       "<IPython.core.display.HTML object>"
      ]
     },
     "metadata": {},
     "output_type": "display_data"
    },
    {
     "data": {
      "text/html": [
       "\n",
       "    <div>\n",
       "      <progress value='180000' class='' max='180000' style='width:300px; height:20px; vertical-align: middle;'></progress>\n",
       "      100.00% [180000/180000 00:41&lt;00:00 Sampling 4 chains, 0 divergences]\n",
       "    </div>\n",
       "    "
      ],
      "text/plain": [
       "<IPython.core.display.HTML object>"
      ]
     },
     "metadata": {},
     "output_type": "display_data"
    },
    {
     "name": "stderr",
     "output_type": "stream",
     "text": [
      "Sampling 4 chains for 5_000 tune and 40_000 draw iterations (20_000 + 160_000 draws total) took 55 seconds.\n",
      "c:\\ProgramData\\Anaconda3\\envs\\py39_pymc32\\lib\\site-packages\\deprecat\\classic.py:215: FutureWarning: In v4.0, pm.sample will return an `arviz.InferenceData` object instead of a `MultiTrace` by default. You can pass return_inferencedata=True or return_inferencedata=False to be safe and silence this warning.\n",
      "  return wrapped_(*args_, **kwargs_)\n",
      "Auto-assigning NUTS sampler...\n",
      "Initializing NUTS using jitter+adapt_diag...\n"
     ]
    },
    {
     "name": "stdout",
     "output_type": "stream",
     "text": [
      "  -> valid_predicted_prices:  91 \n",
      "  -> valid_closing_price:  90\n"
     ]
    },
    {
     "name": "stderr",
     "output_type": "stream",
     "text": [
      "Multiprocess sampling (4 chains in 4 jobs)\n",
      "NUTS: [mu]\n"
     ]
    },
    {
     "data": {
      "text/html": [
       "\n",
       "<style>\n",
       "    /* Turns off some styling */\n",
       "    progress {\n",
       "        /* gets rid of default border in Firefox and Opera. */\n",
       "        border: none;\n",
       "        /* Needs to be in here for Safari polyfill so background images work as expected. */\n",
       "        background-size: auto;\n",
       "    }\n",
       "    progress:not([value]), progress:not([value])::-webkit-progress-bar {\n",
       "        background: repeating-linear-gradient(45deg, #7e7e7e, #7e7e7e 10px, #5c5c5c 10px, #5c5c5c 20px);\n",
       "    }\n",
       "    .progress-bar-interrupted, .progress-bar-interrupted::-webkit-progress-bar {\n",
       "        background: #F44336;\n",
       "    }\n",
       "</style>\n"
      ],
      "text/plain": [
       "<IPython.core.display.HTML object>"
      ]
     },
     "metadata": {},
     "output_type": "display_data"
    },
    {
     "data": {
      "text/html": [
       "\n",
       "    <div>\n",
       "      <progress value='220000' class='' max='220000' style='width:300px; height:20px; vertical-align: middle;'></progress>\n",
       "      100.00% [220000/220000 01:04&lt;00:00 Sampling 4 chains, 0 divergences]\n",
       "    </div>\n",
       "    "
      ],
      "text/plain": [
       "<IPython.core.display.HTML object>"
      ]
     },
     "metadata": {},
     "output_type": "display_data"
    },
    {
     "name": "stderr",
     "output_type": "stream",
     "text": [
      "Sampling 4 chains for 5_000 tune and 50_000 draw iterations (20_000 + 200_000 draws total) took 78 seconds.\n",
      "c:\\ProgramData\\Anaconda3\\envs\\py39_pymc32\\lib\\site-packages\\deprecat\\classic.py:215: FutureWarning: In v4.0, pm.sample will return an `arviz.InferenceData` object instead of a `MultiTrace` by default. You can pass return_inferencedata=True or return_inferencedata=False to be safe and silence this warning.\n",
      "  return wrapped_(*args_, **kwargs_)\n",
      "Auto-assigning NUTS sampler...\n",
      "Initializing NUTS using jitter+adapt_diag...\n",
      "Multiprocess sampling (4 chains in 4 jobs)\n",
      "NUTS: [mu]\n"
     ]
    },
    {
     "data": {
      "text/html": [
       "\n",
       "<style>\n",
       "    /* Turns off some styling */\n",
       "    progress {\n",
       "        /* gets rid of default border in Firefox and Opera. */\n",
       "        border: none;\n",
       "        /* Needs to be in here for Safari polyfill so background images work as expected. */\n",
       "        background-size: auto;\n",
       "    }\n",
       "    progress:not([value]), progress:not([value])::-webkit-progress-bar {\n",
       "        background: repeating-linear-gradient(45deg, #7e7e7e, #7e7e7e 10px, #5c5c5c 10px, #5c5c5c 20px);\n",
       "    }\n",
       "    .progress-bar-interrupted, .progress-bar-interrupted::-webkit-progress-bar {\n",
       "        background: #F44336;\n",
       "    }\n",
       "</style>\n"
      ],
      "text/plain": [
       "<IPython.core.display.HTML object>"
      ]
     },
     "metadata": {},
     "output_type": "display_data"
    },
    {
     "data": {
      "text/html": [
       "\n",
       "    <div>\n",
       "      <progress value='220000' class='' max='220000' style='width:300px; height:20px; vertical-align: middle;'></progress>\n",
       "      100.00% [220000/220000 00:51&lt;00:00 Sampling 4 chains, 0 divergences]\n",
       "    </div>\n",
       "    "
      ],
      "text/plain": [
       "<IPython.core.display.HTML object>"
      ]
     },
     "metadata": {},
     "output_type": "display_data"
    },
    {
     "name": "stderr",
     "output_type": "stream",
     "text": [
      "Sampling 4 chains for 5_000 tune and 50_000 draw iterations (20_000 + 200_000 draws total) took 65 seconds.\n"
     ]
    },
    {
     "name": "stdout",
     "output_type": "stream",
     "text": [
      "  -> valid_predicted_prices:  91 \n",
      "  -> valid_closing_price:  90\n",
      "MSE values: [4126.988183769917, 2465.330186783481, 1377.5846715262628, 11381.988188217507, 1062.960983881943]\n"
     ]
    },
    {
     "data": {
      "text/plain": [
       "<bound method _AxesBase.set_xticks of <Axes: title={'center': 'Hyperparameter Optimization Results'}, xlabel='Hyperparameter Index', ylabel='MSE'>>"
      ]
     },
     "execution_count": 13,
     "metadata": {},
     "output_type": "execute_result"
    },
    {
     "data": {
      "image/png": "[encoded data removed]",
      "text/plain": [
       "<Figure size 1000x600 with 1 Axes>"
      ]
     },
     "metadata": {},
     "output_type": "display_data"
    }
   ],
   "source": [
    "import numpy as np\n",
    "import pandas as pd\n",
    "import pymc3 as pm\n",
    "import yfinance as yf\n",
    "import matplotlib.pyplot as plt\n",
    "\n",
    "# Load the historical Google stock price data\n",
    "goog = yf.Ticker(\"GOOGL\")\n",
    "data = goog.history(period=\"max\")\n",
    "\n",
    "# Define the validation set size\n",
    "valid_size = 90\n",
    "\n",
    "# Loop over a range of hyperparameters\n",
    "hyperparameters = [\n",
    "    {\"tune\": 1000, \"draws\": 10000, \"std\": 0.001},\n",
    "    {\"tune\": 2000, \"draws\": 20000, \"std\": 0.002},\n",
    "    {\"tune\": 3000, \"draws\": 30000, \"std\": 0.003},\n",
    "    {\"tune\": 4000, \"draws\": 40000, \"std\": 0.004},\n",
    "    {\"tune\": 5000, \"draws\": 50000, \"std\": 0.005} # Best\n",
    "]\n",
    "\n",
    "hyperparameters = [\n",
    "    {\"tune\": 5000, \"draws\": 10000, \"std\": 0.001},\n",
    "    {\"tune\": 5000, \"draws\": 20000, \"std\": 0.002},\n",
    "    {\"tune\": 5000, \"draws\": 30000, \"std\": 0.003},\n",
    "    {\"tune\": 5000, \"draws\": 40000, \"std\": 0.004},\n",
    "    {\"tune\": 5000, \"draws\": 50000, \"std\": 0.005} # Best\n",
    "]\n",
    "\n",
    "\"\"\" # Didn't seem to get better, 'best' did match to above\n",
    "hyperparameters = [\n",
    "    {\"tune\": 5000, \"draws\": 10000, \"std\": 0.005},\n",
    "    {\"tune\": 5000, \"draws\": 20000, \"std\": 0.005},\n",
    "    {\"tune\": 5000, \"draws\": 30000, \"std\": 0.005},\n",
    "    {\"tune\": 5000, \"draws\": 40000, \"std\": 0.005},\n",
    "    {\"tune\": 5000, \"draws\": 50000, \"std\": 0.005} \n",
    "]\"\"\"\" \n",
    "\n",
    "mse_values = []\n",
    "\n",
    "for params in hyperparameters:\n",
    "    # Define the training and validation sets\n",
    "    train_data = data.iloc[:-valid_size]\n",
    "    valid_data = data.iloc[-valid_size:]\n",
    "\n",
    "    # Extract the closing price data\n",
    "    train_closing_price = train_data[\"Close\"]\n",
    "    valid_closing_price = valid_data[\"Close\"]\n",
    "\n",
    "    # Define the model\n",
    "    with pm.Model() as model:\n",
    "        # Define the prior for the next day's price\n",
    "        mu = pm.Normal(\"mu\", mu=train_closing_price.mean(), sigma=train_closing_price.std())\n",
    "\n",
    "        # Define the likelihood for the next day's price\n",
    "        obs = pm.Normal(\"obs\", mu=mu, sigma=train_closing_price.std(), observed=train_closing_price)\n",
    "\n",
    "        # Sample from the posterior distribution using MCMC\n",
    "        trace = pm.sample(draws=params[\"draws\"], tune=params[\"tune\"])\n",
    "\n",
    "    # Extract the predicted next day's price from the posterior distribution\n",
    "    predicted_price = trace[\"mu\"][-1]\n",
    "\n",
    "    # Simulate the next month's prices using the predicted price and the historical price volatility\n",
    "    predicted_prices = [predicted_price]\n",
    "    for i in range(valid_size):\n",
    "        predicted_price = np.random.normal(predicted_price, train_closing_price.std())\n",
    "        predicted_prices.append(predicted_price)\n",
    "\n",
    "    # Evaluate the model on the validation set\n",
    "    with model:\n",
    "        # Define the likelihood for the validation set\n",
    "        valid_obs = pm.Normal(\"valid_obs\", mu=mu, sigma=valid_closing_price.std(), observed=valid_closing_price)\n",
    "\n",
    "        # Generate posterior samples\n",
    "        valid_trace = pm.sample(draws=params[\"draws\"], tune=params[\"tune\"])\n",
    "\n",
    "    # Compute the mean squared error (MSE) between the predicted and actual closing prices in the validation set\n",
    "    valid_predicted_prices = [valid_trace[\"mu\"][-1]]\n",
    "    for i in range(valid_size):\n",
    "        valid_predicted_price = np.random.normal(valid_predicted_prices[-1], valid_closing_price.std())\n",
    "        valid_predicted_prices.append(valid_predicted_price)\n",
    "    print(\"  -> valid_predicted_prices: \" , str(len(valid_predicted_prices)) , \"\\n  -> valid_closing_price: \" , str(len(valid_closing_price)))\n",
    "    valid_mse = ((valid_predicted_prices[1:] - valid_closing_price)**2).mean()\n",
    "\n",
    "    # Append the MSE to the list of MSE values\n",
    "    mse_values.append(valid_mse)\n",
    "\n",
    "# Print the MSE values\n",
    "print(\"MSE values:\", mse_values)\n",
    "\n",
    "# Plot the MSE values\n",
    "fig, ax = plt.subplots(figsize=(10, 6))\n",
    "ax.plot(range(len(hyperparameters)), mse_values)\n",
    "ax.set_title(\"Hyperparameter Optimization Results\")\n",
    "ax.set_xlabel(\"Hyperparameter Index\")\n",
    "ax.set_ylabel(\"MSE\")\n",
    "ax.set_xticks\n"
   ]
  },
  {
   "cell_type": "code",
   "execution_count": 14,
   "metadata": {},
   "outputs": [
    {
     "data": {
      "image/png": "[encoded data removed]",
      "text/plain": [
       "<Figure size 1000x600 with 1 Axes>"
      ]
     },
     "metadata": {},
     "output_type": "display_data"
    }
   ],
   "source": [
    "# Plot the historical and predicted prices\n",
    "fig, ax = plt.subplots(figsize=(10, 6))\n",
    "ax.plot(data.index, closing_price, label=\"Historical prices\")\n",
    "ax.plot(pd.date_range(start=data.index[-1], periods=len(predicted_prices), freq=\"B\"), predicted_prices, label=\"Predicted prices\")\n",
    "ax.set_title(\"Google Stock Prices\")\n",
    "ax.set_xlabel(\"Date\")\n",
    "ax.set_ylabel(\"Price ($)\")\n",
    "ax.legend()\n",
    "plt.show()"
   ]
  }
 ],
 "metadata": {
  "kernelspec": {
   "display_name": "Python 3.9.16 ('py39_pymc32')",
   "language": "python",
   "name": "python3"
  },
  "language_info": {
   "codemirror_mode": {
    "name": "ipython",
    "version": 3
   },
   "file_extension": ".py",
   "mimetype": "text/x-python",
   "name": "python",
   "nbconvert_exporter": "python",
   "pygments_lexer": "ipython3",
   "version": "3.9.16"
  },
  "orig_nbformat": 4,
  "vscode": {
   "interpreter": {
    "hash": "feb5f2f0fcc4f09639af4d7e9a91cb24e921c14bcb6c90996c54535ec0db782c"
   }
  }
 },
 "nbformat": 4,
 "nbformat_minor": 2
}
