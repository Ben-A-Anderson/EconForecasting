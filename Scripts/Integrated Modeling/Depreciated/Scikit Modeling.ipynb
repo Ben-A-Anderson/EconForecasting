{
 "cells": [
  {
   "cell_type": "markdown",
   "metadata": {},
   "source": [
    "# Scikit Learn Benzene Price Forecasting"
   ]
  },
  {
   "cell_type": "markdown",
   "metadata": {},
   "source": [
    "## 0.0 Notes and Explainations"
   ]
  },
  {
   "cell_type": "markdown",
   "metadata": {},
   "source": [
    "This notebook uses SQL to query::\n",
    "* lyb-sql-devdacore-002.5bff9fcb8330.database.windows.net \n",
    "    * To extract the information contained in the t-code ZMRRELPO\n",
    "* lyb-sql-prddacore-002.bed79ae4ef8b.database.windows.net\n",
    "    * To extract ZEMA IHS data\n",
    "    * To extract ZEMA ICIS data"
   ]
  },
  {
   "cell_type": "markdown",
   "metadata": {},
   "source": [
    "### 0.1 Environment setup"
   ]
  },
  {
   "cell_type": "markdown",
   "metadata": {},
   "source": [
    "This workbook utilizes the py37_benzene environment which can be installed via the Anaconda Prompt from your local repo sync by running:\n",
    "> conda env create -f py37_benzene.yml\n",
    "\n",
    "This .yml file is stored in the root scripts directory"
   ]
  },
  {
   "cell_type": "markdown",
   "metadata": {},
   "source": [
    "## 1.0 Prepare Workspace"
   ]
  },
  {
   "cell_type": "markdown",
   "metadata": {},
   "source": [
    "### 1.1 Import Standard Libraries and configure runtime parameters"
   ]
  },
  {
   "cell_type": "code",
   "execution_count": 1,
   "metadata": {},
   "outputs": [],
   "source": [
    "##\n",
    "# Import Basic Python DS Libraries \n",
    "import pandas as pd     # Standard data science package\n",
    "import numpy as np      # Additional numerical functions\n",
    "#import dtale\n",
    "##\n",
    "# Import Advanced Python DS Libraries\n",
    "import missingno as msno    # Missing value toolbox\n",
    "#from pandas_profiling import ProfileReport     # Integrated/deep reporting, resource intensive\n",
    "from statsmodels.tsa.stattools import adfuller  # Statistical test for stationary data\n",
    "\n",
    "##\n",
    "# Import Database Connection Libraries\n",
    "#import pyodbc           # Database connector\n",
    "\n",
    "##\n",
    "# Import Plotting Libraries\n",
    "import matplotlib.pyplot as plt                # Full featured plotting toolbox\n",
    "plt.rcParams['figure.figsize'] = (25,8)\n",
    "#import plotly.graph_objects as go               #Plotly GO toolbox\n",
    "import plotly.express as px                    # Plotly Express plotting toolbox\n",
    "import plotly.io as pio                        # Addtional Controls for plotly to allow visuals within VSCode Notebook\n",
    "#import seaborn as sns       # Seaborn plotting toolbox\n",
    "\n",
    "##\n",
    "# Import Operating System Interface Libraries\n",
    "import os       # operating system interface\n",
    "import sys\n",
    "import calendar\n",
    "import datetime as dt\n",
    "#from datetime import datetime, timedelta, date\n",
    "\n",
    "##\n",
    "# Import File Format Libraries\n",
    "#import pyarrow.feather as feather       # Advanced datasource import/export toolbox (Apache Parquet)\n",
    "\n",
    "##\n",
    "# Import ML and Forecasting Libraries\n",
    "#from scipy import interpolate\n",
    "#from sklearn import metrics     # Metrics for sklearn ML models\n",
    "from sklearn.ensemble import RandomForestRegressor # ML Model package\n",
    "#from sklearn.tree import DecisionTreeRegressor  # ML Model package\n",
    "from sktime.forecasting.model_selection import ExpandingWindowSplitter\n",
    "from sklearn.model_selection import RandomizedSearchCV\n",
    "#from prophet import Prophet\n",
    "\n",
    "##\n",
    "# Setup packages for sending messages\n",
    "import requests\n",
    "import json\n"
   ]
  },
  {
   "cell_type": "code",
   "execution_count": 2,
   "metadata": {},
   "outputs": [],
   "source": [
    "# Configure Libraries\n",
    "pio.renderers.default = \"notebook_connected\" # Configure plotly to print within VSCode environment\n",
    "#pio.renderers.default = \"vscode\"\n"
   ]
  },
  {
   "cell_type": "code",
   "execution_count": 3,
   "metadata": {},
   "outputs": [],
   "source": [
    "# Configure Run Environment\n",
    "AllLPC = True # Used in the \"Deal with non-Stationary data\" step to ensure that e take the Percent Change for every column and not just those that are non-stationary"
   ]
  },
  {
   "cell_type": "markdown",
   "metadata": {},
   "source": [
    "### 1.2 Import Custom Functions"
   ]
  },
  {
   "cell_type": "code",
   "execution_count": 4,
   "metadata": {},
   "outputs": [
    {
     "name": "stdout",
     "output_type": "stream",
     "text": [
      "Added c:\\Users\\baanders\\Documents\\Benzene Forecasting\\Scripts\\Functions to system paths\n",
      "Loaded multiplot\n",
      "Loaded multiplot\n",
      "Loaded StationaryTools\n",
      "Loaded StationaryTools\n",
      "Loaded RegressionTools\n",
      "c:\\Users\\baanders\\Documents\\Benzene Forecasting\\Scripts\\Functions ready to be used for import\n",
      "Loaded multiplot\n",
      "Loaded StationaryTools\n",
      "Loaded RegressionTools\n",
      "Loaded NaiveTools\n",
      "Loaded ModelingTools\n",
      "Loaded sk_ts_modelfit\n"
     ]
    }
   ],
   "source": [
    "# Define location for custom functions\n",
    "module_path = os.path.abspath(os.path.join('../Functions'))\n",
    "\n",
    "# Verify it's accessible for loading\n",
    "if (module_path not in sys.path) & (os.path.isdir(module_path)):\n",
    "    sys.path.append(module_path)\n",
    "    print('Added', module_path, 'to system paths')\n",
    "\n",
    "elif (module_path in sys.path) & (os.path.isdir(module_path)):\n",
    "    print(module_path, 'ready to be used for import')\n",
    "\n",
    "else:\n",
    "    print(module_path, 'is not a valid path')\n",
    "\n",
    "# Import Custom Functions\n",
    "try: from multi_plot import *; print('Loaded multiplot')\n",
    "except: print('failed to load multi_plot')\n",
    "\n",
    "try: from StationaryTools import *; print('Loaded StationaryTools')\n",
    "except: print('Failed to load StationaryTools')\n",
    "\n",
    "try: from RegressionTools import *; print('Loaded RegressionTools')\n",
    "except: print('Failed to load RegressionTools')\n",
    "\n",
    "try: from NaiveForecasting import *; print('Loaded NaiveTools')\n",
    "except: print('Failed to load NaiveTools')\n",
    "\n",
    "try: from ModelingTools import *; print(\"Loaded ModelingTools\")\n",
    "except: print('ModelingTools failed to load')\n",
    "\n",
    "try: from  sk_ts_modelfit import *; print('Loaded sk_ts_modelfit')\n",
    "except: print('Failed to load sk_ts_modelfit')"
   ]
  },
  {
   "cell_type": "markdown",
   "metadata": {},
   "source": [
    "### 1.3 Configure messaging"
   ]
  },
  {
   "cell_type": "code",
   "execution_count": 30,
   "metadata": {},
   "outputs": [],
   "source": [
    "url = 'https://lyondellbasell.webhook.office.com/webhookb2/0b44f724-4c38-4322-af43-1cc8a79b2240@fbe62081-06d8-481d-baa0-34149cfefa5f/IncomingWebhook/7d6ffad65b414df9bd9bf5fa64da44b2/76b3b453-0a85-40ff-a5d7-15d042decdf6'\n",
    "payload = {\n",
    "    \"text\": \"Sample alert text\"\n",
    "}\n",
    "headers = {\n",
    "    'Content-Type': 'application/json'\n",
    "}\n",
    "#response = requests.post(url, headers=headers, data=json.dumps(payload))\n",
    "#print(response.text.encode('utf8'))"
   ]
  },
  {
   "cell_type": "markdown",
   "metadata": {},
   "source": [
    "## 2.0 Import Data"
   ]
  },
  {
   "cell_type": "code",
   "execution_count": 6,
   "metadata": {},
   "outputs": [],
   "source": [
    "# Define default storage location for files\n",
    "dataroot = '../../Data/Parquet/'"
   ]
  },
  {
   "cell_type": "code",
   "execution_count": 7,
   "metadata": {},
   "outputs": [
    {
     "name": "stdout",
     "output_type": "stream",
     "text": [
      "combined_ffill dataset loaded with shape (1904, 591) and 246372 NaN values\n"
     ]
    }
   ],
   "source": [
    "# Check if data location above exists. If it does import dataset.\n",
    "# All datasets imported with name df so that we can generically \n",
    "\n",
    "if os.path.isdir(dataroot):\n",
    "    \n",
    "    # combined\n",
    "    #ifilename = 'combined'\n",
    "    \n",
    "    # combined_ffill\n",
    "    ifilename = 'combined_ffill'\n",
    "\n",
    "    # combined_linear\n",
    "    #ifilename = 'combined_linear'\n",
    "    \n",
    "    # combined_poly3\n",
    "    #ifilename = 'combined_poly3'\n",
    "    \n",
    "    # combined_poly4\n",
    "    #ifilename = 'combined_poly4'\n",
    "    \n",
    "    # combined_spline3\n",
    "    #ifilename = 'combined_spline3'\n",
    "    \n",
    "    # combined_spline4\n",
    "    #ifilename = 'combined_spline4'\n",
    "    \n",
    "    # combined_pwp\n",
    "    #ifilename = 'combined_pwp'\n",
    "    \n",
    "    # combined_akima\n",
    "    #ifilename = 'combined_akima'\n",
    "    \n",
    "    df = pd.read_parquet(dataroot+ifilename+'.parquet')\n",
    "    print(ifilename + ' dataset loaded with shape', df.shape, 'and', df.isna().sum().sum(), 'NaN values')\n",
    "    \n",
    "else:\n",
    "    print('Storage location does not exist. Please update directory and try again.')"
   ]
  },
  {
   "cell_type": "markdown",
   "metadata": {},
   "source": [
    "## 3.0 Pre-Modeling Cleaning"
   ]
  },
  {
   "cell_type": "markdown",
   "metadata": {},
   "source": [
    "#### 3.1 Pare down data so that columns are not sparese\n",
    "\n",
    "Because of the update frequency in the ZEMA data we are left with some NaN values inside the data.\n",
    "\n",
    "We also don't have data for the entire history for each feature. We'll programatically deal with these rows and columns so that our df will be completely full of values. \n",
    "\n",
    "ML algorithms do not tolerate NaN, inf, or -inf values."
   ]
  },
  {
   "cell_type": "code",
   "execution_count": 8,
   "metadata": {},
   "outputs": [
    {
     "name": "stdout",
     "output_type": "stream",
     "text": [
      "590 of 591 columns that have at least one NaN value\n",
      "1855 of 1904 rows have at least one NaN\n"
     ]
    },
    {
     "data": {
      "text/plain": [
       "<AxesSubplot:>"
      ]
     },
     "execution_count": 8,
     "metadata": {},
     "output_type": "execute_result"
    },
    {
     "data": {
      "image/png": "[encoded data removed]",
      "text/plain": [
       "<Figure size 1800x720 with 2 Axes>"
      ]
     },
     "metadata": {
      "needs_background": "light"
     },
     "output_type": "display_data"
    }
   ],
   "source": [
    "# Count columns and rows that are missing values\n",
    "print(len(df.columns[df.isna().any()].tolist()),\"of\", len(df.columns),\"columns that have at least one NaN value\" )\n",
    "print(df.isnull().any(axis=1).sum(), \"of\", df.any(axis=1).sum(), \"rows have at least one NaN\")\n",
    "\n",
    "# Visualize the missing values (missing = white)\n",
    "msno.matrix(df)"
   ]
  },
  {
   "cell_type": "code",
   "execution_count": 9,
   "metadata": {},
   "outputs": [
    {
     "name": "stdout",
     "output_type": "stream",
     "text": [
      "Distinct values for the first valid index are:\n",
      "2015-01-02 00:00:00+00:00    223\n",
      "2015-01-01 00:00:00+00:00     65\n",
      "2020-11-20 00:00:00+00:00     52\n",
      "2014-12-25 00:00:00+00:00     50\n",
      "2020-11-13 00:00:00+00:00     46\n",
      "2015-01-09 00:00:00+00:00     35\n",
      "2015-11-30 00:00:00+00:00     25\n",
      "2016-08-01 00:00:00+00:00     15\n",
      "2018-08-01 00:00:00+00:00     15\n",
      "2018-08-03 00:00:00+00:00     15\n",
      "2022-01-05 00:00:00+00:00     15\n",
      "2018-11-01 00:00:00+00:00     10\n",
      "2015-01-06 00:00:00+00:00      5\n",
      "2018-11-02 00:00:00+00:00      5\n",
      "2015-12-04 00:00:00+00:00      5\n",
      "2015-12-01 00:00:00+00:00      5\n",
      "2020-11-18 00:00:00+00:00      2\n",
      "2019-05-16 00:00:00+00:00      2\n",
      "2000-09-27 00:00:00+00:00      1\n",
      "dtype: int64\n",
      "\n",
      "Distinct values for the last valid index are:\n",
      "2022-04-05 00:00:00+00:00    591\n",
      "dtype: int64\n"
     ]
    }
   ],
   "source": [
    "# Find the date range where the majority of datasets has values\n",
    "# We'll print the counts for each value as a starting point for the feature. Because we cannot accurately back fill data we decide to limit our timeline to only the portion that contains data.\n",
    "fvi = df.apply(pd.Series.first_valid_index)\n",
    "print(\"Distinct values for the first valid index are:\")\n",
    "print(fvi.value_counts())\n",
    "\n",
    "lvi = df.apply(pd.Series.last_valid_index)\n",
    "print(\"\\nDistinct values for the last valid index are:\")\n",
    "print(lvi.value_counts())"
   ]
  },
  {
   "cell_type": "code",
   "execution_count": 10,
   "metadata": {},
   "outputs": [
    {
     "name": "stdout",
     "output_type": "stream",
     "text": [
      "252 of 591 columns that have at least one NaN value\n",
      "1851 of 1900 rows have at least one NaN\n"
     ]
    },
    {
     "data": {
      "text/plain": [
       "<AxesSubplot:>"
      ]
     },
     "execution_count": 10,
     "metadata": {},
     "output_type": "execute_result"
    },
    {
     "data": {
      "image/png": "[encoded data removed]",
      "text/plain": [
       "<Figure size 1800x720 with 2 Axes>"
      ]
     },
     "metadata": {
      "needs_background": "light"
     },
     "output_type": "display_data"
    }
   ],
   "source": [
    "# Limit data set to start where most columns have data and end where most stop having data.\n",
    "# This limits the amount of extrapolation needed in the final processing step\n",
    "df = df[(df.index >= fvi.value_counts().idxmax()) & (df.index <= lvi.value_counts().idxmax())]\n",
    "\n",
    "# Count columns and rows that are missing values\n",
    "print(len(df.columns[df.isna().any()].tolist()),\"of\", len(df.columns),\"columns that have at least one NaN value\" )\n",
    "print(df.isnull().any(axis=1).sum(), \"of\", df.any(axis=1).sum(), \"rows have at least one NaN\")\n",
    "\n",
    "# Visualize missing values in the new dataset range\n",
    "msno.matrix(df)"
   ]
  },
  {
   "cell_type": "code",
   "execution_count": 11,
   "metadata": {},
   "outputs": [
    {
     "name": "stdout",
     "output_type": "stream",
     "text": [
      "40 of 379 columns that have at least one NaN value\n",
      "5 of 1900 rows have at least one NaN\n"
     ]
    },
    {
     "data": {
      "text/plain": [
       "<AxesSubplot:>"
      ]
     },
     "execution_count": 11,
     "metadata": {},
     "output_type": "execute_result"
    },
    {
     "data": {
      "image/png": "[encoded data removed]",
      "text/plain": [
       "<Figure size 1800x720 with 2 Axes>"
      ]
     },
     "metadata": {
      "needs_background": "light"
     },
     "output_type": "display_data"
    }
   ],
   "source": [
    "# Indescriminately remove columns if they have more than _threshold_ NaN values\n",
    "threshold = 0.09 \n",
    "df = df[df.columns[df.isnull().mean() < threshold]]\n",
    "\n",
    "# Count columns and rows that are missing values\n",
    "print(len(df.columns[df.isna().any()].tolist()),\"of\", len(df.columns),\"columns that have at least one NaN value\" )\n",
    "print(df.isnull().any(axis=1).sum(), \"of\", df.any(axis=1).sum(), \"rows have at least one NaN\")\n",
    "\n",
    "# Visualize dataset NaN values\n",
    "msno.matrix(df)"
   ]
  },
  {
   "cell_type": "code",
   "execution_count": 12,
   "metadata": {},
   "outputs": [
    {
     "name": "stdout",
     "output_type": "stream",
     "text": [
      "40 columns have NaN values remaining. Their names are stored in nancols\n",
      "40 of 379 columns that have at least one NaN value\n",
      "5 of 1900 rows have at least one NaN\n"
     ]
    },
    {
     "data": {
      "text/plain": [
       "<AxesSubplot:>"
      ]
     },
     "execution_count": 12,
     "metadata": {},
     "output_type": "execute_result"
    },
    {
     "data": {
      "image/png": "[encoded data removed]",
      "text/plain": [
       "<Figure size 1800x720 with 2 Axes>"
      ]
     },
     "metadata": {
      "needs_background": "light"
     },
     "output_type": "display_data"
    }
   ],
   "source": [
    "# Get column names that still have missing values, these are about to be extrapolated and we may need to refere back to what data was modified\n",
    "nancols = df.columns[df.isna().any()].tolist()\n",
    "print(len(nancols), \"columns have NaN values remaining. Their names are stored in nancols\")\n",
    "\n",
    "# Extrapolate missing values using a second order spline (it should be accurate enough to predict values while retaining some naivity)\n",
    "#df = df.interpolate(method='spline', order=2, limit_direction='forward') # Bad fit for ~6 features\n",
    "#df = df.interpolate(method='spline', order=1, limit_direction='forward') # Bad fit for fewer than 2nd order Spline\n",
    "#df = df.interpolate(method='pchip', limit_direction='forward') # Very bad fit\n",
    "df = df.interpolate(method='ffill', limit_direction='forward') # Linear is the only method that will allow an extrapolation reliably\n",
    "\n",
    "# Count columns and rows that are missing values\n",
    "print(len(df.columns[df.isna().any()].tolist()),\"of\", len(df.columns),\"columns that have at least one NaN value\" )\n",
    "print(df.isnull().any(axis=1).sum(), \"of\", df.any(axis=1).sum(), \"rows have at least one NaN\")\n",
    "\n",
    "# Visualize missing values\n",
    "msno.matrix(df)"
   ]
  },
  {
   "cell_type": "code",
   "execution_count": 13,
   "metadata": {},
   "outputs": [
    {
     "name": "stdout",
     "output_type": "stream",
     "text": [
      "Distinct values for the first valid index are:\n",
      "2015-01-02 00:00:00+00:00    339\n",
      "2015-01-09 00:00:00+00:00     35\n",
      "2015-01-06 00:00:00+00:00      5\n",
      "dtype: int64\n",
      "min value count idx 2015-01-09 00:00:00+00:00\n",
      "\n",
      "Re-processed values for the first valid index are:\n",
      " 2015-01-06 00:00:00+00:00    344\n",
      "2015-01-09 00:00:00+00:00     35\n",
      "dtype: int64\n",
      "min value count idx 2015-01-09 00:00:00+00:00\n",
      "\n",
      "Re-processed values for the first valid index are:\n",
      " 2015-01-09 00:00:00+00:00    379\n",
      "dtype: int64\n",
      "\n",
      "Distinct values for the last valid index are:\n",
      "2022-04-05 00:00:00+00:00    379\n",
      "dtype: int64\n"
     ]
    }
   ],
   "source": [
    "# Validate that all features are fully populated\n",
    "# All columns should have the same first and last indices\n",
    "\n",
    "fvi = df.apply(pd.Series.first_valid_index)\n",
    "print(\"Distinct values for the first valid index are:\")\n",
    "print(fvi.value_counts())\n",
    "\n",
    "#Iteratively remove rows until all features contain data\n",
    "while len(fvi.value_counts()) > 1:\n",
    "    df = df[df.index >= fvi.value_counts().idxmin()]\n",
    "    fvi = df.apply(pd.Series.first_valid_index)\n",
    "    print(\"min value count idx\", fvi.value_counts().idxmin())\n",
    "    print(\"\\nRe-processed values for the first valid index are:\\n\", fvi.value_counts())\n",
    "\n",
    "lvi = df.apply(pd.Series.last_valid_index)\n",
    "print(\"\\nDistinct values for the last valid index are:\")\n",
    "print(lvi.value_counts())"
   ]
  },
  {
   "cell_type": "code",
   "execution_count": 14,
   "metadata": {},
   "outputs": [
    {
     "name": "stdout",
     "output_type": "stream",
     "text": [
      "There are 0 NaN in df\n",
      "There are 0 inf or -inf values in df\n"
     ]
    }
   ],
   "source": [
    "# Test for NaN, inf, or -inf values in dataframe\n",
    "\n",
    "nan_vals = df.isna().sum().sum()\n",
    "print('There are', nan_vals,'NaN in df')\n",
    "inf_vals = df.isin([np.inf, -np.inf]).sum().sum()\n",
    "print('There are',inf_vals,'inf or -inf values in df')"
   ]
  },
  {
   "cell_type": "code",
   "execution_count": 15,
   "metadata": {},
   "outputs": [],
   "source": [
    "#df.info"
   ]
  },
  {
   "cell_type": "markdown",
   "metadata": {},
   "source": [
    "#### 3.2 Lag Data\n",
    "\n",
    "To perform Time Series (TS) analysis we shift our predictors vs our target. The function 'lagger' performs a lead on the prediction columns.\n",
    "\n",
    "'lag_limit' columns are created for each Feature. Each column created is led by 'lag_delta' of the previous step. So lag_delta=1, lag_limit=2 would create a column pushed forward for 1 and 2 days. The allows us to fit the Target to the predictor values yesterday and the day before. Adjusting lag_delta=7, lag_limit=13 creates 3 months worth of weekly shifts so that we predict today's Target using 1, 2, 3, ... 13 week ago data. This will ultimately allow us to predict 3 months into the future using todays known Predcitor values."
   ]
  },
  {
   "cell_type": "code",
   "execution_count": 16,
   "metadata": {},
   "outputs": [
    {
     "name": "stdout",
     "output_type": "stream",
     "text": [
      "Original df shape: (1895, 379)\n",
      "Lagged df shape (with NaN): (1895, 5306)\n",
      "Lagged df shape (without NaN): (1804, 5306)\n",
      "There are 0 NaN values remaining\n"
     ]
    }
   ],
   "source": [
    "df, odf = lagger(df, lag_delta=7, lag_limit=13)\n",
    "# df = lagged columns in real values\n",
    "# odf = original columns only, no lags"
   ]
  },
  {
   "cell_type": "markdown",
   "metadata": {},
   "source": [
    "dtale is an interactive Exploratory Data Analysis tool that prints a df as an 'excel-like' sheet which can be interacted with inside of a notebook"
   ]
  },
  {
   "cell_type": "code",
   "execution_count": 17,
   "metadata": {},
   "outputs": [],
   "source": [
    "# Interactive EDA of Lagged Data\n",
    "#d = dtale.show(df)\n",
    "#d"
   ]
  },
  {
   "cell_type": "code",
   "execution_count": 18,
   "metadata": {},
   "outputs": [
    {
     "name": "stdout",
     "output_type": "stream",
     "text": [
      "There are 0 NaN in df\n",
      "There are 0 inf or -inf values in df\n"
     ]
    }
   ],
   "source": [
    "# Verify that lagger didn't create any un-reconciled NaN, inf, or -inf values.\n",
    "nan_vals = df.isna().sum().sum()\n",
    "print('There are', nan_vals,'NaN in df')\n",
    "inf_vals = df.isin([np.inf, -np.inf]).sum().sum()\n",
    "print('There are',inf_vals,'inf or -inf values in df')"
   ]
  },
  {
   "cell_type": "code",
   "execution_count": 19,
   "metadata": {},
   "outputs": [
    {
     "data": {
      "text/html": [
       "<div>\n",
       "<style scoped>\n",
       "    .dataframe tbody tr th:only-of-type {\n",
       "        vertical-align: middle;\n",
       "    }\n",
       "\n",
       "    .dataframe tbody tr th {\n",
       "        vertical-align: top;\n",
       "    }\n",
       "\n",
       "    .dataframe thead th {\n",
       "        text-align: right;\n",
       "    }\n",
       "</style>\n",
       "<table border=\"1\" class=\"dataframe\">\n",
       "  <thead>\n",
       "    <tr style=\"text-align: right;\">\n",
       "      <th></th>\n",
       "      <th>AUD/USD</th>\n",
       "      <th>Benzene CFR Taiwan MAvg (USD/MT)-AVERAGE</th>\n",
       "      <th>Benzene CFR Taiwan MAvg (USD/MT)-CLOSE</th>\n",
       "      <th>Benzene CFR Taiwan MAvg (USD/MT)-HIGH</th>\n",
       "      <th>Benzene CFR Taiwan MAvg (USD/MT)-HIGHLOW2</th>\n",
       "      <th>Benzene CFR Taiwan MAvg (USD/MT)-LOW</th>\n",
       "      <th>Benzene CFR Taiwan Weekly (USD/MT)-AVERAGE</th>\n",
       "      <th>Benzene CFR Taiwan Weekly (USD/MT)-CLOSE</th>\n",
       "      <th>Benzene CFR Taiwan Weekly (USD/MT)-HIGH</th>\n",
       "      <th>Benzene CFR Taiwan Weekly (USD/MT)-HIGHLOW2</th>\n",
       "      <th>...</th>\n",
       "      <th>Xylenes (mixed)-Spot, Next Month, Low-N/A-Cents per Gallon-Houston, TX-North America_lag_28</th>\n",
       "      <th>Xylenes (mixed)-Spot, Next Month, Low-N/A-Cents per Gallon-Houston, TX-North America_lag_35</th>\n",
       "      <th>Xylenes (mixed)-Spot, Next Month, Low-N/A-Cents per Gallon-Houston, TX-North America_lag_42</th>\n",
       "      <th>Xylenes (mixed)-Spot, Next Month, Low-N/A-Cents per Gallon-Houston, TX-North America_lag_49</th>\n",
       "      <th>Xylenes (mixed)-Spot, Next Month, Low-N/A-Cents per Gallon-Houston, TX-North America_lag_56</th>\n",
       "      <th>Xylenes (mixed)-Spot, Next Month, Low-N/A-Cents per Gallon-Houston, TX-North America_lag_63</th>\n",
       "      <th>Xylenes (mixed)-Spot, Next Month, Low-N/A-Cents per Gallon-Houston, TX-North America_lag_70</th>\n",
       "      <th>Xylenes (mixed)-Spot, Next Month, Low-N/A-Cents per Gallon-Houston, TX-North America_lag_77</th>\n",
       "      <th>Xylenes (mixed)-Spot, Next Month, Low-N/A-Cents per Gallon-Houston, TX-North America_lag_84</th>\n",
       "      <th>Xylenes (mixed)-Spot, Next Month, Low-N/A-Cents per Gallon-Houston, TX-North America_lag_91</th>\n",
       "    </tr>\n",
       "    <tr>\n",
       "      <th>date</th>\n",
       "      <th></th>\n",
       "      <th></th>\n",
       "      <th></th>\n",
       "      <th></th>\n",
       "      <th></th>\n",
       "      <th></th>\n",
       "      <th></th>\n",
       "      <th></th>\n",
       "      <th></th>\n",
       "      <th></th>\n",
       "      <th></th>\n",
       "      <th></th>\n",
       "      <th></th>\n",
       "      <th></th>\n",
       "      <th></th>\n",
       "      <th></th>\n",
       "      <th></th>\n",
       "      <th></th>\n",
       "      <th></th>\n",
       "      <th></th>\n",
       "      <th></th>\n",
       "    </tr>\n",
       "  </thead>\n",
       "  <tbody>\n",
       "    <tr>\n",
       "      <th>2015-05-14 00:00:00+00:00</th>\n",
       "      <td>0.8082</td>\n",
       "      <td>785.75</td>\n",
       "      <td>0.0</td>\n",
       "      <td>786.5</td>\n",
       "      <td>785.75</td>\n",
       "      <td>785.0</td>\n",
       "      <td>852.0</td>\n",
       "      <td>852.0</td>\n",
       "      <td>853.0</td>\n",
       "      <td>852.0</td>\n",
       "      <td>...</td>\n",
       "      <td>1795.2</td>\n",
       "      <td>1828.4</td>\n",
       "      <td>1931.2</td>\n",
       "      <td>1968.0</td>\n",
       "      <td>1887.6</td>\n",
       "      <td>1776.0</td>\n",
       "      <td>1652.8</td>\n",
       "      <td>1617.2</td>\n",
       "      <td>1502.4</td>\n",
       "      <td>1580.8</td>\n",
       "    </tr>\n",
       "    <tr>\n",
       "      <th>2015-05-15 00:00:00+00:00</th>\n",
       "      <td>0.8053</td>\n",
       "      <td>785.75</td>\n",
       "      <td>0.0</td>\n",
       "      <td>786.5</td>\n",
       "      <td>785.75</td>\n",
       "      <td>785.0</td>\n",
       "      <td>762.5</td>\n",
       "      <td>762.5</td>\n",
       "      <td>763.0</td>\n",
       "      <td>762.5</td>\n",
       "      <td>...</td>\n",
       "      <td>1795.2</td>\n",
       "      <td>1828.4</td>\n",
       "      <td>1931.2</td>\n",
       "      <td>1968.0</td>\n",
       "      <td>1887.6</td>\n",
       "      <td>1776.0</td>\n",
       "      <td>1652.8</td>\n",
       "      <td>1617.2</td>\n",
       "      <td>1502.4</td>\n",
       "      <td>1580.8</td>\n",
       "    </tr>\n",
       "  </tbody>\n",
       "</table>\n",
       "<p>2 rows × 5306 columns</p>\n",
       "</div>"
      ],
      "text/plain": [
       "                           AUD/USD  Benzene CFR Taiwan MAvg (USD/MT)-AVERAGE  \\\n",
       "date                                                                           \n",
       "2015-05-14 00:00:00+00:00   0.8082                                    785.75   \n",
       "2015-05-15 00:00:00+00:00   0.8053                                    785.75   \n",
       "\n",
       "                           Benzene CFR Taiwan MAvg (USD/MT)-CLOSE  \\\n",
       "date                                                                \n",
       "2015-05-14 00:00:00+00:00                                     0.0   \n",
       "2015-05-15 00:00:00+00:00                                     0.0   \n",
       "\n",
       "                           Benzene CFR Taiwan MAvg (USD/MT)-HIGH  \\\n",
       "date                                                               \n",
       "2015-05-14 00:00:00+00:00                                  786.5   \n",
       "2015-05-15 00:00:00+00:00                                  786.5   \n",
       "\n",
       "                           Benzene CFR Taiwan MAvg (USD/MT)-HIGHLOW2  \\\n",
       "date                                                                   \n",
       "2015-05-14 00:00:00+00:00                                     785.75   \n",
       "2015-05-15 00:00:00+00:00                                     785.75   \n",
       "\n",
       "                           Benzene CFR Taiwan MAvg (USD/MT)-LOW  \\\n",
       "date                                                              \n",
       "2015-05-14 00:00:00+00:00                                 785.0   \n",
       "2015-05-15 00:00:00+00:00                                 785.0   \n",
       "\n",
       "                           Benzene CFR Taiwan Weekly (USD/MT)-AVERAGE  \\\n",
       "date                                                                    \n",
       "2015-05-14 00:00:00+00:00                                       852.0   \n",
       "2015-05-15 00:00:00+00:00                                       762.5   \n",
       "\n",
       "                           Benzene CFR Taiwan Weekly (USD/MT)-CLOSE  \\\n",
       "date                                                                  \n",
       "2015-05-14 00:00:00+00:00                                     852.0   \n",
       "2015-05-15 00:00:00+00:00                                     762.5   \n",
       "\n",
       "                           Benzene CFR Taiwan Weekly (USD/MT)-HIGH  \\\n",
       "date                                                                 \n",
       "2015-05-14 00:00:00+00:00                                    853.0   \n",
       "2015-05-15 00:00:00+00:00                                    763.0   \n",
       "\n",
       "                           Benzene CFR Taiwan Weekly (USD/MT)-HIGHLOW2  ...  \\\n",
       "date                                                                    ...   \n",
       "2015-05-14 00:00:00+00:00                                        852.0  ...   \n",
       "2015-05-15 00:00:00+00:00                                        762.5  ...   \n",
       "\n",
       "                           Xylenes (mixed)-Spot, Next Month, Low-N/A-Cents per Gallon-Houston, TX-North America_lag_28  \\\n",
       "date                                                                                                                     \n",
       "2015-05-14 00:00:00+00:00                                             1795.2                                             \n",
       "2015-05-15 00:00:00+00:00                                             1795.2                                             \n",
       "\n",
       "                           Xylenes (mixed)-Spot, Next Month, Low-N/A-Cents per Gallon-Houston, TX-North America_lag_35  \\\n",
       "date                                                                                                                     \n",
       "2015-05-14 00:00:00+00:00                                             1828.4                                             \n",
       "2015-05-15 00:00:00+00:00                                             1828.4                                             \n",
       "\n",
       "                           Xylenes (mixed)-Spot, Next Month, Low-N/A-Cents per Gallon-Houston, TX-North America_lag_42  \\\n",
       "date                                                                                                                     \n",
       "2015-05-14 00:00:00+00:00                                             1931.2                                             \n",
       "2015-05-15 00:00:00+00:00                                             1931.2                                             \n",
       "\n",
       "                           Xylenes (mixed)-Spot, Next Month, Low-N/A-Cents per Gallon-Houston, TX-North America_lag_49  \\\n",
       "date                                                                                                                     \n",
       "2015-05-14 00:00:00+00:00                                             1968.0                                             \n",
       "2015-05-15 00:00:00+00:00                                             1968.0                                             \n",
       "\n",
       "                           Xylenes (mixed)-Spot, Next Month, Low-N/A-Cents per Gallon-Houston, TX-North America_lag_56  \\\n",
       "date                                                                                                                     \n",
       "2015-05-14 00:00:00+00:00                                             1887.6                                             \n",
       "2015-05-15 00:00:00+00:00                                             1887.6                                             \n",
       "\n",
       "                           Xylenes (mixed)-Spot, Next Month, Low-N/A-Cents per Gallon-Houston, TX-North America_lag_63  \\\n",
       "date                                                                                                                     \n",
       "2015-05-14 00:00:00+00:00                                             1776.0                                             \n",
       "2015-05-15 00:00:00+00:00                                             1776.0                                             \n",
       "\n",
       "                           Xylenes (mixed)-Spot, Next Month, Low-N/A-Cents per Gallon-Houston, TX-North America_lag_70  \\\n",
       "date                                                                                                                     \n",
       "2015-05-14 00:00:00+00:00                                             1652.8                                             \n",
       "2015-05-15 00:00:00+00:00                                             1652.8                                             \n",
       "\n",
       "                           Xylenes (mixed)-Spot, Next Month, Low-N/A-Cents per Gallon-Houston, TX-North America_lag_77  \\\n",
       "date                                                                                                                     \n",
       "2015-05-14 00:00:00+00:00                                             1617.2                                             \n",
       "2015-05-15 00:00:00+00:00                                             1617.2                                             \n",
       "\n",
       "                           Xylenes (mixed)-Spot, Next Month, Low-N/A-Cents per Gallon-Houston, TX-North America_lag_84  \\\n",
       "date                                                                                                                     \n",
       "2015-05-14 00:00:00+00:00                                             1502.4                                             \n",
       "2015-05-15 00:00:00+00:00                                             1502.4                                             \n",
       "\n",
       "                           Xylenes (mixed)-Spot, Next Month, Low-N/A-Cents per Gallon-Houston, TX-North America_lag_91  \n",
       "date                                                                                                                    \n",
       "2015-05-14 00:00:00+00:00                                             1580.8                                            \n",
       "2015-05-15 00:00:00+00:00                                             1580.8                                            \n",
       "\n",
       "[2 rows x 5306 columns]"
      ]
     },
     "execution_count": 19,
     "metadata": {},
     "output_type": "execute_result"
    }
   ],
   "source": [
    "df.head(2)"
   ]
  },
  {
   "cell_type": "markdown",
   "metadata": {},
   "source": [
    "#### 3.3 Deal with non-Stationary Data"
   ]
  },
  {
   "cell_type": "code",
   "execution_count": 20,
   "metadata": {},
   "outputs": [
    {
     "name": "stdout",
     "output_type": "stream",
     "text": [
      "Performing Percent Change Calculation on all columns\n"
     ]
    }
   ],
   "source": [
    "\n",
    "df , stat_test, df_orig_full = MakeStationaryLPC(df, AllCols=True, calcstat=False)\n",
    "# df = pct_chage for all cols\n",
    "# df_orig_full = original data\n"
   ]
  },
  {
   "cell_type": "code",
   "execution_count": 21,
   "metadata": {},
   "outputs": [
    {
     "name": "stdout",
     "output_type": "stream",
     "text": [
      "There are 0 NaN in df\n",
      "There are 0 inf or -inf values in df\n"
     ]
    },
    {
     "data": {
      "text/html": [
       "<div>\n",
       "<style scoped>\n",
       "    .dataframe tbody tr th:only-of-type {\n",
       "        vertical-align: middle;\n",
       "    }\n",
       "\n",
       "    .dataframe tbody tr th {\n",
       "        vertical-align: top;\n",
       "    }\n",
       "\n",
       "    .dataframe thead th {\n",
       "        text-align: right;\n",
       "    }\n",
       "</style>\n",
       "<table border=\"1\" class=\"dataframe\">\n",
       "  <thead>\n",
       "    <tr style=\"text-align: right;\">\n",
       "      <th></th>\n",
       "      <th>AUD/USD</th>\n",
       "      <th>Benzene CFR Taiwan MAvg (USD/MT)-AVERAGE</th>\n",
       "      <th>Benzene CFR Taiwan MAvg (USD/MT)-CLOSE</th>\n",
       "      <th>Benzene CFR Taiwan MAvg (USD/MT)-HIGH</th>\n",
       "      <th>Benzene CFR Taiwan MAvg (USD/MT)-HIGHLOW2</th>\n",
       "      <th>Benzene CFR Taiwan MAvg (USD/MT)-LOW</th>\n",
       "      <th>Benzene CFR Taiwan Weekly (USD/MT)-AVERAGE</th>\n",
       "      <th>Benzene CFR Taiwan Weekly (USD/MT)-CLOSE</th>\n",
       "      <th>Benzene CFR Taiwan Weekly (USD/MT)-HIGH</th>\n",
       "      <th>Benzene CFR Taiwan Weekly (USD/MT)-HIGHLOW2</th>\n",
       "      <th>...</th>\n",
       "      <th>Xylenes (mixed)-Spot, Next Month, Low-N/A-Cents per Gallon-Houston, TX-North America_lag_28</th>\n",
       "      <th>Xylenes (mixed)-Spot, Next Month, Low-N/A-Cents per Gallon-Houston, TX-North America_lag_35</th>\n",
       "      <th>Xylenes (mixed)-Spot, Next Month, Low-N/A-Cents per Gallon-Houston, TX-North America_lag_42</th>\n",
       "      <th>Xylenes (mixed)-Spot, Next Month, Low-N/A-Cents per Gallon-Houston, TX-North America_lag_49</th>\n",
       "      <th>Xylenes (mixed)-Spot, Next Month, Low-N/A-Cents per Gallon-Houston, TX-North America_lag_56</th>\n",
       "      <th>Xylenes (mixed)-Spot, Next Month, Low-N/A-Cents per Gallon-Houston, TX-North America_lag_63</th>\n",
       "      <th>Xylenes (mixed)-Spot, Next Month, Low-N/A-Cents per Gallon-Houston, TX-North America_lag_70</th>\n",
       "      <th>Xylenes (mixed)-Spot, Next Month, Low-N/A-Cents per Gallon-Houston, TX-North America_lag_77</th>\n",
       "      <th>Xylenes (mixed)-Spot, Next Month, Low-N/A-Cents per Gallon-Houston, TX-North America_lag_84</th>\n",
       "      <th>Xylenes (mixed)-Spot, Next Month, Low-N/A-Cents per Gallon-Houston, TX-North America_lag_91</th>\n",
       "    </tr>\n",
       "    <tr>\n",
       "      <th>date</th>\n",
       "      <th></th>\n",
       "      <th></th>\n",
       "      <th></th>\n",
       "      <th></th>\n",
       "      <th></th>\n",
       "      <th></th>\n",
       "      <th></th>\n",
       "      <th></th>\n",
       "      <th></th>\n",
       "      <th></th>\n",
       "      <th></th>\n",
       "      <th></th>\n",
       "      <th></th>\n",
       "      <th></th>\n",
       "      <th></th>\n",
       "      <th></th>\n",
       "      <th></th>\n",
       "      <th></th>\n",
       "      <th></th>\n",
       "      <th></th>\n",
       "      <th></th>\n",
       "    </tr>\n",
       "  </thead>\n",
       "  <tbody>\n",
       "    <tr>\n",
       "      <th>2015-05-15 00:00:00+00:00</th>\n",
       "      <td>-0.003588</td>\n",
       "      <td>0.0</td>\n",
       "      <td>0.0</td>\n",
       "      <td>0.0</td>\n",
       "      <td>0.0</td>\n",
       "      <td>0.0</td>\n",
       "      <td>-0.105047</td>\n",
       "      <td>-0.105047</td>\n",
       "      <td>-0.10551</td>\n",
       "      <td>-0.105047</td>\n",
       "      <td>...</td>\n",
       "      <td>0.0</td>\n",
       "      <td>0.0</td>\n",
       "      <td>0.000000</td>\n",
       "      <td>0.0</td>\n",
       "      <td>0.0</td>\n",
       "      <td>0.00000</td>\n",
       "      <td>0.0</td>\n",
       "      <td>0.0</td>\n",
       "      <td>0.000000</td>\n",
       "      <td>0.0</td>\n",
       "    </tr>\n",
       "    <tr>\n",
       "      <th>2015-05-18 00:00:00+00:00</th>\n",
       "      <td>-0.006457</td>\n",
       "      <td>0.0</td>\n",
       "      <td>0.0</td>\n",
       "      <td>0.0</td>\n",
       "      <td>0.0</td>\n",
       "      <td>0.0</td>\n",
       "      <td>0.000000</td>\n",
       "      <td>0.000000</td>\n",
       "      <td>0.00000</td>\n",
       "      <td>0.000000</td>\n",
       "      <td>...</td>\n",
       "      <td>0.0</td>\n",
       "      <td>0.0</td>\n",
       "      <td>-0.174658</td>\n",
       "      <td>0.0</td>\n",
       "      <td>0.0</td>\n",
       "      <td>0.05518</td>\n",
       "      <td>0.0</td>\n",
       "      <td>0.0</td>\n",
       "      <td>0.015708</td>\n",
       "      <td>0.0</td>\n",
       "    </tr>\n",
       "  </tbody>\n",
       "</table>\n",
       "<p>2 rows × 5306 columns</p>\n",
       "</div>"
      ],
      "text/plain": [
       "                            AUD/USD  Benzene CFR Taiwan MAvg (USD/MT)-AVERAGE  \\\n",
       "date                                                                            \n",
       "2015-05-15 00:00:00+00:00 -0.003588                                       0.0   \n",
       "2015-05-18 00:00:00+00:00 -0.006457                                       0.0   \n",
       "\n",
       "                           Benzene CFR Taiwan MAvg (USD/MT)-CLOSE  \\\n",
       "date                                                                \n",
       "2015-05-15 00:00:00+00:00                                     0.0   \n",
       "2015-05-18 00:00:00+00:00                                     0.0   \n",
       "\n",
       "                           Benzene CFR Taiwan MAvg (USD/MT)-HIGH  \\\n",
       "date                                                               \n",
       "2015-05-15 00:00:00+00:00                                    0.0   \n",
       "2015-05-18 00:00:00+00:00                                    0.0   \n",
       "\n",
       "                           Benzene CFR Taiwan MAvg (USD/MT)-HIGHLOW2  \\\n",
       "date                                                                   \n",
       "2015-05-15 00:00:00+00:00                                        0.0   \n",
       "2015-05-18 00:00:00+00:00                                        0.0   \n",
       "\n",
       "                           Benzene CFR Taiwan MAvg (USD/MT)-LOW  \\\n",
       "date                                                              \n",
       "2015-05-15 00:00:00+00:00                                   0.0   \n",
       "2015-05-18 00:00:00+00:00                                   0.0   \n",
       "\n",
       "                           Benzene CFR Taiwan Weekly (USD/MT)-AVERAGE  \\\n",
       "date                                                                    \n",
       "2015-05-15 00:00:00+00:00                                   -0.105047   \n",
       "2015-05-18 00:00:00+00:00                                    0.000000   \n",
       "\n",
       "                           Benzene CFR Taiwan Weekly (USD/MT)-CLOSE  \\\n",
       "date                                                                  \n",
       "2015-05-15 00:00:00+00:00                                 -0.105047   \n",
       "2015-05-18 00:00:00+00:00                                  0.000000   \n",
       "\n",
       "                           Benzene CFR Taiwan Weekly (USD/MT)-HIGH  \\\n",
       "date                                                                 \n",
       "2015-05-15 00:00:00+00:00                                 -0.10551   \n",
       "2015-05-18 00:00:00+00:00                                  0.00000   \n",
       "\n",
       "                           Benzene CFR Taiwan Weekly (USD/MT)-HIGHLOW2  ...  \\\n",
       "date                                                                    ...   \n",
       "2015-05-15 00:00:00+00:00                                    -0.105047  ...   \n",
       "2015-05-18 00:00:00+00:00                                     0.000000  ...   \n",
       "\n",
       "                           Xylenes (mixed)-Spot, Next Month, Low-N/A-Cents per Gallon-Houston, TX-North America_lag_28  \\\n",
       "date                                                                                                                     \n",
       "2015-05-15 00:00:00+00:00                                                0.0                                             \n",
       "2015-05-18 00:00:00+00:00                                                0.0                                             \n",
       "\n",
       "                           Xylenes (mixed)-Spot, Next Month, Low-N/A-Cents per Gallon-Houston, TX-North America_lag_35  \\\n",
       "date                                                                                                                     \n",
       "2015-05-15 00:00:00+00:00                                                0.0                                             \n",
       "2015-05-18 00:00:00+00:00                                                0.0                                             \n",
       "\n",
       "                           Xylenes (mixed)-Spot, Next Month, Low-N/A-Cents per Gallon-Houston, TX-North America_lag_42  \\\n",
       "date                                                                                                                     \n",
       "2015-05-15 00:00:00+00:00                                           0.000000                                             \n",
       "2015-05-18 00:00:00+00:00                                          -0.174658                                             \n",
       "\n",
       "                           Xylenes (mixed)-Spot, Next Month, Low-N/A-Cents per Gallon-Houston, TX-North America_lag_49  \\\n",
       "date                                                                                                                     \n",
       "2015-05-15 00:00:00+00:00                                                0.0                                             \n",
       "2015-05-18 00:00:00+00:00                                                0.0                                             \n",
       "\n",
       "                           Xylenes (mixed)-Spot, Next Month, Low-N/A-Cents per Gallon-Houston, TX-North America_lag_56  \\\n",
       "date                                                                                                                     \n",
       "2015-05-15 00:00:00+00:00                                                0.0                                             \n",
       "2015-05-18 00:00:00+00:00                                                0.0                                             \n",
       "\n",
       "                           Xylenes (mixed)-Spot, Next Month, Low-N/A-Cents per Gallon-Houston, TX-North America_lag_63  \\\n",
       "date                                                                                                                     \n",
       "2015-05-15 00:00:00+00:00                                            0.00000                                             \n",
       "2015-05-18 00:00:00+00:00                                            0.05518                                             \n",
       "\n",
       "                           Xylenes (mixed)-Spot, Next Month, Low-N/A-Cents per Gallon-Houston, TX-North America_lag_70  \\\n",
       "date                                                                                                                     \n",
       "2015-05-15 00:00:00+00:00                                                0.0                                             \n",
       "2015-05-18 00:00:00+00:00                                                0.0                                             \n",
       "\n",
       "                           Xylenes (mixed)-Spot, Next Month, Low-N/A-Cents per Gallon-Houston, TX-North America_lag_77  \\\n",
       "date                                                                                                                     \n",
       "2015-05-15 00:00:00+00:00                                                0.0                                             \n",
       "2015-05-18 00:00:00+00:00                                                0.0                                             \n",
       "\n",
       "                           Xylenes (mixed)-Spot, Next Month, Low-N/A-Cents per Gallon-Houston, TX-North America_lag_84  \\\n",
       "date                                                                                                                     \n",
       "2015-05-15 00:00:00+00:00                                           0.000000                                             \n",
       "2015-05-18 00:00:00+00:00                                           0.015708                                             \n",
       "\n",
       "                           Xylenes (mixed)-Spot, Next Month, Low-N/A-Cents per Gallon-Houston, TX-North America_lag_91  \n",
       "date                                                                                                                    \n",
       "2015-05-15 00:00:00+00:00                                                0.0                                            \n",
       "2015-05-18 00:00:00+00:00                                                0.0                                            \n",
       "\n",
       "[2 rows x 5306 columns]"
      ]
     },
     "execution_count": 21,
     "metadata": {},
     "output_type": "execute_result"
    }
   ],
   "source": [
    "nan_vals = df.isna().sum().sum()\n",
    "print('There are', nan_vals,'NaN in df')\n",
    "inf_vals = df.isin([np.inf, -np.inf]).sum().sum()\n",
    "print('There are',inf_vals,'inf or -inf values in df')\n",
    "\n",
    "df.head(2)"
   ]
  },
  {
   "cell_type": "markdown",
   "metadata": {},
   "source": [
    "### 3.4 Visualize the data"
   ]
  },
  {
   "cell_type": "code",
   "execution_count": 22,
   "metadata": {},
   "outputs": [],
   "source": [
    "# Visualize only the columns that had NaN values to be extrapolated\n",
    "#multi_plot(df, title=\"Full Dataset Visualization\")"
   ]
  },
  {
   "cell_type": "markdown",
   "metadata": {},
   "source": [
    "### 3.5 Export Data"
   ]
  },
  {
   "cell_type": "code",
   "execution_count": 23,
   "metadata": {},
   "outputs": [],
   "source": [
    "# Define default storage location for files\n",
    "edataroot = '../../Data/Parquet/SKLearn Data/'"
   ]
  },
  {
   "cell_type": "code",
   "execution_count": 24,
   "metadata": {},
   "outputs": [
    {
     "name": "stdout",
     "output_type": "stream",
     "text": [
      "combined_ffill dataset exported to  ../../Data/Parquet/SKLearn Data/combined_ffill_for_modeling.parquet\n"
     ]
    }
   ],
   "source": [
    "if os.path.isdir(edataroot):\n",
    "\n",
    "    # Export Data\n",
    "    df.to_parquet(path=edataroot+ifilename+'_for_modeling.parquet', engine='pyarrow', compression=None, index=True)\n",
    "    print(ifilename+' dataset exported to ', edataroot+ifilename+'_for_modeling.parquet')\n",
    "\n",
    "else:\n",
    "    os.mkdir(edataroot)\n",
    "    print('Storage location did not exist. It has been created\\n')\n",
    "    df.to_parquet(path=edataroot+ifilename+'_for_modeling.parquet', engine='pyarrow', compression=None, index=True)\n",
    "    print(ifilename+' dataset exported to ', edataroot+ifilename+'_for_modeling.parquet')"
   ]
  },
  {
   "cell_type": "markdown",
   "metadata": {},
   "source": [
    "## 4.0 Modeling"
   ]
  },
  {
   "cell_type": "markdown",
   "metadata": {},
   "source": [
    "### 4.1 Modeling configuration"
   ]
  },
  {
   "cell_type": "markdown",
   "metadata": {},
   "source": [
    "#### 4.1.1 Scikit Learn Modeling Function"
   ]
  },
  {
   "cell_type": "markdown",
   "metadata": {},
   "source": [
    "#### 4.1.2 Configure Global Model Inputs"
   ]
  },
  {
   "cell_type": "code",
   "execution_count": 25,
   "metadata": {},
   "outputs": [
    {
     "data": {
      "text/plain": [
       "['Benzene-Spot, Current Month, High-N/A-Cents per Gallon-FOB Houston, TX-North America',\n",
       " 'Benzene-Spot, Current Month, Low-N/A-Cents per Gallon-FOB Houston, TX-North America',\n",
       " 'Benzene-Spot, Next Month, High-N/A-Cents per Gallon-FOB Houston, TX-North America',\n",
       " 'Benzene-Spot, Next Month, Low-N/A-Cents per Gallon-FOB Houston, TX-North America',\n",
       " 'Benzene-Spot, Current Month, High-N/A-Cents per Gallon-FOB Houston, TX-North America_lag_7',\n",
       " 'Benzene-Spot, Current Month, High-N/A-Cents per Gallon-FOB Houston, TX-North America_lag_14',\n",
       " 'Benzene-Spot, Current Month, High-N/A-Cents per Gallon-FOB Houston, TX-North America_lag_21',\n",
       " 'Benzene-Spot, Current Month, High-N/A-Cents per Gallon-FOB Houston, TX-North America_lag_28',\n",
       " 'Benzene-Spot, Current Month, High-N/A-Cents per Gallon-FOB Houston, TX-North America_lag_35',\n",
       " 'Benzene-Spot, Current Month, High-N/A-Cents per Gallon-FOB Houston, TX-North America_lag_42',\n",
       " 'Benzene-Spot, Current Month, High-N/A-Cents per Gallon-FOB Houston, TX-North America_lag_49',\n",
       " 'Benzene-Spot, Current Month, High-N/A-Cents per Gallon-FOB Houston, TX-North America_lag_56',\n",
       " 'Benzene-Spot, Current Month, High-N/A-Cents per Gallon-FOB Houston, TX-North America_lag_63',\n",
       " 'Benzene-Spot, Current Month, High-N/A-Cents per Gallon-FOB Houston, TX-North America_lag_70',\n",
       " 'Benzene-Spot, Current Month, High-N/A-Cents per Gallon-FOB Houston, TX-North America_lag_77',\n",
       " 'Benzene-Spot, Current Month, High-N/A-Cents per Gallon-FOB Houston, TX-North America_lag_84',\n",
       " 'Benzene-Spot, Current Month, High-N/A-Cents per Gallon-FOB Houston, TX-North America_lag_91',\n",
       " 'Benzene-Spot, Current Month, Low-N/A-Cents per Gallon-FOB Houston, TX-North America_lag_7',\n",
       " 'Benzene-Spot, Current Month, Low-N/A-Cents per Gallon-FOB Houston, TX-North America_lag_14',\n",
       " 'Benzene-Spot, Current Month, Low-N/A-Cents per Gallon-FOB Houston, TX-North America_lag_21',\n",
       " 'Benzene-Spot, Current Month, Low-N/A-Cents per Gallon-FOB Houston, TX-North America_lag_28',\n",
       " 'Benzene-Spot, Current Month, Low-N/A-Cents per Gallon-FOB Houston, TX-North America_lag_35',\n",
       " 'Benzene-Spot, Current Month, Low-N/A-Cents per Gallon-FOB Houston, TX-North America_lag_42',\n",
       " 'Benzene-Spot, Current Month, Low-N/A-Cents per Gallon-FOB Houston, TX-North America_lag_49',\n",
       " 'Benzene-Spot, Current Month, Low-N/A-Cents per Gallon-FOB Houston, TX-North America_lag_56',\n",
       " 'Benzene-Spot, Current Month, Low-N/A-Cents per Gallon-FOB Houston, TX-North America_lag_63',\n",
       " 'Benzene-Spot, Current Month, Low-N/A-Cents per Gallon-FOB Houston, TX-North America_lag_70',\n",
       " 'Benzene-Spot, Current Month, Low-N/A-Cents per Gallon-FOB Houston, TX-North America_lag_77',\n",
       " 'Benzene-Spot, Current Month, Low-N/A-Cents per Gallon-FOB Houston, TX-North America_lag_84',\n",
       " 'Benzene-Spot, Current Month, Low-N/A-Cents per Gallon-FOB Houston, TX-North America_lag_91',\n",
       " 'Benzene-Spot, Next Month, High-N/A-Cents per Gallon-FOB Houston, TX-North America_lag_7',\n",
       " 'Benzene-Spot, Next Month, High-N/A-Cents per Gallon-FOB Houston, TX-North America_lag_14',\n",
       " 'Benzene-Spot, Next Month, High-N/A-Cents per Gallon-FOB Houston, TX-North America_lag_21',\n",
       " 'Benzene-Spot, Next Month, High-N/A-Cents per Gallon-FOB Houston, TX-North America_lag_28',\n",
       " 'Benzene-Spot, Next Month, High-N/A-Cents per Gallon-FOB Houston, TX-North America_lag_35',\n",
       " 'Benzene-Spot, Next Month, High-N/A-Cents per Gallon-FOB Houston, TX-North America_lag_42',\n",
       " 'Benzene-Spot, Next Month, High-N/A-Cents per Gallon-FOB Houston, TX-North America_lag_49',\n",
       " 'Benzene-Spot, Next Month, High-N/A-Cents per Gallon-FOB Houston, TX-North America_lag_56',\n",
       " 'Benzene-Spot, Next Month, High-N/A-Cents per Gallon-FOB Houston, TX-North America_lag_63',\n",
       " 'Benzene-Spot, Next Month, High-N/A-Cents per Gallon-FOB Houston, TX-North America_lag_70',\n",
       " 'Benzene-Spot, Next Month, High-N/A-Cents per Gallon-FOB Houston, TX-North America_lag_77',\n",
       " 'Benzene-Spot, Next Month, High-N/A-Cents per Gallon-FOB Houston, TX-North America_lag_84',\n",
       " 'Benzene-Spot, Next Month, High-N/A-Cents per Gallon-FOB Houston, TX-North America_lag_91',\n",
       " 'Benzene-Spot, Next Month, Low-N/A-Cents per Gallon-FOB Houston, TX-North America_lag_7',\n",
       " 'Benzene-Spot, Next Month, Low-N/A-Cents per Gallon-FOB Houston, TX-North America_lag_14',\n",
       " 'Benzene-Spot, Next Month, Low-N/A-Cents per Gallon-FOB Houston, TX-North America_lag_21',\n",
       " 'Benzene-Spot, Next Month, Low-N/A-Cents per Gallon-FOB Houston, TX-North America_lag_28',\n",
       " 'Benzene-Spot, Next Month, Low-N/A-Cents per Gallon-FOB Houston, TX-North America_lag_35',\n",
       " 'Benzene-Spot, Next Month, Low-N/A-Cents per Gallon-FOB Houston, TX-North America_lag_42',\n",
       " 'Benzene-Spot, Next Month, Low-N/A-Cents per Gallon-FOB Houston, TX-North America_lag_49',\n",
       " 'Benzene-Spot, Next Month, Low-N/A-Cents per Gallon-FOB Houston, TX-North America_lag_56',\n",
       " 'Benzene-Spot, Next Month, Low-N/A-Cents per Gallon-FOB Houston, TX-North America_lag_63',\n",
       " 'Benzene-Spot, Next Month, Low-N/A-Cents per Gallon-FOB Houston, TX-North America_lag_70',\n",
       " 'Benzene-Spot, Next Month, Low-N/A-Cents per Gallon-FOB Houston, TX-North America_lag_77',\n",
       " 'Benzene-Spot, Next Month, Low-N/A-Cents per Gallon-FOB Houston, TX-North America_lag_84',\n",
       " 'Benzene-Spot, Next Month, Low-N/A-Cents per Gallon-FOB Houston, TX-North America_lag_91']"
      ]
     },
     "execution_count": 25,
     "metadata": {},
     "output_type": "execute_result"
    }
   ],
   "source": [
    "# Simple utility to find a column name based on what it starts with\n",
    "# May need it to find target column values\n",
    "\n",
    "[col for col in df if col.startswith('Benzene-Spo')]"
   ]
  },
  {
   "cell_type": "code",
   "execution_count": 26,
   "metadata": {},
   "outputs": [
    {
     "name": "stdout",
     "output_type": "stream",
     "text": [
      "There are: 0 inf or -inf values in df\n",
      "There are: 0 NaN values in df\n"
     ]
    }
   ],
   "source": [
    "# Deal with inf and -inf values before train/test splitting\n",
    "inf_vals = df.isin([np.inf, -np.inf]).sum().sum()\n",
    "nan_vals = df.isna().sum().sum()\n",
    "print('There are:',inf_vals,'inf or -inf values in df')\n",
    "print('There are:',nan_vals,'NaN values in df')\n",
    "if (inf_vals>0) or (nan_vals>0): \n",
    "    df = df.replace([np.inf, -np.inf], np.NaN)\n",
    "    df = df.dropna(axis=0)\n",
    "    inf_vals = df.isin([np.inf, -np.inf]).sum().sum()\n",
    "    nan_vals = df.isna().sum().sum()\n",
    "    print('After conversion there are:', inf_vals,'inf or -inf values in df')\n",
    "    print('After conversion there are:',nan_vals,'NaN values in df')"
   ]
  },
  {
   "cell_type": "code",
   "execution_count": 27,
   "metadata": {},
   "outputs": [
    {
     "name": "stdout",
     "output_type": "stream",
     "text": [
      "Algorithm will attempt to predict:\n",
      "\t Benzene-Spot, Current Month, High-N/A-Cents per Gallon-FOB Houston, TX-North America \n",
      "using:\n",
      "\t ['date'] \n",
      "based on:\n",
      "\t 5305 predictors\n"
     ]
    }
   ],
   "source": [
    "# Our target and Identifying columns won't change for any of the models so we'll define them once here\n",
    "#target = 'Benzene-Spot, Current Month, High-N/A-Cents per Gallon-FOB Houston, TX-North America'\n",
    "target = 'Benzene-Spot, Current Month, High-N/A-Cents per Gallon-FOB Houston, TX-North America'\n",
    "\n",
    "# Our Identifying (IDcol) is 'date' for time series analyses\n",
    "IDcol = ['date']\n",
    "\n",
    "# All columns that are not Targets(predictee's) or ID's(dates) should be used to predict the Target\n",
    "predictors = [x for x in df.columns if x not in [target]+[IDcol]]\n",
    "\n",
    "print(\"Algorithm will attempt to predict:\\n\\t\", target, \"\\nusing:\\n\\t\", IDcol, \"\\nbased on:\\n\\t\", len(predictors), \"predictors\")"
   ]
  },
  {
   "cell_type": "markdown",
   "metadata": {},
   "source": [
    "#### 4.1.3 Extract prefered time frame"
   ]
  },
  {
   "cell_type": "code",
   "execution_count": 28,
   "metadata": {},
   "outputs": [
    {
     "name": "stdout",
     "output_type": "stream",
     "text": [
      "After processing:\n",
      "df starts on: 2015-05-15 00:00:00+00:00\n",
      "df ends on:   2019-12-31 00:00:00+00:00\n"
     ]
    }
   ],
   "source": [
    "# Set start_date for slicing df\n",
    "start_date = '2015-01-01'\n",
    "# Set end_date for slicing df\n",
    "end_date = '2019-12-31'\n",
    "\n",
    "df_full = df.copy(deep=True)\n",
    "df = df[start_date : end_date]\n",
    "\n",
    "print('After processing:\\ndf starts on:', df.index[0])\n",
    "print('df ends on:  ', df.index[-1])"
   ]
  },
  {
   "cell_type": "markdown",
   "metadata": {},
   "source": [
    "#### 4.1.4 Create Train and Test Datasets"
   ]
  },
  {
   "cell_type": "code",
   "execution_count": 28,
   "metadata": {},
   "outputs": [],
   "source": [
    "# ?Remove lags of column being predicted as they will not be valid prediction"
   ]
  },
  {
   "cell_type": "code",
   "execution_count": 29,
   "metadata": {},
   "outputs": [
    {
     "name": "stdout",
     "output_type": "stream",
     "text": [
      "The original dataset contains 1223 rows\n",
      "733 values in training set for 0.6 % of data\n",
      "The train dataset contains 733 rows or  59.93458708094849 % of data\n",
      "\tStarting on: 2015-05-15 00:00:00+00:00 \n",
      "\tEnding on: 2018-02-27 00:00:00+00:00\n",
      "The test dataset contains 490 rows or 40.06541291905151 % of data\n",
      "\tStarting on: 2018-02-28 00:00:00+00:00 \n",
      "\tEnding on: 2019-12-31 00:00:00+00:00\n",
      "\n",
      "All data accounted for in train and test. Sum of rows matches original df\n"
     ]
    }
   ],
   "source": [
    "# Print rows contained in original dataset for validation\n",
    "print(\"The original dataset contains\", df.any(axis=1).sum(), \"rows\")\n",
    "\n",
    "# Define qsplit to handle the quantile split between train and test\n",
    "qsplit = 0.60\n",
    "rcnt = df.shape[0]\n",
    "train_len = int(np.floor(rcnt*qsplit))\n",
    "print(train_len, \"values in training set for\", qsplit,\"% of data\")\n",
    "#test_len = rcnt-train_len\n",
    "\n",
    "# Extract oldest 75% of rows to be used as training data\n",
    "#train = df[df.index <= df.quantile(q=qsplit, axis=1).idxmax()].reset_index().rename_axis(None, axis=1)\n",
    "train = df.iloc[:train_len,:]\n",
    "train_orig = df_orig_full.iloc[:train_len, :]\n",
    "print(\"The train dataset contains\", train.any(axis=1).sum(), \"rows or \", 100*train.shape[0]/rcnt, \"% of data\")\n",
    "print('\\tStarting on:', train.index[0],'\\n\\tEnding on:',train.index[-1])\n",
    "\n",
    "# Extract newest 25% of rows to be used as testing data and remove the target column\n",
    "#test = df[df.index > df.quantile(q=qsplit, axis=1).idxmax()].reset_index().rename_axis(None, axis=1)\n",
    "test = df.iloc[train_len:, :]\n",
    "test_orig = df_orig_full.iloc[train_len:, :]\n",
    "print(\"The test dataset contains\", test.any(axis=1).sum(), \"rows or\", 100*test.shape[0]/rcnt, \"% of data\")\n",
    "print('\\tStarting on:', test.index[0],'\\n\\tEnding on:',test.index[-1])\n",
    "# Validate that all rows are accounted for in Train and test\n",
    "if train.any(axis=1).sum() + test.any(axis=1).sum() == df.any(axis=1).sum():\n",
    "    print(\"\\nAll data accounted for in train and test. Sum of rows matches original df\")\n",
    "else:\n",
    "    print(\"\\nTrain/Test split incorrect. Sum of Train + Test does not match original df. Please verify before running models.\")"
   ]
  },
  {
   "cell_type": "markdown",
   "metadata": {},
   "source": [
    "### 4.2 Scikit Learn Modeling"
   ]
  },
  {
   "cell_type": "markdown",
   "metadata": {},
   "source": [
    "#### 4.2.x Random Forest With Lag"
   ]
  },
  {
   "cell_type": "code",
   "execution_count": 30,
   "metadata": {},
   "outputs": [],
   "source": [
    "# Make known test value dataframe\n",
    "ktest = test[target]\n",
    "# remove target from Testing\n",
    "test = test.drop(columns=target)"
   ]
  },
  {
   "cell_type": "code",
   "execution_count": 31,
   "metadata": {},
   "outputs": [
    {
     "data": {
      "text/plain": [
       "date\n",
       "2018-02-28 00:00:00+00:00    0.000000\n",
       "2018-03-01 00:00:00+00:00   -0.013205\n",
       "2018-03-02 00:00:00+00:00    0.000000\n",
       "2018-03-05 00:00:00+00:00    0.000000\n",
       "2018-03-06 00:00:00+00:00    0.000000\n",
       "Name: Benzene-Spot, Current Month, High-N/A-Cents per Gallon-FOB Houston, TX-North America, dtype: float64"
      ]
     },
     "execution_count": 31,
     "metadata": {},
     "output_type": "execute_result"
    }
   ],
   "source": [
    "ktest.head(5)"
   ]
  },
  {
   "cell_type": "code",
   "execution_count": 32,
   "metadata": {},
   "outputs": [
    {
     "name": "stdout",
     "output_type": "stream",
     "text": [
      "\n",
      "Training Report\n",
      "RMSE : 0.002629\n",
      "\n",
      "Testing Report\n",
      "RMSE : 0.007709\n"
     ]
    }
   ],
   "source": [
    "# Define Algorithm for predition\n",
    "alg = RandomForestRegressor()\n",
    "\n",
    "# Model it\n",
    "yhat, alg = modelfit(alg, train, test, ktest, predictors, target)"
   ]
  },
  {
   "cell_type": "code",
   "execution_count": 33,
   "metadata": {},
   "outputs": [
    {
     "data": {
      "text/plain": [
       "Benzene-Spot, Current Month, Low-N/A-Cents per Gallon-FOB Houston, TX-North America                 0.453444\n",
       "Benzene-Spot, Next Month, Low-N/A-Cents per Gallon-FOB Houston, TX-North America                    0.224670\n",
       "Benzene-Spot, Next Month, High-N/A-Cents per Gallon-FOB Houston, TX-North America                   0.201501\n",
       "USD/KRW                                                                                             0.002609\n",
       "Solvent Naphtha FOB Rotterdam Weekly (USD/MT)-HIGHLOW2_lag_7                                        0.002424\n",
       "Toluene-Spot, Current Month, Low-Commercial Grade-Cents per Gallon-FOB Houston, TX-North America    0.002061\n",
       "Styrene CFR SE Asia Weekly (USD/MT)-CLOSE_lag_56                                                    0.001821\n",
       "Benzene FOB Korea W2 (USD/MT)-HIGHLOW2_lag_7                                                        0.001811\n",
       "Styrene CFR China H1 M2 LC 90 days (USD/MT)-HIGHLOW2_lag_7                                          0.001712\n",
       "Styrene CFR SE Asia Weekly (USD/MT)-LOW_lag_56                                                      0.001656\n",
       "Styrene CFR Taiwan (USD/MT)-HIGHLOW2_lag_7                                                          0.001594\n",
       "Benzene FOB Korea-SE Asia Diff H3 (USD/MT)-AVERAGE_lag_35                                           0.001586\n",
       "Styrene FOB Korea Weekly (USD/MT)-AVERAGE_lag_35                                                    0.001502\n",
       "Benzene FOB Korea Paper Mo02 (USD/MT)-HIGHLOW2_lag_7                                                0.001466\n",
       "USD/HKD                                                                                             0.001464\n",
       "Styrene CFR China H2 M1 LC 90 days (USD/MT)-AVERAGE_lag_7                                           0.001459\n",
       "Raffinate-1 CIF NWE Weekly (USD/MT)-LOW_lag_14                                                      0.001442\n",
       "Benzene ENEOS Corporation CP Settlement (USD/MT)-AVERAGE_lag_56                                     0.001381\n",
       "Styrene FOB Korea H2 M1 LC 90 days (USD/MT)-CLOSE_lag_14                                            0.001357\n",
       "Benzene FOB Korea Paper Mo02 (USD/MT)-LOW_lag_42                                                    0.001352\n",
       "dtype: float64"
      ]
     },
     "execution_count": 33,
     "metadata": {},
     "output_type": "execute_result"
    }
   ],
   "source": [
    "coeffs = pd.Series(alg.feature_importances_, predictors).sort_values(ascending=False)\n",
    "coeffs[0:20].sort_values(ascending=False)\n",
    "#coeffs[0:20].sort_values(ascending=True).plot(kind='bar', title='Feature Importances')"
   ]
  },
  {
   "cell_type": "markdown",
   "metadata": {},
   "source": [
    "Model only those columns that are lagged"
   ]
  },
  {
   "cell_type": "code",
   "execution_count": 34,
   "metadata": {},
   "outputs": [],
   "source": [
    "# Generate list of columns with _lag_ in their titles\n",
    "lagged_columns = [col for col in df.columns if '_lag_' in col]\n",
    "lagged_columns.append(str(target))\n",
    "# Subset training data for only lagged_columns\n",
    "train_lagged = train[lagged_columns]\n",
    "\n",
    "# Subset testing data for only lagged_columns\n",
    "test_lagged = test[lagged_columns]\n",
    "\n",
    "# Generate list of predotors for _lag_ only df\n",
    "predictors2 = [x for x in train_lagged.columns if x not in [target]+[IDcol]]"
   ]
  },
  {
   "cell_type": "code",
   "execution_count": 35,
   "metadata": {},
   "outputs": [
    {
     "name": "stdout",
     "output_type": "stream",
     "text": [
      "\n",
      "Training Report\n",
      "RMSE : 0.008001\n",
      "\n",
      "Testing Report\n",
      "RMSE : 0.02121\n"
     ]
    }
   ],
   "source": [
    "# Model the lagged columns\n",
    "alg2 = RandomForestRegressor()\n",
    "yhat_lagged, alg_lagged = modelfit(alg2, train_lagged, test_lagged, ktest, predictors2, target)"
   ]
  },
  {
   "cell_type": "code",
   "execution_count": 36,
   "metadata": {},
   "outputs": [
    {
     "data": {
      "text/plain": [
       "Styrene-Spot, Current Month, High-N/A-Cents per Pound-FOB Houston, TX-North America_lag_56                                                                         0.063821\n",
       "Ethylene-Prod Cash Cost Propane Feed, Current Month, Spot Co-Product Credits-N/A-Cents per Pound-US Gulf Coast-North America_lag_56                                0.045942\n",
       "Ethylene-Spot, Next Month, High-N/A-Cents per Pound-Delivered Pipeline, Gulf Coast-North America_lag_35                                                            0.030256\n",
       "Ethylene-Prod Cash Cost Purity Ethane Feed, Current Month, Spot Co-Product Credits-N/A-Cents per Pound-US Gulf Coast-North America_lag_35                          0.017116\n",
       "Ethylene-Spot, Current Month, Low-N/A-Cents per Pound-Delivered Pipeline, Gulf Coast-North America_lag_91                                                          0.016738\n",
       "Ethylene-Spot, Current Month, High-N/A-Cents per Pound-Delivered Pipeline, Gulf Coast-North America_lag_35                                                         0.015721\n",
       "USD/HKD_lag_28                                                                                                                                                     0.015587\n",
       "USD/INR_lag_42                                                                                                                                                     0.014803\n",
       "Ethylene-Co-Product Integrated Production Cash Cost Naphtha Feed, Current Month, Spot Co-Product Credits-N/A-Cents per Pound-US Gulf Coast-North America_lag_35    0.012300\n",
       "USD/KRW_lag_14                                                                                                                                                     0.011698\n",
       "Styrene-Spot, Next Month, High-N/A-Cents per Pound-FOB Houston, TX-North America_lag_56                                                                            0.011496\n",
       "Ethane/Propane Mix Cracker Margin cts/lb (USC/LB)-AVERAGE_lag_56                                                                                                   0.009848\n",
       "USD/VEB_lag_91                                                                                                                                                     0.009479\n",
       "AUD/USD_lag_35                                                                                                                                                     0.008871\n",
       "USD/THB_lag_42                                                                                                                                                     0.007880\n",
       "Paraxylene-Spot, Next Month, Low-N/A-US$ per Metric Ton-Houston, TX-North America_lag_91                                                                           0.007708\n",
       "Ethylene-Spot, Next Month, High-N/A-Cents per Pound-Delivered Pipeline, Gulf Coast-North America_lag_70                                                            0.007233\n",
       "Toluene-Blend Value, Average-RBOB-Cents per Gallon-FOB US Gulf Coast-North America_lag_35                                                                          0.006810\n",
       "Styrene CFR China Marker WAvg (USD/MT)-HIGHLOW2_lag_56                                                                                                             0.006634\n",
       "Ethylene-Spot, Current Month, Low-N/A-Cents per Pound-Delivered Pipeline, Gulf Coast-North America_lag_35                                                          0.005920\n",
       "dtype: float64"
      ]
     },
     "execution_count": 36,
     "metadata": {},
     "output_type": "execute_result"
    }
   ],
   "source": [
    "coeffs2 = pd.Series(alg_lagged.feature_importances_, predictors2).sort_values(ascending=False)\n",
    "coeffs2[0:20].sort_values(ascending=False)"
   ]
  },
  {
   "cell_type": "code",
   "execution_count": 55,
   "metadata": {},
   "outputs": [],
   "source": [
    "#pred = unPCall(test_orig, yhat)"
   ]
  },
  {
   "cell_type": "code",
   "execution_count": null,
   "metadata": {},
   "outputs": [],
   "source": [
    "#pred.head(5)"
   ]
  },
  {
   "cell_type": "code",
   "execution_count": null,
   "metadata": {},
   "outputs": [],
   "source": [
    "#test_orig.iloc[[0]]"
   ]
  },
  {
   "cell_type": "code",
   "execution_count": null,
   "metadata": {},
   "outputs": [],
   "source": [
    "# Predict Testing Data\n",
    "#pred['orig'] = test_orig[target]"
   ]
  },
  {
   "cell_type": "code",
   "execution_count": null,
   "metadata": {},
   "outputs": [],
   "source": [
    "#fig = px.line(pred, x = pred.index, y=[pred[target], pred['orig']])#, labels=['Predicted','Known'])\n",
    "#fig\n",
    "#fig.add_scatter(x=ktest.index, y=ktest)"
   ]
  },
  {
   "cell_type": "markdown",
   "metadata": {},
   "source": [
    "#### 4.2.y Step Forward Validation "
   ]
  },
  {
   "cell_type": "markdown",
   "metadata": {},
   "source": [
    "##### 4.2.y.1 Utilizing functions in SciKit to perform walk forward validation"
   ]
  },
  {
   "cell_type": "code",
   "execution_count": 40,
   "metadata": {},
   "outputs": [],
   "source": [
    "# Resample df to only 1 value per week (default is Sunday but doesn't matter and should ensure an aggregate of every week is accurate)\n",
    "wdf = df.resample('w').mean()\n",
    "wtrain = wdf[predictors]\n",
    "wtarget = wdf[target]"
   ]
  },
  {
   "cell_type": "code",
   "execution_count": 41,
   "metadata": {},
   "outputs": [
    {
     "name": "stdout",
     "output_type": "stream",
     "text": [
      "Number of Folds = 192\n"
     ]
    }
   ],
   "source": [
    "iw = 13*3 # Initial window = 9 months ensures some data for longest forecast\n",
    "sl = 1 # Step Length = 1 to take 1 week steps into the future\n",
    "forecast_horizon = 13 # forecasting 13 weeks into the future\n",
    "\n",
    "cv = ExpandingWindowSplitter(initial_window=iw, fh=forecast_horizon, step_length=sl)\n",
    "\n",
    "n_splits = cv.get_n_splits(wdf)\n",
    "print(f\"Number of Folds = {n_splits}\")"
   ]
  },
  {
   "cell_type": "code",
   "execution_count": 96,
   "metadata": {},
   "outputs": [
    {
     "name": "stdout",
     "output_type": "stream",
     "text": [
      "{'n_estimators': [200, 1100, 2000], 'max_features': ['auto', 'sqrt'], 'max_depth': [10, 60, 110, None], 'min_samples_split': [2, 10], 'min_samples_leaf': [2, 4], 'bootstrap': [True, False]}\n"
     ]
    }
   ],
   "source": [
    "# Number of trees in random forest\n",
    "n_estimators = [int(x) for x in np.linspace(start = 200, stop = 2000, num = 3)] # num = 10\n",
    "# Number of features to consider at every split\n",
    "max_features = ['auto', 'sqrt'] #\n",
    "# Maximum number of levels in tree\n",
    "max_depth = [int(x) for x in np.linspace(10, 110, num = 3)] # num=11\n",
    "max_depth.append(None)\n",
    "# Minimum number of samples required to split a node\n",
    "min_samples_split = [2, 10] # [2, 5,]\n",
    "# Minimum number of samples required at each leaf node\n",
    "min_samples_leaf = [2, 4] # 1, \n",
    "# Method of selecting samples for training each tree\n",
    "bootstrap = [True, False] # \n",
    "\n",
    "# Define Random Forest Regressor HP grid for DV\n",
    "random_grid = {'n_estimators': n_estimators,\n",
    "               'max_features': max_features,\n",
    "               'max_depth': max_depth,\n",
    "               'min_samples_split': min_samples_split,\n",
    "               'min_samples_leaf': min_samples_leaf,\n",
    "               'bootstrap': bootstrap}\n",
    "\n",
    "rg_str = '<br>&nbsp; n_estimators:'+ str(n_estimators) + \\\n",
    "               '<br>&nbsp; max_features: '+ str(max_features) +\\\n",
    "               '<br>&nbsp; max_depth: ;'+ str(max_depth) + \\\n",
    "               '<br>&nbsp; min_samples_split: '+ str(min_samples_split) + \\\n",
    "               '<br>&nbsp; min_samples_leaf: '+ str(min_samples_leaf) + \\\n",
    "               '<br>&nbsp; bootstrap: '+ str(bootstrap)\n",
    "\n",
    "print(random_grid)\n",
    "#print(rg_str)"
   ]
  },
  {
   "cell_type": "code",
   "execution_count": 97,
   "metadata": {},
   "outputs": [],
   "source": [
    "alg = RandomForestRegressor()\n",
    "#rf_random = RandomizedSearchCV(estimator = alg, param_distributions = random_grid, n_iter = 100, cv = cv, verbose=2, random_state=42, n_jobs = -1)\n",
    "rf_random = RandomizedSearchCV(estimator = alg, param_distributions = random_grid, n_iter = 100, cv = 3, verbose=2, random_state=42, n_jobs = -1, scoring='neg_mean_absolute_error') #cv=3 , n_iter=100"
   ]
  },
  {
   "cell_type": "code",
   "execution_count": 98,
   "metadata": {},
   "outputs": [
    {
     "name": "stdout",
     "output_type": "stream",
     "text": [
      "Fitting 3 folds for each of 100 candidates, totalling 300 fits\n"
     ]
    }
   ],
   "source": [
    "fit_out = rf_random.fit(wtrain, wtarget)\n",
    "\n",
    "print(abs(fit_out.best_score_))\n",
    "\n",
    "print(fit_out.best_params_)\n",
    "\n",
    "# When the search finishes send us a message\n",
    "payload = {\n",
    "    \"text\": \"Grid search complete. <br><br> Best Score:<br>&nbsp;&nbsp;\" + str(abs(fit_out.best_score_)) + \"<br><br>Best Params:<br>\" + str(fit_out.best_params_).replace(',',',<br>&nbsp;&nbsp;') + \\\n",
    "        '<br><br>Grid Search Params:' + rg_str\n",
    "}\n",
    "headers = {\n",
    "    'Content-Type': 'application/json'\n",
    "}\n",
    "response = requests.post(url, headers=headers, data=json.dumps(payload))\n",
    "print(response.text.encode('utf8'))"
   ]
  },
  {
   "cell_type": "markdown",
   "metadata": {},
   "source": [
    "##### 4.2.y.2 DIY Walkforward validation (before I knew about sklearn functions, incomplete)"
   ]
  },
  {
   "cell_type": "markdown",
   "metadata": {},
   "source": [
    "General flow of what needs to be developed:\n",
    "Flow:\n",
    "- Shift Target by 1 (backward)\n",
    "- Train between walk_start : initial_end - 1\n",
    "- Pred = Predict initial_end (next 1 value dT value)\n",
    "- Store PredValue at Shift = 1, Iteration = 1, Index = initial_end+1\n",
    "- Store Alg at Shift = 1, Iteration = 1, Index = initial_end+1\n",
    "- Shift Target by 2 \n",
    "- Train between walk_start and initial_end - 2\n",
    "- Pred = Predict initial_end[+1 : +2] (next 2 value dT values)\n",
    "- Store 2 PredValue at Shift = 1, Iteration = 2, Index = initial_end[+1 : +2]\n",
    "- Store Alg at Shift = 1, Iteration = 2, Index = initial_end[+1 : +2]\n",
    "- Continue to n_pred_steps\n",
    "\n",
    "Take inputs for:\n",
    "- algorithm\n",
    "- dtrain << Training data with all predictors and targets populated>>\n",
    "- walk_start\n",
    "- initial_end\n",
    "- walk_end\n",
    "- n_pred_steps = 13 (~3 months with weekly data)\n",
    "\n",
    "Code Outline:\n",
    "- dpred = dtrain[-1].index + 1 : dtrain[-1].index + 1 + n_pred_steps << provides the range of dates that will be stepped through>>\n",
    "- for current_end in df[initial_end : walk_end]   << current_end = last training data point >>\n",
    "    - for lagged_end in [current_end+1 : current_end + n_pred_steps]   << lagged_end = current data point being predicted by shifting model>>\n",
    "      - alg.fit(walk_start : current_end)"
   ]
  },
  {
   "cell_type": "code",
   "execution_count": 231,
   "metadata": {},
   "outputs": [],
   "source": [
    "# Loop logic that will append to a multi-index DF on each loop iteration\n",
    "dfs = pd.DataFrame()\n",
    "#df_labels = np.empty(0)\n",
    "mones = pd.DataFrame(np.triu(np.ones([13,13]))).replace({0:np.nan})\n",
    "\n",
    "for icnt in range(0,10):\n",
    "    #print(icnt)\n",
    "    tdf = mones.multiply(icnt)\n",
    "    tdf = pd.concat([tdf], keys=[icnt], names=['Shift', 'Iteration'], axis=1)\n",
    "    dfs = pd.concat([dfs, tdf], axis=1) #, keys=[icnt], names=['DF', 'Iteration']\n",
    "\n",
    "\n",
    "#dfs[[1]]\n",
    "#dfs\n"
   ]
  },
  {
   "cell_type": "markdown",
   "metadata": {},
   "source": [
    "Resample the training data to provide weekly values"
   ]
  },
  {
   "cell_type": "code",
   "execution_count": 271,
   "metadata": {},
   "outputs": [
    {
     "data": {
      "text/plain": [
       "33"
      ]
     },
     "execution_count": 271,
     "metadata": {},
     "output_type": "execute_result"
    }
   ],
   "source": [
    "# Resample training data for weekly values: \n",
    "wtrain = train.resample('w').mean()\n",
    "wtrain = wtrain['05-01-2015' : '12-31-2015']"
   ]
  },
  {
   "cell_type": "markdown",
   "metadata": {},
   "source": [
    "Framework the function before coding it as such to do the lag-predict at each shift interval"
   ]
  },
  {
   "cell_type": "code",
   "execution_count": 301,
   "metadata": {},
   "outputs": [],
   "source": [
    "# Variables needed in the future?\n",
    "walk_end = '2016-03-31'\n",
    "\n",
    "# Define where we want to start and end our walk forward\n",
    "ws = '2015-05-15'\n",
    "ie = '2015-12-31'\n",
    "steps = 13\n",
    "\n",
    "\n",
    "def ShiftModel(alg, df, n_pred_steps, target, verbose = True): # , train_end\n",
    "    \"\"\"\n",
    "    ShiftModel performs model and predict for a given number of prediction steps\n",
    "    OUTPUT:\n",
    "        preds = dataframe of predictions with L0 index that is first predicted week index\n",
    "    INPUT:\n",
    "        alg = SKLearn algorithm called to model and predict\n",
    "        df = dataframe of training data. Dates must be equally spaced. Prediction will use the df[-2:-1] spacing\n",
    "        train_end = DT index value to stop training at\n",
    "        n_pred_steps = number of date increments to forecast into the future\n",
    "        target = column name which is being predicted\n",
    "        verbose = controls printing during execution\n",
    "    \"\"\"\n",
    "    # Get list of columns which will be shifted. These columns are also the Predictor columns\n",
    "    scols = [col for col in df if col != target]\n",
    "\n",
    "    # Calculate delta(df) to be used for prediction values\n",
    "    dT = df.index[-1] - df.index[-2]\n",
    "    if verbose: print('Prediction increment will be:', dT)\n",
    "\n",
    "    # Pre assemble the prediction dataframe\n",
    "    preds = pd.DataFrame()\n",
    "    preds.index = pd.date_range(wtrain.index[-1]+dT, periods=n_pred_steps, freq=dT)\n",
    "    \n",
    "    if verbose: print('Forcasting:', preds.index[0])\n",
    "    # Loop modeling and prediciton \n",
    "    for lcnt in range(1, len(preds)+1):\n",
    "        if verbose: print('\\t to', preds.index[lcnt], end='\\r')\n",
    "        # Shift original data for modeling and prediction\n",
    "        sdf = wtrain[scols].shift(lcnt).dropna(axis=0)\n",
    "        #alg.fit(sdf[scols], sdf[target])\n",
    "        #print('lcnt',lcnt,'with len of sdf is', len(sdf),'from',sdf.index[0],'to',sdf.index[-1])\n",
    "        "
   ]
  },
  {
   "cell_type": "code",
   "execution_count": 303,
   "metadata": {},
   "outputs": [
    {
     "name": "stdout",
     "output_type": "stream",
     "text": [
      "Prediction increment will be: 7 days 00:00:00\n",
      "Forcasting: 2016-01-03 00:00:00+00:00\n",
      "lcnt 1 with len of sdf is 32 from 2015-05-24 00:00:00+00:00 to 2015-12-27 00:00:00+00:00\n",
      "lcnt 2 with len of sdf is 31 from 2015-05-31 00:00:00+00:00 to 2015-12-27 00:00:00+00:00\n",
      "lcnt 3 with len of sdf is 30 from 2015-06-07 00:00:00+00:00 to 2015-12-27 00:00:00+00:00\n",
      "lcnt 4 with len of sdf is 29 from 2015-06-14 00:00:00+00:00 to 2015-12-27 00:00:00+00:00\n",
      "lcnt 5 with len of sdf is 28 from 2015-06-21 00:00:00+00:00 to 2015-12-27 00:00:00+00:00\n",
      "lcnt 6 with len of sdf is 27 from 2015-06-28 00:00:00+00:00 to 2015-12-27 00:00:00+00:00\n",
      "lcnt 7 with len of sdf is 26 from 2015-07-05 00:00:00+00:00 to 2015-12-27 00:00:00+00:00\n",
      "lcnt 8 with len of sdf is 25 from 2015-07-12 00:00:00+00:00 to 2015-12-27 00:00:00+00:00\n",
      "lcnt 9 with len of sdf is 24 from 2015-07-19 00:00:00+00:00 to 2015-12-27 00:00:00+00:00\n",
      "lcnt 10 with len of sdf is 23 from 2015-07-26 00:00:00+00:00 to 2015-12-27 00:00:00+00:00\n",
      "lcnt 11 with len of sdf is 22 from 2015-08-02 00:00:00+00:00 to 2015-12-27 00:00:00+00:00\n",
      "lcnt 12 with len of sdf is 21 from 2015-08-09 00:00:00+00:00 to 2015-12-27 00:00:00+00:00\n",
      "lcnt 13 with len of sdf is 20 from 2015-08-16 00:00:00+00:00 to 2015-12-27 00:00:00+00:00\n"
     ]
    }
   ],
   "source": [
    "ShiftModel(alg, wtrain, 13, target)"
   ]
  },
  {
   "cell_type": "markdown",
   "metadata": {},
   "source": [
    "#### 4.2.x Prophet + Random Forest\n",
    "Utilizing the Facebook Prophet algorithm we can perform univariate predictor forecasting into the future. Using these forecasted predictor values we can then apply our SKLearn prediction on the Target value."
   ]
  },
  {
   "cell_type": "code",
   "execution_count": null,
   "metadata": {},
   "outputs": [],
   "source": [
    "#alg = RandomForestRegressor()\n",
    "#datafolder = dataroot+'FitOutputs/'\n",
    "#filename = str(alg)\n",
    "\n",
    "#fdf, fdfu, fdfl, coefs = prophet_scikit(alg, df, train, test, pdates, predictors, target, datafolder, filename)\n",
    "\n",
    "#print('\\n*****************************')\n",
    "#print('** Top feature importances **')\n",
    "#print('*****************************')\n",
    "#print(coefs[0:10].sort_values(by='Importance', ascending=False))\n",
    "\n",
    "######\n",
    "# Save is not currently active in the function file #\n",
    "######"
   ]
  },
  {
   "cell_type": "code",
   "execution_count": null,
   "metadata": {},
   "outputs": [],
   "source": [
    "#multi_plot(fdf, \"Future Plot (Average)\")"
   ]
  },
  {
   "cell_type": "markdown",
   "metadata": {},
   "source": [
    "# Documentation and Links"
   ]
  },
  {
   "cell_type": "markdown",
   "metadata": {},
   "source": [
    "#### SKTime Documentation:\n",
    "* https://www.sktime.org/en/latest/examples/01_forecasting.html\n",
    "\n",
    "#### SKforcast (PIP, not installed in environment):\n",
    "* https://www.cienciadedatos.net/documentos/py27-time-series-forecasting-python-scikitlearn.html\n",
    "\n",
    "#### Incremental Forecast loop using standard sklearn algorithms:\n",
    "* https://www.analyticsvidhya.com/blog/2021/06/random-forest-for-time-series-forecasting/\n",
    "* https://towardsdatascience.com/time-series-modeling-using-scikit-pandas-and-numpy-682e3b8db8d1\n",
    "* https://www.ethanrosenthal.com/2019/02/18/time-series-for-scikit-learn-people-part3/\n",
    "\n",
    "#### TS with Random Forest\n",
    "* https://towardsdatascience.com/multivariate-time-series-forecasting-using-random-forest-2372f3ecbad1\n",
    "\n",
    "#### ARIMA\n",
    "* https://www.machinelearningplus.com/time-series/arima-model-time-series-forecasting-python/\n",
    "\n",
    "#### Prophet \n",
    "* https://towardsdatascience.com/implementing-facebook-prophet-efficiently-c241305405a3"
   ]
  }
 ],
 "metadata": {
  "interpreter": {
   "hash": "bb5848bbb94c62469d14a65c30db01332f25fa6930c7bf154b7b5e2e34ee3709"
  },
  "kernelspec": {
   "display_name": "Python 3.7.11 64-bit ('py37_benzene': conda)",
   "language": "python",
   "name": "python3"
  },
  "language_info": {
   "codemirror_mode": {
    "name": "ipython",
    "version": 3
   },
   "file_extension": ".py",
   "mimetype": "text/x-python",
   "name": "python",
   "nbconvert_exporter": "python",
   "pygments_lexer": "ipython3",
   "version": "3.7.11"
  },
  "orig_nbformat": 4
 },
 "nbformat": 4,
 "nbformat_minor": 2
}
