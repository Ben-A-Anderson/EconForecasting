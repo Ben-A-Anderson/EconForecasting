{
 "cells": [
  {
   "cell_type": "markdown",
   "metadata": {},
   "source": [
    "# ZEMA Data Analysis\n",
    "\n",
    "This notebook imports ZEMA data\n",
    "\n",
    "This workbook utilizes the py37_zema environment which can be installed via the Anaconda Prompt from your local repo sync by running:\n",
    "> conda env create -f py37_zema.yml"
   ]
  },
  {
   "cell_type": "code",
   "execution_count": 1,
   "metadata": {},
   "outputs": [],
   "source": [
    "# Import Libraries\n",
    "import pandas as pd \n",
    "import numpy as np \n",
    "import pyodbc\n",
    "from pandas_profiling import ProfileReport"
   ]
  },
  {
   "cell_type": "code",
   "execution_count": 2,
   "metadata": {},
   "outputs": [],
   "source": [
    "# Setup SQL Connection\n",
    "username = 'ben.anderson@lyondellbasell.com'\n",
    "driver = 'ODBC Driver 17 for SQL Server'\n",
    "Authentication= 'ActiveDirectoryInteractive'\n",
    "\n",
    "# Setup SQL Server\n",
    "FDA_PRD_server = 'lyb-sql-prddacore-002.bed79ae4ef8b.database.windows.net'\n",
    "FDA_database = 'Source'\n"
   ]
  },
  {
   "cell_type": "code",
   "execution_count": 3,
   "metadata": {},
   "outputs": [
    {
     "name": "stdout",
     "output_type": "stream",
     "text": [
      "FinanceDA PRD\t\tEstablished and ready to be used\n"
     ]
    }
   ],
   "source": [
    "# Establish pyodbc connection to FinanceDa PRD server\n",
    "if 'ODBC Driver 17 for SQL Server' in pyodbc.drivers():\n",
    "    try:\n",
    "        Fin_PRD_DA = pyodbc.connect('DRIVER='+driver+\n",
    "                    ';SERVER='+FDA_PRD_server+\n",
    "                    ';PORT=1433;DATABASE='+FDA_database+\n",
    "                    ';UID='+username+\n",
    "                    ';AUTHENTICATION='+Authentication\n",
    "                    )\n",
    "        print(\"FinanceDA PRD\\t\\tEstablished and ready to be used\")\n",
    "    except:\n",
    "        print(\"FinanceDA PRD\\t\\tFailed\")\n",
    "else:\n",
    "    print(\"Necessary Driver (ODBC Driver 17 for SQL Server), not installed, cannot connect to database \")"
   ]
  },
  {
   "cell_type": "code",
   "execution_count": 4,
   "metadata": {},
   "outputs": [],
   "source": [
    "# Daily Futures Commodities List\n",
    "Commodity_Query = \"\"\"\n",
    "    SELECT DISTINCT [COMMODITY]    \n",
    "  FROM [Source].[Zema].[vtDceDailyFuturesSpot]\n",
    "\"\"\""
   ]
  },
  {
   "cell_type": "code",
   "execution_count": 5,
   "metadata": {},
   "outputs": [],
   "source": [
    "# Extract Query into pd.DataFrame\n",
    "\n",
    "Commodities = pd.read_sql(Commodity_Query, Fin_PRD_DA)\n",
    "#Commodities"
   ]
  },
  {
   "cell_type": "code",
   "execution_count": 6,
   "metadata": {},
   "outputs": [],
   "source": [
    "# Extract Futures \n",
    "\n",
    "Daily_Futures_Query = \"\"\"\n",
    "SELECT [source]\n",
    "      ,[report]\n",
    "      ,[numOfRecords]\n",
    "      ,[date]\n",
    "      ,[CHG]\n",
    "      ,[CLOSE]\n",
    "      ,[COMMODITY]\n",
    "      ,[COMMODITYCODE]\n",
    "      ,[CONTRACTMONTH]\n",
    "      ,[CONTRACTYEAR]\n",
    "      ,[HIGH]\n",
    "      ,[LOW]\n",
    "      ,[MARKET]\n",
    "      ,[OI]\n",
    "      ,[OICHG]\n",
    "      ,[OPEN]\n",
    "      ,[PREVSETTL]\n",
    "      ,[RAWCONTRACT]\n",
    "      ,[SETTLE]\n",
    "      ,[TURNOVER]\n",
    "      ,[VOLUME]\n",
    "      ,[InsertedDate]\n",
    "  FROM [Source].[Zema].[vtDceDailyFuturesSpot]\n",
    "  WHERE date LIKE '2021-%'\n",
    "\t  --AND COMMODITY in ('Ethenylbenzene', 'Ethylene Glycol', 'Linear Low Density Polyethylene (LLDPE)', 'Liquefied Petroleum Gas', 'Polypropylene', 'Polyvinyl Chloride (PVC)')\n",
    "    AND Market = 'Chemicals'\n",
    "\n",
    "\"\"\""
   ]
  },
  {
   "cell_type": "code",
   "execution_count": 7,
   "metadata": {},
   "outputs": [],
   "source": [
    "# Extract Daily Futures for selected Commodities\n",
    "Daily_Futures = pd.read_sql(Daily_Futures_Query, Fin_PRD_DA)\n",
    "#print( \" Data imported as: \" + str(type(Daily_Futures)))"
   ]
  },
  {
   "cell_type": "code",
   "execution_count": 8,
   "metadata": {},
   "outputs": [
    {
     "name": "stdout",
     "output_type": "stream",
     "text": [
      " Data imported as: <class 'pandas.core.frame.DataFrame'>\n",
      " Shape is: (19740, 22)\n"
     ]
    }
   ],
   "source": [
    "print(\" Data imported as: \" + str(type(Daily_Futures)) + \n",
    "\"\\r\\n Shape is: \" + str(Daily_Futures.shape) )"
   ]
  },
  {
   "cell_type": "code",
   "execution_count": 9,
   "metadata": {},
   "outputs": [
    {
     "data": {
      "text/plain": [
       "Index(['source', 'report', 'numOfRecords', 'date', 'CHG', 'CLOSE', 'COMMODITY',\n",
       "       'COMMODITYCODE', 'CONTRACTMONTH', 'CONTRACTYEAR', 'HIGH', 'LOW',\n",
       "       'MARKET', 'OI', 'OICHG', 'OPEN', 'PREVSETTL', 'RAWCONTRACT', 'SETTLE',\n",
       "       'TURNOVER', 'VOLUME', 'InsertedDate'],\n",
       "      dtype='object')"
      ]
     },
     "execution_count": 9,
     "metadata": {},
     "output_type": "execute_result"
    }
   ],
   "source": [
    "Daily_Futures.columns"
   ]
  },
  {
   "cell_type": "code",
   "execution_count": 10,
   "metadata": {},
   "outputs": [
    {
     "data": {
      "text/plain": [
       "Index(['date', 'CHG', 'CLOSE', 'COMMODITY', 'COMMODITYCODE', 'CONTRACTMONTH',\n",
       "       'CONTRACTYEAR', 'HIGH', 'LOW', 'OI', 'OICHG', 'OPEN', 'PREVSETTL',\n",
       "       'RAWCONTRACT', 'SETTLE', 'TURNOVER', 'VOLUME'],\n",
       "      dtype='object')"
      ]
     },
     "execution_count": 10,
     "metadata": {},
     "output_type": "execute_result"
    }
   ],
   "source": [
    "Daily_Futures.drop(columns=['source','report','numOfRecords','MARKET','InsertedDate'], axis=1, inplace=True)\n",
    "Daily_Futures.columns"
   ]
  },
  {
   "cell_type": "code",
   "execution_count": 11,
   "metadata": {},
   "outputs": [
    {
     "ename": "TypeError",
     "evalue": "to_html() takes 1 positional argument but 2 were given",
     "output_type": "error",
     "traceback": [
      "\u001b[1;31m---------------------------------------------------------------------------\u001b[0m",
      "\u001b[1;31mTypeError\u001b[0m                                 Traceback (most recent call last)",
      "\u001b[1;32m~\\AppData\\Local\\Temp/ipykernel_11396/675946215.py\u001b[0m in \u001b[0;36m<module>\u001b[1;34m\u001b[0m\n\u001b[0;32m      1\u001b[0m \u001b[0mProfile\u001b[0m \u001b[1;33m=\u001b[0m \u001b[0mProfileReport\u001b[0m\u001b[1;33m(\u001b[0m\u001b[0mDaily_Futures\u001b[0m\u001b[1;33m)\u001b[0m\u001b[1;33m\u001b[0m\u001b[1;33m\u001b[0m\u001b[0m\n\u001b[1;32m----> 2\u001b[1;33m \u001b[0mProfile\u001b[0m\u001b[1;33m.\u001b[0m\u001b[0mto_html\u001b[0m\u001b[1;33m(\u001b[0m\u001b[1;34m\"Zema_Daily_Spot_Futures.html\"\u001b[0m\u001b[1;33m)\u001b[0m\u001b[1;33m\u001b[0m\u001b[1;33m\u001b[0m\u001b[0m\n\u001b[0m\u001b[0;32m      3\u001b[0m \u001b[0mProfile\u001b[0m\u001b[1;33m.\u001b[0m\u001b[0mto_widgets\u001b[0m\u001b[1;33m(\u001b[0m\u001b[1;33m)\u001b[0m\u001b[1;33m\u001b[0m\u001b[1;33m\u001b[0m\u001b[0m\n",
      "\u001b[1;31mTypeError\u001b[0m: to_html() takes 1 positional argument but 2 were given"
     ]
    }
   ],
   "source": [
    "Profile = ProfileReport(Daily_Futures)\n",
    "#Profile.to_html(\"Zema_Daily_Spot_Futures.html\")\n",
    "Profile.to_widgets()"
   ]
  }
 ],
 "metadata": {
  "interpreter": {
   "hash": "ec03d7497993505a4ea059e1761b3686ca6940602e389e878bea5e96cdd15662"
  },
  "kernelspec": {
   "display_name": "Python 3.9.7 64-bit ('py39_zema': conda)",
   "language": "python",
   "name": "python3"
  },
  "language_info": {
   "codemirror_mode": {
    "name": "ipython",
    "version": 3
   },
   "file_extension": ".py",
   "mimetype": "text/x-python",
   "name": "python",
   "nbconvert_exporter": "python",
   "pygments_lexer": "ipython3",
   "version": "3.7.11"
  },
  "orig_nbformat": 4
 },
 "nbformat": 4,
 "nbformat_minor": 2
}
