{
 "cells": [
  {
   "cell_type": "markdown",
   "metadata": {},
   "source": [
    "# ZMRRELPO ANALYSIS"
   ]
  },
  {
   "cell_type": "markdown",
   "metadata": {},
   "source": [
    "## 0.0 Notes and Explainations"
   ]
  },
  {
   "cell_type": "markdown",
   "metadata": {},
   "source": [
    "This notebook uses SQL to query the FinanceDa Dev Server to extract the information contained in the t-code ZMRRELPO"
   ]
  },
  {
   "cell_type": "markdown",
   "metadata": {},
   "source": [
    "### 0.1 Environment setup"
   ]
  },
  {
   "cell_type": "markdown",
   "metadata": {},
   "source": [
    "This workbook utilizes the py37_benzene environment which can be installed via the Anaconda Prompt from your local repo sync by running:\n",
    "> conda env create -f py37_benzene.yml\n"
   ]
  },
  {
   "cell_type": "markdown",
   "metadata": {},
   "source": [
    "### 0.2 Updating"
   ]
  },
  {
   "cell_type": "markdown",
   "metadata": {},
   "source": [
    "Any changes to the assembly of the final df need to be migrated to the Python function file at:\n",
    "\n",
    "> Benzene Forecasting -- Scripts -- Integrated Modeling -- ZMRRELPO_SQL_Import"
   ]
  },
  {
   "cell_type": "markdown",
   "metadata": {},
   "source": [
    "## 1.0 Prepare Workspace"
   ]
  },
  {
   "cell_type": "markdown",
   "metadata": {},
   "source": [
    "### 1.1 Import Libraries and configure runtime parameters"
   ]
  },
  {
   "cell_type": "code",
   "execution_count": 1,
   "metadata": {},
   "outputs": [],
   "source": [
    "# Import Libraries\n",
    "import pandas as pd\n",
    "import numpy as np\n",
    "import pyodbc\n",
    "from pandas_profiling import ProfileReport\n",
    "import matplotlib.pyplot as plt\n",
    "import plotly.express as px\n",
    "import plotly.io as pio\n",
    "import os\n",
    "\n",
    "# Configure Libraries\n",
    "pio.renderers.default = \"notebook_connected\""
   ]
  },
  {
   "cell_type": "markdown",
   "metadata": {},
   "source": [
    "### 1.2 Configure SQL Connection"
   ]
  },
  {
   "cell_type": "code",
   "execution_count": 2,
   "metadata": {},
   "outputs": [],
   "source": [
    "# Setup SQL Connection\n",
    "username = 'ben.anderson@lyondellbasell.com'\n",
    "driver = 'ODBC Driver 17 for SQL Server'\n",
    "Authentication= 'ActiveDirectoryInteractive'\n",
    "\n",
    "# Setup SQL Server\n",
    "FDA_PRD_server = 'lyb-sql-prddacore-002.bed79ae4ef8b.database.windows.net'\n",
    "FDA_PRD_database = 'Source'\n",
    "\n",
    "FDA_DEV_server = 'lyb-sql-devdacore-002.5bff9fcb8330.database.windows.net'\n",
    "FDA_DEV_database = 'FinanceDa'"
   ]
  },
  {
   "cell_type": "code",
   "execution_count": 3,
   "metadata": {},
   "outputs": [
    {
     "name": "stdout",
     "output_type": "stream",
     "text": [
      "FinanceDA PRD\t\tEstablished and ready to be used\n",
      "FinanceDA DEV\t\tEstablished and ready to be used\n"
     ]
    }
   ],
   "source": [
    "# Establish pyodbc connection to servers\n",
    "if 'ODBC Driver 17 for SQL Server' in pyodbc.drivers():\n",
    "    \n",
    "    # Connect to PRD FinanceDa Database\n",
    "    try:\n",
    "        Fin_PRD_DA = pyodbc.connect('DRIVER='+driver+\n",
    "                    ';SERVER='+FDA_PRD_server+\n",
    "                    ';PORT=1433;DATABASE='+FDA_PRD_database+\n",
    "                    ';UID='+username+\n",
    "                    ';AUTHENTICATION='+Authentication\n",
    "                    )\n",
    "        print(\"FinanceDA PRD\\t\\tEstablished and ready to be used\")\n",
    "    except:\n",
    "        print(\"FinanceDA PRD\\t\\tFailed\")\n",
    "\n",
    "    # Connect to DEV FinanceDa Database\n",
    "    try:\n",
    "        Fin_DEV_DA = pyodbc.connect('DRIVER='+driver+\n",
    "                    ';SERVER='+FDA_DEV_server+\n",
    "                    ';PORT=1433;DATABASE='+FDA_DEV_database+\n",
    "                    ';UID='+username+\n",
    "                    ';AUTHENTICATION='+Authentication\n",
    "                    )\n",
    "        print(\"FinanceDA DEV\\t\\tEstablished and ready to be used\")\n",
    "    except:\n",
    "        print(\"FinanceDA DEV\\t\\tFailed\")\n",
    "    \n",
    "    \n",
    "else:\n",
    "    print(\"Necessary Driver (ODBC Driver 17 for SQL Server), not installed, cannot connect to database \")"
   ]
  },
  {
   "cell_type": "markdown",
   "metadata": {},
   "source": [
    "## 2. 0 Load Data"
   ]
  },
  {
   "cell_type": "markdown",
   "metadata": {},
   "source": [
    "### 2.1 Define SQL Queries\n",
    "\n",
    "Each query is defined as a variable that contains multi-line text surrounded by \"\"\""
   ]
  },
  {
   "cell_type": "code",
   "execution_count": 4,
   "metadata": {},
   "outputs": [],
   "source": [
    "# Daily Futures Commodities List\n",
    "ZMRRELPO_Query = \"\"\"\n",
    "/****** Extract all rows from Custom view that provides ZMRRELPO clone as a SQL query  ******/\n",
    "SELECT [EBELN]\n",
    "      ,[EBELP]\n",
    "      ,[BSART]\n",
    "      ,[LIFNR]\n",
    "      ,[NAME1]\n",
    "      ,[EKORG]\n",
    "      ,[EKGRP]\n",
    "      ,[BEDAT]\n",
    "      ,[BSTYP]\n",
    "      ,[WERKS]\n",
    "      ,[MATKL]\n",
    "      ,[NETWR]\n",
    "      ,[PSTYP]\n",
    "      ,[MTART]\n",
    "      ,[ELIKZ]\n",
    "      ,[ERNAM]\n",
    "      ,[MENGE]\n",
    "      ,[NETPR]\n",
    "      ,[NETPR2]\n",
    "      ,[MEINS]\n",
    "      ,[WAERS]\n",
    "      ,[EMATN]\n",
    "  FROM [FinanceDa].[dbo].[ZMRRELPO_benzene]\n",
    "\"\"\""
   ]
  },
  {
   "cell_type": "markdown",
   "metadata": {},
   "source": [
    "### 2.2 Execute SQL Queries"
   ]
  },
  {
   "cell_type": "code",
   "execution_count": 5,
   "metadata": {},
   "outputs": [
    {
     "data": {
      "text/plain": [
       "(963, 22)"
      ]
     },
     "execution_count": 5,
     "metadata": {},
     "output_type": "execute_result"
    }
   ],
   "source": [
    "# Extract Query into pd.DataFrame\n",
    "\n",
    "df = pd.read_sql(ZMRRELPO_Query, Fin_DEV_DA)\n",
    "df.shape"
   ]
  },
  {
   "cell_type": "markdown",
   "metadata": {},
   "source": [
    "## 3. 0 Explore Data"
   ]
  },
  {
   "cell_type": "markdown",
   "metadata": {},
   "source": [
    "### 3.1 Pandas Profiling Report"
   ]
  },
  {
   "cell_type": "code",
   "execution_count": 6,
   "metadata": {},
   "outputs": [],
   "source": [
    "#Profile = ProfileReport(df, minimal=True)\n",
    "#Profile.to_widgets()"
   ]
  },
  {
   "cell_type": "code",
   "execution_count": 7,
   "metadata": {},
   "outputs": [
    {
     "data": {
      "text/html": [
       "<div>\n",
       "<style scoped>\n",
       "    .dataframe tbody tr th:only-of-type {\n",
       "        vertical-align: middle;\n",
       "    }\n",
       "\n",
       "    .dataframe tbody tr th {\n",
       "        vertical-align: top;\n",
       "    }\n",
       "\n",
       "    .dataframe thead th {\n",
       "        text-align: right;\n",
       "    }\n",
       "</style>\n",
       "<table border=\"1\" class=\"dataframe\">\n",
       "  <thead>\n",
       "    <tr style=\"text-align: right;\">\n",
       "      <th></th>\n",
       "      <th>EBELN</th>\n",
       "      <th>EBELP</th>\n",
       "      <th>BSART</th>\n",
       "      <th>LIFNR</th>\n",
       "      <th>NAME1</th>\n",
       "      <th>EKORG</th>\n",
       "      <th>EKGRP</th>\n",
       "      <th>BEDAT</th>\n",
       "      <th>BSTYP</th>\n",
       "      <th>WERKS</th>\n",
       "      <th>...</th>\n",
       "      <th>PSTYP</th>\n",
       "      <th>MTART</th>\n",
       "      <th>ELIKZ</th>\n",
       "      <th>ERNAM</th>\n",
       "      <th>MENGE</th>\n",
       "      <th>NETPR</th>\n",
       "      <th>NETPR2</th>\n",
       "      <th>MEINS</th>\n",
       "      <th>WAERS</th>\n",
       "      <th>EMATN</th>\n",
       "    </tr>\n",
       "  </thead>\n",
       "  <tbody>\n",
       "    <tr>\n",
       "      <th>0</th>\n",
       "      <td>4800052533</td>\n",
       "      <td>00001</td>\n",
       "      <td>ZB</td>\n",
       "      <td>0000007418</td>\n",
       "      <td>TRICON ENERGY LTD</td>\n",
       "      <td>PROD</td>\n",
       "      <td>MM5</td>\n",
       "      <td>20210629</td>\n",
       "      <td>F</td>\n",
       "      <td>PKTN</td>\n",
       "      <td>...</td>\n",
       "      <td>0</td>\n",
       "      <td>RAW</td>\n",
       "      <td>X</td>\n",
       "      <td>HAKHOURY</td>\n",
       "      <td>43857.24</td>\n",
       "      <td>405.75</td>\n",
       "      <td>4.0575</td>\n",
       "      <td>GAL</td>\n",
       "      <td>USD</td>\n",
       "      <td>000000000002099002</td>\n",
       "    </tr>\n",
       "    <tr>\n",
       "      <th>1</th>\n",
       "      <td>4800052534</td>\n",
       "      <td>00001</td>\n",
       "      <td>ZB</td>\n",
       "      <td>0000007418</td>\n",
       "      <td>TRICON ENERGY LTD</td>\n",
       "      <td>PROD</td>\n",
       "      <td>MM5</td>\n",
       "      <td>20210629</td>\n",
       "      <td>F</td>\n",
       "      <td>PKTN</td>\n",
       "      <td>...</td>\n",
       "      <td>0</td>\n",
       "      <td>RAW</td>\n",
       "      <td>X</td>\n",
       "      <td>HAKHOURY</td>\n",
       "      <td>836825.59</td>\n",
       "      <td>306.75</td>\n",
       "      <td>3.0675</td>\n",
       "      <td>GAL</td>\n",
       "      <td>USD</td>\n",
       "      <td>000000000002099002</td>\n",
       "    </tr>\n",
       "    <tr>\n",
       "      <th>2</th>\n",
       "      <td>4800052400</td>\n",
       "      <td>00002</td>\n",
       "      <td>ZB</td>\n",
       "      <td>0000007418</td>\n",
       "      <td>TRICON ENERGY LTD</td>\n",
       "      <td>PROD</td>\n",
       "      <td>MM5</td>\n",
       "      <td>20210609</td>\n",
       "      <td>F</td>\n",
       "      <td>PKTN</td>\n",
       "      <td>...</td>\n",
       "      <td>0</td>\n",
       "      <td>RAW</td>\n",
       "      <td>X</td>\n",
       "      <td>HAKHOURY</td>\n",
       "      <td>1764000.00</td>\n",
       "      <td>405.75</td>\n",
       "      <td>4.0575</td>\n",
       "      <td>GAL</td>\n",
       "      <td>USD</td>\n",
       "      <td>000000000002099002</td>\n",
       "    </tr>\n",
       "    <tr>\n",
       "      <th>3</th>\n",
       "      <td>4800052415</td>\n",
       "      <td>00002</td>\n",
       "      <td>ZB</td>\n",
       "      <td>0000007418</td>\n",
       "      <td>TRICON ENERGY LTD</td>\n",
       "      <td>PROD</td>\n",
       "      <td>MM5</td>\n",
       "      <td>20210615</td>\n",
       "      <td>F</td>\n",
       "      <td>PKTN</td>\n",
       "      <td>...</td>\n",
       "      <td>0</td>\n",
       "      <td>RAW</td>\n",
       "      <td>X</td>\n",
       "      <td>HAKHOURY</td>\n",
       "      <td>40443.06</td>\n",
       "      <td>405.75</td>\n",
       "      <td>4.0575</td>\n",
       "      <td>GAL</td>\n",
       "      <td>USD</td>\n",
       "      <td>000000000002099002</td>\n",
       "    </tr>\n",
       "    <tr>\n",
       "      <th>4</th>\n",
       "      <td>4800052577</td>\n",
       "      <td>00001</td>\n",
       "      <td>ZB</td>\n",
       "      <td>0000007418</td>\n",
       "      <td>TRICON ENERGY LTD</td>\n",
       "      <td>PROD</td>\n",
       "      <td>MM5</td>\n",
       "      <td>20210701</td>\n",
       "      <td>F</td>\n",
       "      <td>PKTN</td>\n",
       "      <td>...</td>\n",
       "      <td>0</td>\n",
       "      <td>RAW</td>\n",
       "      <td>X</td>\n",
       "      <td>HAKHOURY</td>\n",
       "      <td>840947.97</td>\n",
       "      <td>306.75</td>\n",
       "      <td>3.0675</td>\n",
       "      <td>GAL</td>\n",
       "      <td>USD</td>\n",
       "      <td>000000000002099002</td>\n",
       "    </tr>\n",
       "  </tbody>\n",
       "</table>\n",
       "<p>5 rows × 22 columns</p>\n",
       "</div>"
      ],
      "text/plain": [
       "        EBELN  EBELP BSART       LIFNR              NAME1 EKORG EKGRP  \\\n",
       "0  4800052533  00001    ZB  0000007418  TRICON ENERGY LTD  PROD   MM5   \n",
       "1  4800052534  00001    ZB  0000007418  TRICON ENERGY LTD  PROD   MM5   \n",
       "2  4800052400  00002    ZB  0000007418  TRICON ENERGY LTD  PROD   MM5   \n",
       "3  4800052415  00002    ZB  0000007418  TRICON ENERGY LTD  PROD   MM5   \n",
       "4  4800052577  00001    ZB  0000007418  TRICON ENERGY LTD  PROD   MM5   \n",
       "\n",
       "      BEDAT BSTYP WERKS  ... PSTYP  MTART ELIKZ     ERNAM       MENGE   NETPR  \\\n",
       "0  20210629     F  PKTN  ...     0    RAW     X  HAKHOURY    43857.24  405.75   \n",
       "1  20210629     F  PKTN  ...     0    RAW     X  HAKHOURY   836825.59  306.75   \n",
       "2  20210609     F  PKTN  ...     0    RAW     X  HAKHOURY  1764000.00  405.75   \n",
       "3  20210615     F  PKTN  ...     0    RAW     X  HAKHOURY    40443.06  405.75   \n",
       "4  20210701     F  PKTN  ...     0    RAW     X  HAKHOURY   840947.97  306.75   \n",
       "\n",
       "   NETPR2  MEINS  WAERS               EMATN  \n",
       "0  4.0575    GAL    USD  000000000002099002  \n",
       "1  3.0675    GAL    USD  000000000002099002  \n",
       "2  4.0575    GAL    USD  000000000002099002  \n",
       "3  4.0575    GAL    USD  000000000002099002  \n",
       "4  3.0675    GAL    USD  000000000002099002  \n",
       "\n",
       "[5 rows x 22 columns]"
      ]
     },
     "execution_count": 7,
     "metadata": {},
     "output_type": "execute_result"
    }
   ],
   "source": [
    "df.head(5)"
   ]
  },
  {
   "cell_type": "markdown",
   "metadata": {},
   "source": [
    "### 3.2 Exploritory Data Analysis (EDA)"
   ]
  },
  {
   "cell_type": "markdown",
   "metadata": {},
   "source": [
    "#### 3.2.1 Remove unnecessary columns"
   ]
  },
  {
   "cell_type": "code",
   "execution_count": 8,
   "metadata": {},
   "outputs": [
    {
     "data": {
      "text/html": [
       "<div>\n",
       "<style scoped>\n",
       "    .dataframe tbody tr th:only-of-type {\n",
       "        vertical-align: middle;\n",
       "    }\n",
       "\n",
       "    .dataframe tbody tr th {\n",
       "        vertical-align: top;\n",
       "    }\n",
       "\n",
       "    .dataframe thead th {\n",
       "        text-align: right;\n",
       "    }\n",
       "</style>\n",
       "<table border=\"1\" class=\"dataframe\">\n",
       "  <thead>\n",
       "    <tr style=\"text-align: right;\">\n",
       "      <th></th>\n",
       "      <th>EBELN</th>\n",
       "      <th>LIFNR</th>\n",
       "      <th>NAME1</th>\n",
       "      <th>BEDAT</th>\n",
       "      <th>MATKL</th>\n",
       "      <th>NETWR</th>\n",
       "      <th>ERNAM</th>\n",
       "      <th>MENGE</th>\n",
       "      <th>NETPR</th>\n",
       "      <th>NETPR2</th>\n",
       "      <th>MEINS</th>\n",
       "      <th>WAERS</th>\n",
       "    </tr>\n",
       "  </thead>\n",
       "  <tbody>\n",
       "    <tr>\n",
       "      <th>0</th>\n",
       "      <td>4800052533</td>\n",
       "      <td>0000007418</td>\n",
       "      <td>TRICON ENERGY LTD</td>\n",
       "      <td>20210629</td>\n",
       "      <td>N03001000</td>\n",
       "      <td>177950.75</td>\n",
       "      <td>HAKHOURY</td>\n",
       "      <td>43857.24</td>\n",
       "      <td>405.75</td>\n",
       "      <td>4.0575</td>\n",
       "      <td>GAL</td>\n",
       "      <td>USD</td>\n",
       "    </tr>\n",
       "    <tr>\n",
       "      <th>1</th>\n",
       "      <td>4800052534</td>\n",
       "      <td>0000007418</td>\n",
       "      <td>TRICON ENERGY LTD</td>\n",
       "      <td>20210629</td>\n",
       "      <td>N03001000</td>\n",
       "      <td>2566962.50</td>\n",
       "      <td>HAKHOURY</td>\n",
       "      <td>836825.59</td>\n",
       "      <td>306.75</td>\n",
       "      <td>3.0675</td>\n",
       "      <td>GAL</td>\n",
       "      <td>USD</td>\n",
       "    </tr>\n",
       "    <tr>\n",
       "      <th>2</th>\n",
       "      <td>4800052400</td>\n",
       "      <td>0000007418</td>\n",
       "      <td>TRICON ENERGY LTD</td>\n",
       "      <td>20210609</td>\n",
       "      <td>N03001000</td>\n",
       "      <td>7157430.00</td>\n",
       "      <td>HAKHOURY</td>\n",
       "      <td>1764000.00</td>\n",
       "      <td>405.75</td>\n",
       "      <td>4.0575</td>\n",
       "      <td>GAL</td>\n",
       "      <td>USD</td>\n",
       "    </tr>\n",
       "    <tr>\n",
       "      <th>3</th>\n",
       "      <td>4800052415</td>\n",
       "      <td>0000007418</td>\n",
       "      <td>TRICON ENERGY LTD</td>\n",
       "      <td>20210615</td>\n",
       "      <td>N03001000</td>\n",
       "      <td>164097.72</td>\n",
       "      <td>HAKHOURY</td>\n",
       "      <td>40443.06</td>\n",
       "      <td>405.75</td>\n",
       "      <td>4.0575</td>\n",
       "      <td>GAL</td>\n",
       "      <td>USD</td>\n",
       "    </tr>\n",
       "    <tr>\n",
       "      <th>4</th>\n",
       "      <td>4800052577</td>\n",
       "      <td>0000007418</td>\n",
       "      <td>TRICON ENERGY LTD</td>\n",
       "      <td>20210701</td>\n",
       "      <td>N03001000</td>\n",
       "      <td>2579607.90</td>\n",
       "      <td>HAKHOURY</td>\n",
       "      <td>840947.97</td>\n",
       "      <td>306.75</td>\n",
       "      <td>3.0675</td>\n",
       "      <td>GAL</td>\n",
       "      <td>USD</td>\n",
       "    </tr>\n",
       "  </tbody>\n",
       "</table>\n",
       "</div>"
      ],
      "text/plain": [
       "        EBELN       LIFNR              NAME1     BEDAT      MATKL       NETWR  \\\n",
       "0  4800052533  0000007418  TRICON ENERGY LTD  20210629  N03001000   177950.75   \n",
       "1  4800052534  0000007418  TRICON ENERGY LTD  20210629  N03001000  2566962.50   \n",
       "2  4800052400  0000007418  TRICON ENERGY LTD  20210609  N03001000  7157430.00   \n",
       "3  4800052415  0000007418  TRICON ENERGY LTD  20210615  N03001000   164097.72   \n",
       "4  4800052577  0000007418  TRICON ENERGY LTD  20210701  N03001000  2579607.90   \n",
       "\n",
       "      ERNAM       MENGE   NETPR  NETPR2 MEINS WAERS  \n",
       "0  HAKHOURY    43857.24  405.75  4.0575   GAL   USD  \n",
       "1  HAKHOURY   836825.59  306.75  3.0675   GAL   USD  \n",
       "2  HAKHOURY  1764000.00  405.75  4.0575   GAL   USD  \n",
       "3  HAKHOURY    40443.06  405.75  4.0575   GAL   USD  \n",
       "4  HAKHOURY   840947.97  306.75  3.0675   GAL   USD  "
      ]
     },
     "execution_count": 8,
     "metadata": {},
     "output_type": "execute_result"
    }
   ],
   "source": [
    "# Remove columns with high cardinality and with data that is not useful to modeling\n",
    "df = df.drop(columns=['EBELP','BSART','BSTYP','WERKS','PSTYP','ELIKZ','MTART','ELIKZ','EMATN','EKORG','EKGRP'])\n",
    "df.head(5)"
   ]
  },
  {
   "cell_type": "code",
   "execution_count": 9,
   "metadata": {},
   "outputs": [
    {
     "name": "stdout",
     "output_type": "stream",
     "text": [
      "The data set is shaped as (rows, columns):  (963, 12)\n"
     ]
    }
   ],
   "source": [
    "print(\"The data set is shaped as (rows, columns): \", df.shape)"
   ]
  },
  {
   "cell_type": "markdown",
   "metadata": {},
   "source": [
    "#### 3.2.2 Explore NETPR2 values to ensure they are all within normal range for Benzene with UoM USD/GAL"
   ]
  },
  {
   "cell_type": "code",
   "execution_count": 10,
   "metadata": {},
   "outputs": [
    {
     "data": {
      "text/plain": [
       "count    963.000000\n",
       "mean       2.618766\n",
       "std        2.737180\n",
       "min        0.319500\n",
       "25%        2.110000\n",
       "50%        2.600000\n",
       "75%        2.980000\n",
       "max       84.452385\n",
       "Name: NETPR2, dtype: float64"
      ]
     },
     "execution_count": 10,
     "metadata": {},
     "output_type": "execute_result"
    }
   ],
   "source": [
    "df.NETPR2.describe()"
   ]
  },
  {
   "cell_type": "markdown",
   "metadata": {},
   "source": [
    "We see that there is at least one value for NETPR2 that is out of range with a value of $84/gal. We'll extract the EBELN number and the calculated cost per gallon for any rows > $10/gal"
   ]
  },
  {
   "cell_type": "code",
   "execution_count": 17,
   "metadata": {},
   "outputs": [
    {
     "data": {
      "text/html": [
       "<div>\n",
       "<style scoped>\n",
       "    .dataframe tbody tr th:only-of-type {\n",
       "        vertical-align: middle;\n",
       "    }\n",
       "\n",
       "    .dataframe tbody tr th {\n",
       "        vertical-align: top;\n",
       "    }\n",
       "\n",
       "    .dataframe thead th {\n",
       "        text-align: right;\n",
       "    }\n",
       "</style>\n",
       "<table border=\"1\" class=\"dataframe\">\n",
       "  <thead>\n",
       "    <tr style=\"text-align: right;\">\n",
       "      <th></th>\n",
       "      <th>EBELN</th>\n",
       "      <th>NETPR2</th>\n",
       "    </tr>\n",
       "  </thead>\n",
       "  <tbody>\n",
       "  </tbody>\n",
       "</table>\n",
       "</div>"
      ],
      "text/plain": [
       "Empty DataFrame\n",
       "Columns: [EBELN, NETPR2]\n",
       "Index: []"
      ]
     },
     "execution_count": 17,
     "metadata": {},
     "output_type": "execute_result"
    }
   ],
   "source": [
    "df.loc[df['NETPR2'] >=10, ['EBELN','NETPR2']]"
   ]
  },
  {
   "cell_type": "markdown",
   "metadata": {},
   "source": [
    "Looking at the information for EBLEN = 4800049554 in SAP we find that it was 1 gallon on order with a value of $25,xxx.xx. The notes indicate that this was a true up. We don't anticipate very many of these to exist in the data so we will simply drop any values >$10/gal"
   ]
  },
  {
   "cell_type": "code",
   "execution_count": 12,
   "metadata": {},
   "outputs": [
    {
     "name": "stdout",
     "output_type": "stream",
     "text": [
      "There were  1 rows greater than 10 before processing\n",
      "There were  0 rows greater than 10 after processing.\n",
      "\n",
      "The statistics of the remaining rows are:\n"
     ]
    },
    {
     "data": {
      "text/html": [
       "<div>\n",
       "<style scoped>\n",
       "    .dataframe tbody tr th:only-of-type {\n",
       "        vertical-align: middle;\n",
       "    }\n",
       "\n",
       "    .dataframe tbody tr th {\n",
       "        vertical-align: top;\n",
       "    }\n",
       "\n",
       "    .dataframe thead th {\n",
       "        text-align: right;\n",
       "    }\n",
       "</style>\n",
       "<table border=\"1\" class=\"dataframe\">\n",
       "  <thead>\n",
       "    <tr style=\"text-align: right;\">\n",
       "      <th></th>\n",
       "      <th>NETWR</th>\n",
       "      <th>MENGE</th>\n",
       "      <th>NETPR</th>\n",
       "      <th>NETPR2</th>\n",
       "    </tr>\n",
       "  </thead>\n",
       "  <tbody>\n",
       "    <tr>\n",
       "      <th>count</th>\n",
       "      <td>9.620000e+02</td>\n",
       "      <td>9.620000e+02</td>\n",
       "      <td>9.620000e+02</td>\n",
       "      <td>962.000000</td>\n",
       "    </tr>\n",
       "    <tr>\n",
       "      <th>mean</th>\n",
       "      <td>2.440715e+06</td>\n",
       "      <td>7.949900e+05</td>\n",
       "      <td>1.860869e+04</td>\n",
       "      <td>2.533700</td>\n",
       "    </tr>\n",
       "    <tr>\n",
       "      <th>std</th>\n",
       "      <td>1.616944e+06</td>\n",
       "      <td>5.901480e+05</td>\n",
       "      <td>3.117756e+05</td>\n",
       "      <td>0.724011</td>\n",
       "    </tr>\n",
       "    <tr>\n",
       "      <th>min</th>\n",
       "      <td>3.200000e-01</td>\n",
       "      <td>1.000000e-01</td>\n",
       "      <td>9.000000e-01</td>\n",
       "      <td>0.319500</td>\n",
       "    </tr>\n",
       "    <tr>\n",
       "      <th>25%</th>\n",
       "      <td>1.525594e+06</td>\n",
       "      <td>4.172835e+05</td>\n",
       "      <td>2.340000e+00</td>\n",
       "      <td>2.110000</td>\n",
       "    </tr>\n",
       "    <tr>\n",
       "      <th>50%</th>\n",
       "      <td>2.207069e+06</td>\n",
       "      <td>8.400000e+05</td>\n",
       "      <td>3.790000e+00</td>\n",
       "      <td>2.600000</td>\n",
       "    </tr>\n",
       "    <tr>\n",
       "      <th>75%</th>\n",
       "      <td>2.788800e+06</td>\n",
       "      <td>9.967443e+05</td>\n",
       "      <td>2.780000e+04</td>\n",
       "      <td>2.980000</td>\n",
       "    </tr>\n",
       "    <tr>\n",
       "      <th>max</th>\n",
       "      <td>1.398600e+07</td>\n",
       "      <td>4.200000e+06</td>\n",
       "      <td>9.670303e+06</td>\n",
       "      <td>4.600000</td>\n",
       "    </tr>\n",
       "  </tbody>\n",
       "</table>\n",
       "</div>"
      ],
      "text/plain": [
       "              NETWR         MENGE         NETPR      NETPR2\n",
       "count  9.620000e+02  9.620000e+02  9.620000e+02  962.000000\n",
       "mean   2.440715e+06  7.949900e+05  1.860869e+04    2.533700\n",
       "std    1.616944e+06  5.901480e+05  3.117756e+05    0.724011\n",
       "min    3.200000e-01  1.000000e-01  9.000000e-01    0.319500\n",
       "25%    1.525594e+06  4.172835e+05  2.340000e+00    2.110000\n",
       "50%    2.207069e+06  8.400000e+05  3.790000e+00    2.600000\n",
       "75%    2.788800e+06  9.967443e+05  2.780000e+04    2.980000\n",
       "max    1.398600e+07  4.200000e+06  9.670303e+06    4.600000"
      ]
     },
     "execution_count": 12,
     "metadata": {},
     "output_type": "execute_result"
    }
   ],
   "source": [
    "ULim = 10\n",
    "print(\"There were \", str(len(df[df['NETPR2'] > ULim])), \"rows greater than\", str(ULim), 'before processing')\n",
    "df = df[df['NETPR2'] <= ULim]\n",
    "print(\"There were \", str(len(df[df['NETPR2'] > ULim])), \"rows greater than\", str(ULim), 'after processing.') \n",
    "print('\\nThe statistics of the remaining rows are:')\n",
    "df.describe()"
   ]
  }
 ],
 "metadata": {
  "interpreter": {
   "hash": "bb5848bbb94c62469d14a65c30db01332f25fa6930c7bf154b7b5e2e34ee3709"
  },
  "kernelspec": {
   "display_name": "Python 3.7.11 64-bit ('py37_benzene': conda)",
   "language": "python",
   "name": "python3"
  },
  "language_info": {
   "codemirror_mode": {
    "name": "ipython",
    "version": 3
   },
   "file_extension": ".py",
   "mimetype": "text/x-python",
   "name": "python",
   "nbconvert_exporter": "python",
   "pygments_lexer": "ipython3",
   "version": "3.7.11"
  },
  "orig_nbformat": 4
 },
 "nbformat": 4,
 "nbformat_minor": 2
}
